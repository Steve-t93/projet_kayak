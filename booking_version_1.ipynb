{
 "cells": [
  {
   "cell_type": "code",
   "execution_count": 1,
   "id": "5d2f89a5-0077-4889-8153-f78d36683f35",
   "metadata": {
    "collapsed": true,
    "jupyter": {
     "outputs_hidden": true
    },
    "tags": []
   },
   "outputs": [
    {
     "name": "stdout",
     "output_type": "stream",
     "text": [
      "Collecting scrapy\n",
      "  Using cached Scrapy-2.6.1-py2.py3-none-any.whl (264 kB)\n",
      "Collecting lxml>=3.5.0\n",
      "  Using cached lxml-4.9.0-cp39-cp39-manylinux_2_17_x86_64.manylinux2014_x86_64.manylinux_2_24_x86_64.whl (7.0 MB)\n",
      "Collecting Twisted>=17.9.0\n",
      "  Using cached Twisted-22.4.0-py3-none-any.whl (3.1 MB)\n",
      "Collecting w3lib>=1.17.0\n",
      "  Using cached w3lib-1.22.0-py2.py3-none-any.whl (20 kB)\n",
      "Requirement already satisfied: setuptools in /opt/conda/lib/python3.9/site-packages (from scrapy) (59.8.0)\n",
      "Collecting cssselect>=0.9.1\n",
      "  Using cached cssselect-1.1.0-py2.py3-none-any.whl (16 kB)\n",
      "Collecting service-identity>=16.0.0\n",
      "  Using cached service_identity-21.1.0-py2.py3-none-any.whl (12 kB)\n",
      "Collecting itemloaders>=1.0.1\n",
      "  Using cached itemloaders-1.0.4-py3-none-any.whl (11 kB)\n",
      "Requirement already satisfied: cryptography>=2.0 in /opt/conda/lib/python3.9/site-packages (from scrapy) (36.0.1)\n",
      "Collecting itemadapter>=0.1.0\n",
      "  Using cached itemadapter-0.6.0-py3-none-any.whl (10 kB)\n",
      "Collecting parsel>=1.5.0\n",
      "  Using cached parsel-1.6.0-py2.py3-none-any.whl (13 kB)\n",
      "Collecting queuelib>=1.4.2\n",
      "  Using cached queuelib-1.6.2-py2.py3-none-any.whl (13 kB)\n",
      "Requirement already satisfied: pyOpenSSL>=16.2.0 in /opt/conda/lib/python3.9/site-packages (from scrapy) (22.0.0)\n",
      "Collecting PyDispatcher>=2.0.5\n",
      "  Using cached PyDispatcher-2.0.5-py3-none-any.whl\n",
      "Collecting zope.interface>=4.1.3\n",
      "  Using cached zope.interface-5.4.0-cp39-cp39-manylinux2010_x86_64.whl (255 kB)\n",
      "Collecting tldextract\n",
      "  Using cached tldextract-3.3.0-py3-none-any.whl (93 kB)\n",
      "Collecting protego>=0.1.15\n",
      "  Using cached Protego-0.2.1-py2.py3-none-any.whl (8.2 kB)\n",
      "Requirement already satisfied: cffi>=1.12 in /opt/conda/lib/python3.9/site-packages (from cryptography>=2.0->scrapy) (1.15.0)\n",
      "Collecting jmespath>=0.9.5\n",
      "  Using cached jmespath-1.0.0-py3-none-any.whl (23 kB)\n",
      "Requirement already satisfied: six>=1.6.0 in /opt/conda/lib/python3.9/site-packages (from parsel>=1.5.0->scrapy) (1.16.0)\n",
      "Collecting pyasn1\n",
      "  Using cached pyasn1-0.4.8-py2.py3-none-any.whl (77 kB)\n",
      "Requirement already satisfied: attrs>=19.1.0 in /opt/conda/lib/python3.9/site-packages (from service-identity>=16.0.0->scrapy) (21.4.0)\n",
      "Collecting pyasn1-modules\n",
      "  Using cached pyasn1_modules-0.2.8-py2.py3-none-any.whl (155 kB)\n",
      "Collecting hyperlink>=17.1.1\n",
      "  Using cached hyperlink-21.0.0-py2.py3-none-any.whl (74 kB)\n",
      "Collecting Automat>=0.8.0\n",
      "  Using cached Automat-20.2.0-py2.py3-none-any.whl (31 kB)\n",
      "Collecting incremental>=21.3.0\n",
      "  Using cached incremental-21.3.0-py2.py3-none-any.whl (15 kB)\n",
      "Requirement already satisfied: typing-extensions>=3.6.5 in /opt/conda/lib/python3.9/site-packages (from Twisted>=17.9.0->scrapy) (4.0.1)\n",
      "Collecting constantly>=15.1\n",
      "  Using cached constantly-15.1.0-py2.py3-none-any.whl (7.9 kB)\n",
      "Requirement already satisfied: idna in /opt/conda/lib/python3.9/site-packages (from tldextract->scrapy) (3.3)\n",
      "Collecting requests-file>=1.4\n",
      "  Using cached requests_file-1.5.1-py2.py3-none-any.whl (3.7 kB)\n",
      "Requirement already satisfied: requests>=2.1.0 in /opt/conda/lib/python3.9/site-packages (from tldextract->scrapy) (2.27.1)\n",
      "Collecting filelock>=3.0.8\n",
      "  Using cached filelock-3.7.1-py3-none-any.whl (10 kB)\n",
      "Requirement already satisfied: pycparser in /opt/conda/lib/python3.9/site-packages (from cffi>=1.12->cryptography>=2.0->scrapy) (2.21)\n",
      "Requirement already satisfied: urllib3<1.27,>=1.21.1 in /opt/conda/lib/python3.9/site-packages (from requests>=2.1.0->tldextract->scrapy) (1.26.8)\n",
      "Requirement already satisfied: charset-normalizer~=2.0.0 in /opt/conda/lib/python3.9/site-packages (from requests>=2.1.0->tldextract->scrapy) (2.0.10)\n",
      "Requirement already satisfied: certifi>=2017.4.17 in /opt/conda/lib/python3.9/site-packages (from requests>=2.1.0->tldextract->scrapy) (2021.10.8)\n",
      "Installing collected packages: w3lib, pyasn1, lxml, cssselect, zope.interface, requests-file, pyasn1-modules, parsel, jmespath, itemadapter, incremental, hyperlink, filelock, constantly, Automat, Twisted, tldextract, service-identity, queuelib, PyDispatcher, protego, itemloaders, scrapy\n",
      "Successfully installed Automat-20.2.0 PyDispatcher-2.0.5 Twisted-22.4.0 constantly-15.1.0 cssselect-1.1.0 filelock-3.7.1 hyperlink-21.0.0 incremental-21.3.0 itemadapter-0.6.0 itemloaders-1.0.4 jmespath-1.0.0 lxml-4.9.0 parsel-1.6.0 protego-0.2.1 pyasn1-0.4.8 pyasn1-modules-0.2.8 queuelib-1.6.2 requests-file-1.5.1 scrapy-2.6.1 service-identity-21.1.0 tldextract-3.3.0 w3lib-1.22.0 zope.interface-5.4.0\n"
     ]
    }
   ],
   "source": [
    "!pip install scrapy"
   ]
  },
  {
   "cell_type": "code",
   "execution_count": 1,
   "id": "6e6f8a3c-f926-4071-8c58-ec2106ad5344",
   "metadata": {},
   "outputs": [],
   "source": [
    "import scrapy\n",
    "import os\n",
    "import logging \n",
    "from scrapy.crawler import CrawlerProcess\n",
    "\n",
    "import pandas as pd"
   ]
  },
  {
   "cell_type": "code",
   "execution_count": 2,
   "id": "7c95801c-b564-4b36-8c23-882b67d74e94",
   "metadata": {},
   "outputs": [],
   "source": [
    "hotels = pd.read_json('results/booking.json')"
   ]
  },
  {
   "cell_type": "code",
   "execution_count": 3,
   "id": "3befcbb3-51bd-4a48-8627-8643027fa566",
   "metadata": {},
   "outputs": [
    {
     "data": {
      "text/html": [
       "<div>\n",
       "<style scoped>\n",
       "    .dataframe tbody tr th:only-of-type {\n",
       "        vertical-align: middle;\n",
       "    }\n",
       "\n",
       "    .dataframe tbody tr th {\n",
       "        vertical-align: top;\n",
       "    }\n",
       "\n",
       "    .dataframe thead th {\n",
       "        text-align: right;\n",
       "    }\n",
       "</style>\n",
       "<table border=\"1\" class=\"dataframe\">\n",
       "  <thead>\n",
       "    <tr style=\"text-align: right;\">\n",
       "      <th></th>\n",
       "      <th>hotel_name</th>\n",
       "      <th>url</th>\n",
       "      <th>city</th>\n",
       "      <th>ratings</th>\n",
       "      <th>description</th>\n",
       "    </tr>\n",
       "  </thead>\n",
       "  <tbody>\n",
       "    <tr>\n",
       "      <th>0</th>\n",
       "      <td>Hotel De La Digue</td>\n",
       "      <td>https://www.booking.com/hotel/fr/de-la-digue.f...</td>\n",
       "      <td>Le Mont-Saint-Michel</td>\n",
       "      <td>7,2</td>\n",
       "      <td>L'hôtel De La Digue est un établissement tradi...</td>\n",
       "    </tr>\n",
       "    <tr>\n",
       "      <th>1</th>\n",
       "      <td>Hôtel Vert</td>\n",
       "      <td>https://www.booking.com/hotel/fr/vert.fr.html?...</td>\n",
       "      <td>Le Mont-Saint-Michel</td>\n",
       "      <td>8,1</td>\n",
       "      <td>Situé à 2 km du Mont-Saint-Michel, sur la côte...</td>\n",
       "    </tr>\n",
       "    <tr>\n",
       "      <th>2</th>\n",
       "      <td>Hotel Gabriel</td>\n",
       "      <td>https://www.booking.com/hotel/fr/hotel-gabriel...</td>\n",
       "      <td>Le Mont-Saint-Michel</td>\n",
       "      <td>8,0</td>\n",
       "      <td>L’Hotel Gabriel se trouve à 1,6 km du Mont-Sai...</td>\n",
       "    </tr>\n",
       "    <tr>\n",
       "      <th>3</th>\n",
       "      <td>Les Terrasses Poulard</td>\n",
       "      <td>https://www.booking.com/hotel/fr/les-terrasses...</td>\n",
       "      <td>Le Mont-Saint-Michel</td>\n",
       "      <td>7,3</td>\n",
       "      <td>Occupant 2 bâtiments différents au cœur du Mon...</td>\n",
       "    </tr>\n",
       "    <tr>\n",
       "      <th>4</th>\n",
       "      <td>Le Saint Aubert</td>\n",
       "      <td>https://www.booking.com/hotel/fr/hotel-saint-a...</td>\n",
       "      <td>Le Mont-Saint-Michel</td>\n",
       "      <td>7,2</td>\n",
       "      <td>Niché dans un écrin de verdure, à seulement 2 ...</td>\n",
       "    </tr>\n",
       "  </tbody>\n",
       "</table>\n",
       "</div>"
      ],
      "text/plain": [
       "              hotel_name                                                url  \\\n",
       "0      Hotel De La Digue  https://www.booking.com/hotel/fr/de-la-digue.f...   \n",
       "1             Hôtel Vert  https://www.booking.com/hotel/fr/vert.fr.html?...   \n",
       "2          Hotel Gabriel  https://www.booking.com/hotel/fr/hotel-gabriel...   \n",
       "3  Les Terrasses Poulard  https://www.booking.com/hotel/fr/les-terrasses...   \n",
       "4        Le Saint Aubert  https://www.booking.com/hotel/fr/hotel-saint-a...   \n",
       "\n",
       "                   city ratings  \\\n",
       "0  Le Mont-Saint-Michel     7,2   \n",
       "1  Le Mont-Saint-Michel     8,1   \n",
       "2  Le Mont-Saint-Michel     8,0   \n",
       "3  Le Mont-Saint-Michel     7,3   \n",
       "4  Le Mont-Saint-Michel     7,2   \n",
       "\n",
       "                                         description  \n",
       "0  L'hôtel De La Digue est un établissement tradi...  \n",
       "1  Situé à 2 km du Mont-Saint-Michel, sur la côte...  \n",
       "2  L’Hotel Gabriel se trouve à 1,6 km du Mont-Sai...  \n",
       "3  Occupant 2 bâtiments différents au cœur du Mon...  \n",
       "4  Niché dans un écrin de verdure, à seulement 2 ...  "
      ]
     },
     "execution_count": 3,
     "metadata": {},
     "output_type": "execute_result"
    }
   ],
   "source": [
    "hotels.head()"
   ]
  },
  {
   "cell_type": "code",
   "execution_count": 4,
   "id": "19034168-9b4d-4402-a35c-1f243972b991",
   "metadata": {},
   "outputs": [],
   "source": [
    "url = list(hotels['url'])"
   ]
  },
  {
   "cell_type": "code",
   "execution_count": 5,
   "id": "7a308115-67eb-4ff0-b49f-bc5604a6c886",
   "metadata": {},
   "outputs": [],
   "source": [
    "class Lat_lonSpider(scrapy.Spider):\n",
    "    name = \"lat_lon\"\n",
    "    start_urls = url\n",
    "    \n",
    "    def parse(self, response):\n",
    "        for r in response.css('div.k2-hp--sidebar.bui-grid__column.bui-grid__column-3'):\n",
    "            yield {\n",
    "                'lat/lon': r.css('.jq_tooltip.loc_block_link_underline_fix.map_static_zoom.show_map.map_static_hover.jq_tooltip.map_static_button_hoverstate.maps-more-static-focus.txp-fix-hover::attr(data-atlas-latlng)').get()\n",
    "            }"
   ]
  },
  {
   "cell_type": "code",
   "execution_count": 6,
   "id": "c33aaa3c-e06e-4ace-8983-1857981c6745",
   "metadata": {
    "tags": []
   },
   "outputs": [
    {
     "name": "stderr",
     "output_type": "stream",
     "text": [
      "2022-06-01 22:36:44 [scrapy.utils.log] INFO: Scrapy 2.6.1 started (bot: scrapybot)\n",
      "2022-06-01 22:36:44 [scrapy.utils.log] INFO: Versions: lxml 4.9.0.0, libxml2 2.9.14, cssselect 1.1.0, parsel 1.6.0, w3lib 1.22.0, Twisted 22.4.0, Python 3.9.7 | packaged by conda-forge | (default, Sep 29 2021, 19:20:46) - [GCC 9.4.0], pyOpenSSL 22.0.0 (OpenSSL 1.1.1l  24 Aug 2021), cryptography 36.0.1, Platform Linux-5.4.170+-x86_64-with-glibc2.31\n",
      "2022-06-01 22:36:44 [scrapy.crawler] INFO: Overridden settings:\n",
      "{'AUTOTHROTTLE_ENABLED': True,\n",
      " 'AUTOTHROTTLE_MAX_DELAY': 6,\n",
      " 'AUTOTHROTTLE_START_DELAY': 3,\n",
      " 'LOG_LEVEL': 20,\n",
      " 'USER_AGENT': 'Mozilla/5.0 (Windows NT 10.0; Win64; x64; rv:91.0) '\n",
      "               'Gecko/20100101 Firefox/91.0'}\n",
      "2022-06-01 22:36:44 [scrapy.extensions.telnet] INFO: Telnet Password: 3ddbb8b0b0cb2ebb\n",
      "2022-06-01 22:36:44 [scrapy.middleware] INFO: Enabled extensions:\n",
      "['scrapy.extensions.corestats.CoreStats',\n",
      " 'scrapy.extensions.telnet.TelnetConsole',\n",
      " 'scrapy.extensions.memusage.MemoryUsage',\n",
      " 'scrapy.extensions.feedexport.FeedExporter',\n",
      " 'scrapy.extensions.logstats.LogStats',\n",
      " 'scrapy.extensions.throttle.AutoThrottle']\n",
      "2022-06-01 22:36:44 [scrapy.middleware] INFO: Enabled downloader middlewares:\n",
      "['scrapy.downloadermiddlewares.httpauth.HttpAuthMiddleware',\n",
      " 'scrapy.downloadermiddlewares.downloadtimeout.DownloadTimeoutMiddleware',\n",
      " 'scrapy.downloadermiddlewares.defaultheaders.DefaultHeadersMiddleware',\n",
      " 'scrapy.downloadermiddlewares.useragent.UserAgentMiddleware',\n",
      " 'scrapy.downloadermiddlewares.retry.RetryMiddleware',\n",
      " 'scrapy.downloadermiddlewares.redirect.MetaRefreshMiddleware',\n",
      " 'scrapy.downloadermiddlewares.httpcompression.HttpCompressionMiddleware',\n",
      " 'scrapy.downloadermiddlewares.redirect.RedirectMiddleware',\n",
      " 'scrapy.downloadermiddlewares.cookies.CookiesMiddleware',\n",
      " 'scrapy.downloadermiddlewares.httpproxy.HttpProxyMiddleware',\n",
      " 'scrapy.downloadermiddlewares.stats.DownloaderStats']\n",
      "2022-06-01 22:36:44 [scrapy.middleware] INFO: Enabled spider middlewares:\n",
      "['scrapy.spidermiddlewares.httperror.HttpErrorMiddleware',\n",
      " 'scrapy.spidermiddlewares.offsite.OffsiteMiddleware',\n",
      " 'scrapy.spidermiddlewares.referer.RefererMiddleware',\n",
      " 'scrapy.spidermiddlewares.urllength.UrlLengthMiddleware',\n",
      " 'scrapy.spidermiddlewares.depth.DepthMiddleware']\n",
      "2022-06-01 22:36:44 [scrapy.middleware] INFO: Enabled item pipelines:\n",
      "[]\n",
      "2022-06-01 22:36:44 [scrapy.core.engine] INFO: Spider opened\n",
      "2022-06-01 22:36:44 [scrapy.extensions.logstats] INFO: Crawled 0 pages (at 0 pages/min), scraped 0 items (at 0 items/min)\n",
      "2022-06-01 22:36:44 [scrapy.extensions.telnet] INFO: Telnet console listening on 127.0.0.1:6023\n",
      "2022-06-01 22:37:44 [scrapy.extensions.logstats] INFO: Crawled 51 pages (at 51 pages/min), scraped 51 items (at 51 items/min)\n",
      "2022-06-01 22:38:44 [scrapy.extensions.logstats] INFO: Crawled 105 pages (at 54 pages/min), scraped 105 items (at 54 items/min)\n",
      "2022-06-01 22:39:44 [scrapy.extensions.logstats] INFO: Crawled 159 pages (at 54 pages/min), scraped 159 items (at 54 items/min)\n",
      "2022-06-01 22:40:44 [scrapy.extensions.logstats] INFO: Crawled 212 pages (at 53 pages/min), scraped 212 items (at 53 items/min)\n",
      "2022-06-01 22:41:44 [scrapy.extensions.logstats] INFO: Crawled 268 pages (at 56 pages/min), scraped 268 items (at 56 items/min)\n",
      "2022-06-01 22:42:44 [scrapy.extensions.logstats] INFO: Crawled 321 pages (at 53 pages/min), scraped 321 items (at 53 items/min)\n",
      "2022-06-01 22:43:44 [scrapy.extensions.logstats] INFO: Crawled 376 pages (at 55 pages/min), scraped 376 items (at 55 items/min)\n",
      "2022-06-01 22:44:44 [scrapy.extensions.logstats] INFO: Crawled 429 pages (at 53 pages/min), scraped 429 items (at 53 items/min)\n",
      "2022-06-01 22:45:44 [scrapy.extensions.logstats] INFO: Crawled 480 pages (at 51 pages/min), scraped 480 items (at 51 items/min)\n",
      "2022-06-01 22:46:44 [scrapy.extensions.logstats] INFO: Crawled 530 pages (at 50 pages/min), scraped 530 items (at 50 items/min)\n",
      "2022-06-01 22:47:44 [scrapy.extensions.logstats] INFO: Crawled 585 pages (at 55 pages/min), scraped 585 items (at 55 items/min)\n",
      "2022-06-01 22:48:44 [scrapy.extensions.logstats] INFO: Crawled 640 pages (at 55 pages/min), scraped 640 items (at 55 items/min)\n",
      "2022-06-01 22:49:44 [scrapy.extensions.logstats] INFO: Crawled 699 pages (at 59 pages/min), scraped 699 items (at 59 items/min)\n",
      "2022-06-01 22:50:44 [scrapy.extensions.logstats] INFO: Crawled 756 pages (at 57 pages/min), scraped 756 items (at 57 items/min)\n",
      "2022-06-01 22:51:44 [scrapy.extensions.logstats] INFO: Crawled 808 pages (at 52 pages/min), scraped 808 items (at 52 items/min)\n",
      "2022-06-01 22:52:44 [scrapy.extensions.logstats] INFO: Crawled 864 pages (at 56 pages/min), scraped 864 items (at 56 items/min)\n",
      "2022-06-01 22:52:56 [scrapy.core.engine] INFO: Closing spider (finished)\n",
      "2022-06-01 22:52:56 [scrapy.extensions.feedexport] INFO: Stored json feed (875 items) in: results/lat-lon.json\n",
      "2022-06-01 22:52:56 [scrapy.statscollectors] INFO: Dumping Scrapy stats:\n",
      "{'downloader/request_bytes': 862070,\n",
      " 'downloader/request_count': 875,\n",
      " 'downloader/request_method_count/GET': 875,\n",
      " 'downloader/response_bytes': 191823931,\n",
      " 'downloader/response_count': 875,\n",
      " 'downloader/response_status_count/200': 875,\n",
      " 'elapsed_time_seconds': 971.285928,\n",
      " 'feedexport/success_count/FileFeedStorage': 1,\n",
      " 'finish_reason': 'finished',\n",
      " 'finish_time': datetime.datetime(2022, 6, 1, 22, 52, 56, 209691),\n",
      " 'httpcompression/response_bytes': 1143452762,\n",
      " 'httpcompression/response_count': 875,\n",
      " 'item_scraped_count': 875,\n",
      " 'log_count/INFO': 27,\n",
      " 'memusage/max': 458006528,\n",
      " 'memusage/startup': 176758784,\n",
      " 'response_received_count': 875,\n",
      " 'scheduler/dequeued': 875,\n",
      " 'scheduler/dequeued/memory': 875,\n",
      " 'scheduler/enqueued': 875,\n",
      " 'scheduler/enqueued/memory': 875,\n",
      " 'start_time': datetime.datetime(2022, 6, 1, 22, 36, 44, 923763)}\n",
      "2022-06-01 22:52:56 [scrapy.core.engine] INFO: Spider closed (finished)\n"
     ]
    }
   ],
   "source": [
    "# Name of the file where the results will be saved\n",
    "filename = \"lat-lon.json\"\n",
    "\n",
    "# If file already exists, delete it before crawling (because Scrapy will concatenate the last and new results otherwise)\n",
    "if filename in os.listdir('results/'):\n",
    "        os.remove('results/' + filename)\n",
    "\n",
    "# Declare a new CrawlerProcess with some settings\n",
    "process = CrawlerProcess(settings = {\n",
    "    'USER_AGENT': 'Mozilla/5.0 (Windows NT 10.0; Win64; x64; rv:91.0) Gecko/20100101 Firefox/91.0',\n",
    "    'LOG_LEVEL': logging.INFO,\n",
    "    'AUTOTHROTTLE_ENABLED' : True,\n",
    "    'AUTOTHROTTLE_START_DELAY' : 3,\n",
    "    'AUTOTHROTTLE_MAX_DELAY' : 6,\n",
    "    \"FEEDS\": {\n",
    "        'results/' + filename : {\"format\": \"json\"},\n",
    "    }\n",
    "})\n",
    "\n",
    "# Start the crawling using the spider you defined above\n",
    "process.crawl(Lat_lonSpider)\n",
    "process.start()"
   ]
  },
  {
   "cell_type": "code",
   "execution_count": 6,
   "id": "4038185b-9530-4859-8912-9d92e61f1f4d",
   "metadata": {},
   "outputs": [],
   "source": [
    "latlng = pd.read_json('results/lat-lon.json')"
   ]
  },
  {
   "cell_type": "code",
   "execution_count": 7,
   "id": "74297f7e-9b0d-4ca7-a3e2-80c53ac9f82d",
   "metadata": {},
   "outputs": [],
   "source": [
    "latlng = latlng['lat/lon'].str.split(',', expand=True)"
   ]
  },
  {
   "cell_type": "code",
   "execution_count": 8,
   "id": "3bd0f1e3-ef2c-49ed-91dd-49139b995912",
   "metadata": {},
   "outputs": [],
   "source": [
    "latlng.columns = [['lat', 'lon']]"
   ]
  },
  {
   "cell_type": "code",
   "execution_count": 9,
   "id": "35f51deb-cff0-497a-a5b7-98287b4d2b51",
   "metadata": {},
   "outputs": [
    {
     "data": {
      "text/html": [
       "<div>\n",
       "<style scoped>\n",
       "    .dataframe tbody tr th:only-of-type {\n",
       "        vertical-align: middle;\n",
       "    }\n",
       "\n",
       "    .dataframe tbody tr th {\n",
       "        vertical-align: top;\n",
       "    }\n",
       "\n",
       "    .dataframe thead tr th {\n",
       "        text-align: left;\n",
       "    }\n",
       "</style>\n",
       "<table border=\"1\" class=\"dataframe\">\n",
       "  <thead>\n",
       "    <tr>\n",
       "      <th></th>\n",
       "      <th>lat</th>\n",
       "      <th>lon</th>\n",
       "    </tr>\n",
       "  </thead>\n",
       "  <tbody>\n",
       "    <tr>\n",
       "      <th>0</th>\n",
       "      <td>48.61688155</td>\n",
       "      <td>-1.51091784</td>\n",
       "    </tr>\n",
       "    <tr>\n",
       "      <th>1</th>\n",
       "      <td>48.61470049</td>\n",
       "      <td>-1.50961697</td>\n",
       "    </tr>\n",
       "    <tr>\n",
       "      <th>2</th>\n",
       "      <td>48.61538141</td>\n",
       "      <td>-1.51070997</td>\n",
       "    </tr>\n",
       "    <tr>\n",
       "      <th>3</th>\n",
       "      <td>48.63534943</td>\n",
       "      <td>-1.51037872</td>\n",
       "    </tr>\n",
       "    <tr>\n",
       "      <th>4</th>\n",
       "      <td>48.61293783</td>\n",
       "      <td>-1.51010513</td>\n",
       "    </tr>\n",
       "    <tr>\n",
       "      <th>...</th>\n",
       "      <td>...</td>\n",
       "      <td>...</td>\n",
       "    </tr>\n",
       "    <tr>\n",
       "      <th>870</th>\n",
       "      <td>46.15701983</td>\n",
       "      <td>-1.15412772</td>\n",
       "    </tr>\n",
       "    <tr>\n",
       "      <th>871</th>\n",
       "      <td>46.15809741</td>\n",
       "      <td>-1.15036190</td>\n",
       "    </tr>\n",
       "    <tr>\n",
       "      <th>872</th>\n",
       "      <td>46.16142150</td>\n",
       "      <td>-1.14916220</td>\n",
       "    </tr>\n",
       "    <tr>\n",
       "      <th>873</th>\n",
       "      <td>46.16270478</td>\n",
       "      <td>-1.16061062</td>\n",
       "    </tr>\n",
       "    <tr>\n",
       "      <th>874</th>\n",
       "      <td>46.16193939</td>\n",
       "      <td>-1.15085542</td>\n",
       "    </tr>\n",
       "  </tbody>\n",
       "</table>\n",
       "<p>875 rows × 2 columns</p>\n",
       "</div>"
      ],
      "text/plain": [
       "             lat          lon\n",
       "0    48.61688155  -1.51091784\n",
       "1    48.61470049  -1.50961697\n",
       "2    48.61538141  -1.51070997\n",
       "3    48.63534943  -1.51037872\n",
       "4    48.61293783  -1.51010513\n",
       "..           ...          ...\n",
       "870  46.15701983  -1.15412772\n",
       "871  46.15809741  -1.15036190\n",
       "872  46.16142150  -1.14916220\n",
       "873  46.16270478  -1.16061062\n",
       "874  46.16193939  -1.15085542\n",
       "\n",
       "[875 rows x 2 columns]"
      ]
     },
     "execution_count": 9,
     "metadata": {},
     "output_type": "execute_result"
    }
   ],
   "source": [
    "latlng"
   ]
  },
  {
   "cell_type": "code",
   "execution_count": 10,
   "id": "fa6a8de4-29ea-4b51-8e9b-f610f4812bcc",
   "metadata": {},
   "outputs": [],
   "source": [
    "hotels['lat'] = latlng['lat']\n",
    "hotels['lon'] = latlng['lon']"
   ]
  },
  {
   "cell_type": "code",
   "execution_count": 11,
   "id": "66104425-1b08-40e5-b115-7492ba779c08",
   "metadata": {},
   "outputs": [],
   "source": [
    "hotels = hotels[['hotel_name','city','lat','lon','ratings','description','url']]"
   ]
  },
  {
   "cell_type": "code",
   "execution_count": 12,
   "id": "de502a17-f143-4ac9-b8af-de836889ed46",
   "metadata": {},
   "outputs": [
    {
     "name": "stdout",
     "output_type": "stream",
     "text": [
      "Sillon, Saint-Malo\n",
      "Saint-Malo\n",
      "La Cité, Saint-Malo\n",
      "Paramé, Saint-Malo\n",
      "Saint-Servan, Saint-Malo\n",
      "Intra muros, Saint-Malo\n"
     ]
    }
   ],
   "source": [
    "for x in hotels['city'].unique():\n",
    "    if 'Malo' in x:\n",
    "        print(x)"
   ]
  },
  {
   "cell_type": "code",
   "execution_count": 13,
   "id": "41def543-9416-45c4-8ebe-13bf208593cc",
   "metadata": {},
   "outputs": [],
   "source": [
    "cities = [\"Mont Saint Michel\",\"St Malo\",\"Bayeux\",\"Le Havre\",\"Rouen\",\"Paris\",\"Amiens\",\"Lille\",\"Strasbourg\",\"Chateau du Haut Koenigsbourg\",\n",
    "\"Colmar\",\"Eguisheim\",\"Besançon\",\"Dijon\",\"Annecy\",\"Grenoble\",\"Lyon\",\"Gorges du Verdon\",\"Bormes les Mimosas\",\"Cassis\",\"Marseille\",\"Aix en Provence\",\n",
    "\"Avignon\",\"Uzes\",\"Nimes\",\"Aigues Mortes\",\"Saintes Maries de la mer\",\"Collioure\",\"Carcassonne\",\"Ariege\",\"Toulouse\",\"Montauban\",\"Biarritz\",\"Bayonne\",\n",
    "\"La Rochelle\"] #la liste des villes dont nous allons chercher les informations"
   ]
  },
  {
   "cell_type": "code",
   "execution_count": 14,
   "id": "512e3e1b-f47c-44d5-ad8f-d00ed958d7cb",
   "metadata": {},
   "outputs": [],
   "source": [
    "hotels['city'] = hotels['city'].replace('Le Mont-Saint-Michel','Mont Saint Michel')"
   ]
  },
  {
   "cell_type": "code",
   "execution_count": 15,
   "id": "8b995e40-6d80-49fe-b780-105a02e65eaa",
   "metadata": {},
   "outputs": [],
   "source": [
    "for x in hotels['city'].unique():\n",
    "    for y in cities:\n",
    "        if y in x:\n",
    "            x = y"
   ]
  },
  {
   "cell_type": "code",
   "execution_count": 16,
   "id": "ed77e26a-83b9-4da9-803f-19937f30696a",
   "metadata": {},
   "outputs": [],
   "source": [
    "cities_simplified = [\"Michel\",\"Malo\",\"Bayeux\",\"Havre\",\"Rouen\",\"Paris\",\"Amiens\",\"Lille\",\"Strasbourg\",\"Koenigsbourg\",\"Colmar\",\"Eguisheim\",\"Besançon\",\"Dijon\",\"Annecy\",\"Grenoble\",\"Lyon\",\"Verdon\",\"Mimosas\",\"Cassis\",\"Marseille\",\n",
    "\"Aix\",\"Avignon\",\"Uzes\",\"Nimes\",\"Aigues\", \"Maries\",\"Collioure\",\"Carcassonne\",\"Ariege\",\"Toulouse\",\"Montauban\",\"Biarritz\",\"Bayonne\",\"Rochelle\"]"
   ]
  },
  {
   "cell_type": "code",
   "execution_count": 17,
   "id": "8c1a2198-9c42-4baa-b962-5ce823e5e6d1",
   "metadata": {
    "tags": []
   },
   "outputs": [],
   "source": [
    "cities_to_clean = list(hotels['city'].unique())"
   ]
  },
  {
   "cell_type": "code",
   "execution_count": 18,
   "id": "29cde3f2-9e51-400b-b565-337262096ed4",
   "metadata": {},
   "outputs": [],
   "source": [
    "for x in range(len(cities_simplified)):\n",
    "    for y in cities_to_clean:\n",
    "        if cities_simplified[x] in y:\n",
    "            hotels['city'] = hotels['city'].replace(y, cities[x]) #je remplace les noms de villes obtenues lors du scraping par le nom des villes da ma liste ex: "
   ]
  },
  {
   "cell_type": "code",
   "execution_count": 19,
   "id": "f965aac6-5287-4d46-9cca-be28df8ac2fd",
   "metadata": {},
   "outputs": [],
   "source": [
    "cities_to_del = []\n",
    "\n",
    "for x in hotels['city'].unique():\n",
    "    if x not in cities:\n",
    "        cities_to_del.append(x)"
   ]
  },
  {
   "cell_type": "code",
   "execution_count": 20,
   "id": "6eadbdb3-ec85-4901-be6f-68d16cf12484",
   "metadata": {},
   "outputs": [],
   "source": [
    "for x in range(len(hotels)):\n",
    "    if hotels['city'][x] in cities_to_del:\n",
    "        hotels = hotels.drop(x,axis=0)"
   ]
  },
  {
   "cell_type": "code",
   "execution_count": 21,
   "id": "349f5956-c0b4-424c-844c-2bc43881af28",
   "metadata": {},
   "outputs": [
    {
     "name": "stdout",
     "output_type": "stream",
     "text": [
      "746\n"
     ]
    }
   ],
   "source": [
    "print(len(hotels))"
   ]
  },
  {
   "cell_type": "code",
   "execution_count": 22,
   "id": "564ed21e-210c-48ac-92cf-7cdf72d9e236",
   "metadata": {},
   "outputs": [
    {
     "data": {
      "text/html": [
       "<div>\n",
       "<style scoped>\n",
       "    .dataframe tbody tr th:only-of-type {\n",
       "        vertical-align: middle;\n",
       "    }\n",
       "\n",
       "    .dataframe tbody tr th {\n",
       "        vertical-align: top;\n",
       "    }\n",
       "\n",
       "    .dataframe thead th {\n",
       "        text-align: right;\n",
       "    }\n",
       "</style>\n",
       "<table border=\"1\" class=\"dataframe\">\n",
       "  <thead>\n",
       "    <tr style=\"text-align: right;\">\n",
       "      <th></th>\n",
       "      <th>hotel_name</th>\n",
       "      <th>city</th>\n",
       "      <th>lat</th>\n",
       "      <th>lon</th>\n",
       "      <th>ratings</th>\n",
       "      <th>description</th>\n",
       "      <th>url</th>\n",
       "    </tr>\n",
       "  </thead>\n",
       "  <tbody>\n",
       "    <tr>\n",
       "      <th>43</th>\n",
       "      <td>Le Blue Note by Cocoonr - Bel appartement de s...</td>\n",
       "      <td>St Malo</td>\n",
       "      <td>48.65068090</td>\n",
       "      <td>-2.02432110</td>\n",
       "      <td>9,8</td>\n",
       "      <td>Le Blue Note by Cocoonr - Bel appartement de s...</td>\n",
       "      <td>https://www.booking.com/hotel/fr/le-blue-note-...</td>\n",
       "    </tr>\n",
       "    <tr>\n",
       "      <th>25</th>\n",
       "      <td>Résidence Quai Sud- Le Charcot</td>\n",
       "      <td>St Malo</td>\n",
       "      <td>48.65172091</td>\n",
       "      <td>-2.01660376</td>\n",
       "      <td>9,4</td>\n",
       "      <td>La Résidence Quai Sud- Le Charcot vous accueil...</td>\n",
       "      <td>https://www.booking.com/hotel/fr/residence-qua...</td>\n",
       "    </tr>\n",
       "    <tr>\n",
       "      <th>34</th>\n",
       "      <td>L'AccrocheCoeur</td>\n",
       "      <td>St Malo</td>\n",
       "      <td>48.64813700</td>\n",
       "      <td>-2.02706500</td>\n",
       "      <td>9,4</td>\n",
       "      <td>Établissement Voyage Durable</td>\n",
       "      <td>https://www.booking.com/hotel/fr/l-39-accroche...</td>\n",
       "    </tr>\n",
       "    <tr>\n",
       "      <th>29</th>\n",
       "      <td>Appartement Confortable proche de la Gare a Sa...</td>\n",
       "      <td>St Malo</td>\n",
       "      <td>48.64883480</td>\n",
       "      <td>-1.99203370</td>\n",
       "      <td>9,1</td>\n",
       "      <td>Hébergement géré par un particulier</td>\n",
       "      <td>https://www.booking.com/hotel/fr/appartement-c...</td>\n",
       "    </tr>\n",
       "    <tr>\n",
       "      <th>35</th>\n",
       "      <td>Hôtel Le Nautilus</td>\n",
       "      <td>St Malo</td>\n",
       "      <td>48.65072706</td>\n",
       "      <td>-2.02494547</td>\n",
       "      <td>9,1</td>\n",
       "      <td>L'Hôtel Le Nautilus occupe un bâtiment rénové ...</td>\n",
       "      <td>https://www.booking.com/hotel/fr/le-nautilus.f...</td>\n",
       "    </tr>\n",
       "  </tbody>\n",
       "</table>\n",
       "</div>"
      ],
      "text/plain": [
       "                                           hotel_name     city          lat  \\\n",
       "43  Le Blue Note by Cocoonr - Bel appartement de s...  St Malo  48.65068090   \n",
       "25                     Résidence Quai Sud- Le Charcot  St Malo  48.65172091   \n",
       "34                                    L'AccrocheCoeur  St Malo  48.64813700   \n",
       "29  Appartement Confortable proche de la Gare a Sa...  St Malo  48.64883480   \n",
       "35                                  Hôtel Le Nautilus  St Malo  48.65072706   \n",
       "\n",
       "            lon ratings                                        description  \\\n",
       "43  -2.02432110     9,8  Le Blue Note by Cocoonr - Bel appartement de s...   \n",
       "25  -2.01660376     9,4  La Résidence Quai Sud- Le Charcot vous accueil...   \n",
       "34  -2.02706500     9,4                       Établissement Voyage Durable   \n",
       "29  -1.99203370     9,1                Hébergement géré par un particulier   \n",
       "35  -2.02494547     9,1  L'Hôtel Le Nautilus occupe un bâtiment rénové ...   \n",
       "\n",
       "                                                  url  \n",
       "43  https://www.booking.com/hotel/fr/le-blue-note-...  \n",
       "25  https://www.booking.com/hotel/fr/residence-qua...  \n",
       "34  https://www.booking.com/hotel/fr/l-39-accroche...  \n",
       "29  https://www.booking.com/hotel/fr/appartement-c...  \n",
       "35  https://www.booking.com/hotel/fr/le-nautilus.f...  "
      ]
     },
     "execution_count": 22,
     "metadata": {},
     "output_type": "execute_result"
    }
   ],
   "source": [
    "hotels[hotels['city']=='St Malo'].sort_values(by='ratings', ascending=False).head(5) #les 5 meilleurs hotels pour St Malo"
   ]
  },
  {
   "cell_type": "code",
   "execution_count": 23,
   "id": "f993229f-0f1b-4cbf-a6c9-3a3a2e378092",
   "metadata": {
    "tags": []
   },
   "outputs": [],
   "source": [
    "best_hotels = []\n",
    "for city in cities:\n",
    "    best_hotels.append(list(hotels[hotels['city']==city].sort_values(by='ratings', ascending=False).head(3)['hotel_name'])) #mon top 5 des hotels par ville"
   ]
  },
  {
   "cell_type": "code",
   "execution_count": 24,
   "id": "d003364f-2054-45b0-8026-de648f282265",
   "metadata": {},
   "outputs": [
    {
     "name": "stdout",
     "output_type": "stream",
     "text": [
      "['Mercure Mont Saint Michel', 'Hôtel Vert', 'Auberge Saint Pierre']\n"
     ]
    }
   ],
   "source": [
    "type(best_hotels[0])\n",
    "print(best_hotels[0])"
   ]
  },
  {
   "cell_type": "code",
   "execution_count": 25,
   "id": "880df9f5-7352-46e1-8b1b-20dc7dd2af6b",
   "metadata": {
    "collapsed": true,
    "jupyter": {
     "outputs_hidden": true
    },
    "tags": []
   },
   "outputs": [
    {
     "name": "stdout",
     "output_type": "stream",
     "text": [
      "['Mercure Mont Saint Michel', 'Hôtel Vert', 'Auberge Saint Pierre']\n",
      "['Le Blue Note by Cocoonr - Bel appartement de standing', 'Résidence Quai Sud- Le Charcot', \"L'AccrocheCoeur\"]\n",
      "['Château Saint Gilles', 'Manoir Sainte Victoire', 'Clos de Bellefontaine B&B']\n",
      "['Le Valmer', 'Foch', 'Hilton Garden Inn Le Havre Centre']\n",
      "['Superbe appartement dans le quartier de la gare', 'Nuit Zen Rouen - Jacuzzi - Centre Historique', 'Gîte Beffroy']\n",
      "['My Opéra', 'Chambre d hôte : Louvre Elegant Apt Suite', 'Residhome Toulouse Ponts Jumeaux']\n",
      "['Maison Longuevie', 'Amiens LOFT', 'Appartement centre ville - parking privé gratuit']\n",
      "['Appartement terrasse 4personnes rue de jemmapes', 'OKKO Hotels Lille Centre', 'Hôtel Barrière Lille']\n",
      "['Carpe Diem Home - Au pied de la Cathédrale', 'Hôtel Tandem - Boutique Hôtel', 'Hôtel ORIGAMI']\n",
      "[]\n",
      "['SERENITY Colmar - Gîtes de Prestige 4 et 5 étoiles - 2, 4 et 6 personnes- Centre Historique', 'Le 8 de Cœur - Garage privé sur demande', 'LA CLE DES TOITS']\n",
      "['La Grange de Madeleine', 'Gîte au château fleuri', 'Studio Eguisheim']\n",
      "[\"L'adresse à Besançon\", 'Hôtel Restaurant Spa Le Sauvage', 'Hôtel de Paris']\n",
      "['IDÉAL ART DÉCO parking privé sécurisé Darcy Liberté centre gare-ville', 'Hôtel des Halles', 'Aparthotel Adagio Access Dijon République']\n",
      "['Le Luxury Design de la Vieille Ville', 'Le Reflet du Lac', \"L'escalier du Château - T4 duplex 9 couchages\"]\n",
      "['Hôtel Victoria', 'Le Grand Hôtel Grenoble', '1924 Hôtel']\n",
      "['Confort - Appartement 2beapart', 'Quai-Royale', 'La Nuit Saint Georges']\n",
      "[\"Château d'Esparron\", 'Ferme de Bourras']\n",
      "['HomeStay Bormes', 'Villa Les Cents Cyprès', 'Oustaou di Ercole']\n",
      "['T2 VUE IMPRENABLE SUR CASSIS', 'SunRise Cassis', 'SunSet Cassis']\n",
      "['Les Appartements du Vieux Port', 'Les marches de St Charles - 100M2', 'Le Plaisir 1827']\n",
      "['B&B Villa Roumanille', 'Domaine de Carraire', 'Aparthotel Adagio Aix-en-Provence Centre']\n",
      "['La Maison Grivolas', 'Maison XIXe et Jardin en Intramuros', 'Clos des Arts Suspendus']\n",
      "[]\n",
      "['Maison Albar Hotels L’Imperator', \"Hôtel De L'Amphithéâtre\", 'Royal Hôtel']\n",
      "['Au Cœur des Remparts', 'Appartements 3 étoiles terrasse ou patio intra-muros', 'Boutique Hôtel des Remparts & Spa']\n",
      "['Mas le Sauvageon', 'La Tramontane', 'Les Saintes au bord de mer']\n",
      "[\"L'équinoxe\", 'SAPHIR - Superbe T2 Vue Mer et Montagne avec Piscine et Garage privé', 'BEL APPART COLLIOURE proche gare, centre et plage']\n",
      "['Carcassonne Guesthouse', 'Carcassonne Townhouse', 'Domaine Le Couvent']\n",
      "[]\n",
      "['Les Toits du Capitole - Loft de standing 65 m2 - Parking en option', '404 · Wonder Appart - Vue Garonne -', 'Résidence Bachelier']\n",
      "[\"Manoir de la Gravette Maison & Table d'Hôtes\", 'Cosy Red 4 Pers - Neuf et au Calme - Fibre-Netflix', 'Castel Bois Marie']\n",
      "['VILLA MARGA', 'Hotel Saint Julien', 'Hôtel Au Bon Coin']\n",
      "[\"La Chambre d'Hote de Mano - Centre-ville de Bayonne\", 'Péniche DJEBELLE', 'Parc 709 Bayonne']\n",
      "['Les Halles 2', 'Les Halles 1', 'Central Park Hôtel & Spa']\n"
     ]
    }
   ],
   "source": [
    "for hotel in range(len(best_hotels)):\n",
    "    print(best_hotels[hotel])"
   ]
  },
  {
   "cell_type": "code",
   "execution_count": 26,
   "id": "bc45e845-764c-4956-92f8-d13058b9cd3b",
   "metadata": {},
   "outputs": [],
   "source": [
    "list_best_hotels = []\n",
    "for x in best_hotels:\n",
    "    for y in x:\n",
    "        list_best_hotels.append(y)"
   ]
  },
  {
   "cell_type": "code",
   "execution_count": 27,
   "id": "9bd3db01-ffc0-4e32-ac3b-cd37a7ebba8c",
   "metadata": {},
   "outputs": [],
   "source": [
    "hotels.reset_index(drop=True, inplace=True)"
   ]
  },
  {
   "cell_type": "code",
   "execution_count": 28,
   "id": "43908f24-214b-48ab-8b92-13d2f17418d7",
   "metadata": {},
   "outputs": [],
   "source": [
    "non_top_rows = []\n",
    "for x in range(len(hotels)):\n",
    "    if hotels['hotel_name'][x] not in list_best_hotels:\n",
    "        non_top_rows.append(x)"
   ]
  },
  {
   "cell_type": "code",
   "execution_count": 29,
   "id": "6f8e61e3-2ddf-4a6b-ae83-e0834e6e0e2b",
   "metadata": {},
   "outputs": [
    {
     "name": "stdout",
     "output_type": "stream",
     "text": [
      "651\n"
     ]
    }
   ],
   "source": [
    "print(len(non_top_rows))"
   ]
  },
  {
   "cell_type": "code",
   "execution_count": 30,
   "id": "154cecc0-3413-4773-8b9f-1131891aeb7a",
   "metadata": {
    "tags": []
   },
   "outputs": [],
   "source": [
    "top_hotels = hotels.drop(non_top_rows, axis=0)"
   ]
  },
  {
   "cell_type": "code",
   "execution_count": 31,
   "id": "e2fafbe0-357f-491d-8e70-a541c4536706",
   "metadata": {},
   "outputs": [],
   "source": [
    "top_hotels.reset_index(drop=True, inplace=True)"
   ]
  },
  {
   "cell_type": "code",
   "execution_count": 32,
   "id": "5ac33587-4852-465b-b416-0af0b3fdb586",
   "metadata": {
    "collapsed": true,
    "jupyter": {
     "outputs_hidden": true
    },
    "tags": []
   },
   "outputs": [
    {
     "data": {
      "text/html": [
       "<div>\n",
       "<style scoped>\n",
       "    .dataframe tbody tr th:only-of-type {\n",
       "        vertical-align: middle;\n",
       "    }\n",
       "\n",
       "    .dataframe tbody tr th {\n",
       "        vertical-align: top;\n",
       "    }\n",
       "\n",
       "    .dataframe thead th {\n",
       "        text-align: right;\n",
       "    }\n",
       "</style>\n",
       "<table border=\"1\" class=\"dataframe\">\n",
       "  <thead>\n",
       "    <tr style=\"text-align: right;\">\n",
       "      <th></th>\n",
       "      <th>hotel_name</th>\n",
       "      <th>city</th>\n",
       "      <th>lat</th>\n",
       "      <th>lon</th>\n",
       "      <th>ratings</th>\n",
       "      <th>description</th>\n",
       "      <th>url</th>\n",
       "    </tr>\n",
       "  </thead>\n",
       "  <tbody>\n",
       "    <tr>\n",
       "      <th>0</th>\n",
       "      <td>Hôtel Vert</td>\n",
       "      <td>Mont Saint Michel</td>\n",
       "      <td>48.61470049</td>\n",
       "      <td>-1.50961697</td>\n",
       "      <td>8,1</td>\n",
       "      <td>Situé à 2 km du Mont-Saint-Michel, sur la côte...</td>\n",
       "      <td>https://www.booking.com/hotel/fr/vert.fr.html?...</td>\n",
       "    </tr>\n",
       "    <tr>\n",
       "      <th>1</th>\n",
       "      <td>Mercure Mont Saint Michel</td>\n",
       "      <td>Mont Saint Michel</td>\n",
       "      <td>48.61424653</td>\n",
       "      <td>-1.51054502</td>\n",
       "      <td>8,2</td>\n",
       "      <td>Installé dans des espaces verts à seulement 2 ...</td>\n",
       "      <td>https://www.booking.com/hotel/fr/mont-saint-mi...</td>\n",
       "    </tr>\n",
       "    <tr>\n",
       "      <th>2</th>\n",
       "      <td>Auberge Saint Pierre</td>\n",
       "      <td>Mont Saint Michel</td>\n",
       "      <td>48.63568798</td>\n",
       "      <td>-1.50988251</td>\n",
       "      <td>8,1</td>\n",
       "      <td>L'Auberge Saint-Pierre occupe une maison à col...</td>\n",
       "      <td>https://www.booking.com/hotel/fr/auberge-saint...</td>\n",
       "    </tr>\n",
       "    <tr>\n",
       "      <th>3</th>\n",
       "      <td>Résidence Quai Sud- Le Charcot</td>\n",
       "      <td>St Malo</td>\n",
       "      <td>48.65172091</td>\n",
       "      <td>-2.01660376</td>\n",
       "      <td>9,4</td>\n",
       "      <td>La Résidence Quai Sud- Le Charcot vous accueil...</td>\n",
       "      <td>https://www.booking.com/hotel/fr/residence-qua...</td>\n",
       "    </tr>\n",
       "    <tr>\n",
       "      <th>4</th>\n",
       "      <td>L'AccrocheCoeur</td>\n",
       "      <td>St Malo</td>\n",
       "      <td>48.64813700</td>\n",
       "      <td>-2.02706500</td>\n",
       "      <td>9,4</td>\n",
       "      <td>Établissement Voyage Durable</td>\n",
       "      <td>https://www.booking.com/hotel/fr/l-39-accroche...</td>\n",
       "    </tr>\n",
       "    <tr>\n",
       "      <th>5</th>\n",
       "      <td>Le Blue Note by Cocoonr - Bel appartement de s...</td>\n",
       "      <td>St Malo</td>\n",
       "      <td>48.65068090</td>\n",
       "      <td>-2.02432110</td>\n",
       "      <td>9,8</td>\n",
       "      <td>Le Blue Note by Cocoonr - Bel appartement de s...</td>\n",
       "      <td>https://www.booking.com/hotel/fr/le-blue-note-...</td>\n",
       "    </tr>\n",
       "    <tr>\n",
       "      <th>6</th>\n",
       "      <td>Manoir Sainte Victoire</td>\n",
       "      <td>Bayeux</td>\n",
       "      <td>49.27649171</td>\n",
       "      <td>-0.70575960</td>\n",
       "      <td>9,6</td>\n",
       "      <td>Doté d'un jardin et d'une connexion Wi-Fi grat...</td>\n",
       "      <td>https://www.booking.com/hotel/fr/manoir-sainte...</td>\n",
       "    </tr>\n",
       "    <tr>\n",
       "      <th>7</th>\n",
       "      <td>Château Saint Gilles</td>\n",
       "      <td>Bayeux</td>\n",
       "      <td>49.24936600</td>\n",
       "      <td>-0.71246900</td>\n",
       "      <td>9,7</td>\n",
       "      <td>Situé à Bayeux, à 4 km du musée Baron Gérard, ...</td>\n",
       "      <td>https://www.booking.com/hotel/fr/chateau-saint...</td>\n",
       "    </tr>\n",
       "    <tr>\n",
       "      <th>8</th>\n",
       "      <td>Clos de Bellefontaine B&amp;B</td>\n",
       "      <td>Bayeux</td>\n",
       "      <td>49.27267164</td>\n",
       "      <td>-0.69486111</td>\n",
       "      <td>9,6</td>\n",
       "      <td>Le Clos de Bellefontaine occupe une maison du ...</td>\n",
       "      <td>https://www.booking.com/hotel/fr/chambres-d-ha...</td>\n",
       "    </tr>\n",
       "    <tr>\n",
       "      <th>9</th>\n",
       "      <td>Hilton Garden Inn Le Havre Centre</td>\n",
       "      <td>Le Havre</td>\n",
       "      <td>49.49008699</td>\n",
       "      <td>0.09774696</td>\n",
       "      <td>8,7</td>\n",
       "      <td>Établissement Voyage Durable</td>\n",
       "      <td>https://www.booking.com/hotel/fr/hilton-garden...</td>\n",
       "    </tr>\n",
       "    <tr>\n",
       "      <th>10</th>\n",
       "      <td>Foch</td>\n",
       "      <td>Le Havre</td>\n",
       "      <td>49.49307270</td>\n",
       "      <td>0.10227340</td>\n",
       "      <td>9,1</td>\n",
       "      <td>Offrant une vue sur le jardin, le Foch propose...</td>\n",
       "      <td>https://www.booking.com/hotel/fr/foch-le-havre...</td>\n",
       "    </tr>\n",
       "    <tr>\n",
       "      <th>11</th>\n",
       "      <td>Le Valmer</td>\n",
       "      <td>Le Havre</td>\n",
       "      <td>49.50123653</td>\n",
       "      <td>0.11174429</td>\n",
       "      <td>9,4</td>\n",
       "      <td>Le Valmer est un hébergement en bord de mer si...</td>\n",
       "      <td>https://www.booking.com/hotel/fr/le-valmer.fr....</td>\n",
       "    </tr>\n",
       "    <tr>\n",
       "      <th>12</th>\n",
       "      <td>Nuit Zen Rouen - Jacuzzi - Centre Historique</td>\n",
       "      <td>Rouen</td>\n",
       "      <td>49.44426600</td>\n",
       "      <td>1.09632100</td>\n",
       "      <td>9,2</td>\n",
       "      <td>Hébergement géré par un particulier</td>\n",
       "      <td>https://www.booking.com/hotel/fr/nuit-zen-roue...</td>\n",
       "    </tr>\n",
       "    <tr>\n",
       "      <th>13</th>\n",
       "      <td>Gîte Beffroy</td>\n",
       "      <td>Rouen</td>\n",
       "      <td>49.44530171</td>\n",
       "      <td>1.09545842</td>\n",
       "      <td>9,2</td>\n",
       "      <td>Hébergement géré par un particulier</td>\n",
       "      <td>https://www.booking.com/hotel/fr/gite-beffroy....</td>\n",
       "    </tr>\n",
       "    <tr>\n",
       "      <th>14</th>\n",
       "      <td>Superbe appartement dans le quartier de la gare</td>\n",
       "      <td>Rouen</td>\n",
       "      <td>49.44850270</td>\n",
       "      <td>1.09623344</td>\n",
       "      <td>9,6</td>\n",
       "      <td>Hébergement géré par un particulier</td>\n",
       "      <td>https://www.booking.com/hotel/fr/le-rive-droit...</td>\n",
       "    </tr>\n",
       "    <tr>\n",
       "      <th>15</th>\n",
       "      <td>My Opéra</td>\n",
       "      <td>Paris</td>\n",
       "      <td>48.87819020</td>\n",
       "      <td>2.32736970</td>\n",
       "      <td>9,3</td>\n",
       "      <td>Le My Opéra est situé dans le 9ème arrondissem...</td>\n",
       "      <td>https://www.booking.com/hotel/fr/athene-1.fr.h...</td>\n",
       "    </tr>\n",
       "    <tr>\n",
       "      <th>16</th>\n",
       "      <td>Chambre d hôte : Louvre Elegant Apt Suite</td>\n",
       "      <td>Paris</td>\n",
       "      <td>48.86269529</td>\n",
       "      <td>2.34072919</td>\n",
       "      <td>9,3</td>\n",
       "      <td>Doté d'une connexion Wi-Fi gratuite, le Louvre...</td>\n",
       "      <td>https://www.booking.com/hotel/fr/paristay.fr.h...</td>\n",
       "    </tr>\n",
       "    <tr>\n",
       "      <th>17</th>\n",
       "      <td>Maison Longuevie</td>\n",
       "      <td>Amiens</td>\n",
       "      <td>49.88769400</td>\n",
       "      <td>2.29452400</td>\n",
       "      <td>9,5</td>\n",
       "      <td>Hébergement géré par un particulier</td>\n",
       "      <td>https://www.booking.com/hotel/fr/longuevie.fr....</td>\n",
       "    </tr>\n",
       "    <tr>\n",
       "      <th>18</th>\n",
       "      <td>Amiens LOFT</td>\n",
       "      <td>Amiens</td>\n",
       "      <td>49.89582519</td>\n",
       "      <td>2.30412349</td>\n",
       "      <td>9,4</td>\n",
       "      <td>L'Amiens LOFT propose un appartement dans le q...</td>\n",
       "      <td>https://www.booking.com/hotel/fr/amiens-loft.f...</td>\n",
       "    </tr>\n",
       "    <tr>\n",
       "      <th>19</th>\n",
       "      <td>Appartement centre ville - parking privé gratuit</td>\n",
       "      <td>Amiens</td>\n",
       "      <td>49.89538730</td>\n",
       "      <td>2.30619430</td>\n",
       "      <td>9,3</td>\n",
       "      <td>Hébergement géré par un particulier</td>\n",
       "      <td>https://www.booking.com/hotel/fr/appartement-c...</td>\n",
       "    </tr>\n",
       "  </tbody>\n",
       "</table>\n",
       "</div>"
      ],
      "text/plain": [
       "                                           hotel_name               city  \\\n",
       "0                                          Hôtel Vert  Mont Saint Michel   \n",
       "1                           Mercure Mont Saint Michel  Mont Saint Michel   \n",
       "2                                Auberge Saint Pierre  Mont Saint Michel   \n",
       "3                      Résidence Quai Sud- Le Charcot            St Malo   \n",
       "4                                     L'AccrocheCoeur            St Malo   \n",
       "5   Le Blue Note by Cocoonr - Bel appartement de s...            St Malo   \n",
       "6                              Manoir Sainte Victoire             Bayeux   \n",
       "7                                Château Saint Gilles             Bayeux   \n",
       "8                           Clos de Bellefontaine B&B             Bayeux   \n",
       "9                   Hilton Garden Inn Le Havre Centre           Le Havre   \n",
       "10                                               Foch           Le Havre   \n",
       "11                                          Le Valmer           Le Havre   \n",
       "12       Nuit Zen Rouen - Jacuzzi - Centre Historique              Rouen   \n",
       "13                                       Gîte Beffroy              Rouen   \n",
       "14    Superbe appartement dans le quartier de la gare              Rouen   \n",
       "15                                           My Opéra              Paris   \n",
       "16          Chambre d hôte : Louvre Elegant Apt Suite              Paris   \n",
       "17                                   Maison Longuevie             Amiens   \n",
       "18                                        Amiens LOFT             Amiens   \n",
       "19   Appartement centre ville - parking privé gratuit             Amiens   \n",
       "\n",
       "            lat          lon ratings  \\\n",
       "0   48.61470049  -1.50961697     8,1   \n",
       "1   48.61424653  -1.51054502     8,2   \n",
       "2   48.63568798  -1.50988251     8,1   \n",
       "3   48.65172091  -2.01660376     9,4   \n",
       "4   48.64813700  -2.02706500     9,4   \n",
       "5   48.65068090  -2.02432110     9,8   \n",
       "6   49.27649171  -0.70575960     9,6   \n",
       "7   49.24936600  -0.71246900     9,7   \n",
       "8   49.27267164  -0.69486111     9,6   \n",
       "9   49.49008699   0.09774696     8,7   \n",
       "10  49.49307270   0.10227340     9,1   \n",
       "11  49.50123653   0.11174429     9,4   \n",
       "12  49.44426600   1.09632100     9,2   \n",
       "13  49.44530171   1.09545842     9,2   \n",
       "14  49.44850270   1.09623344     9,6   \n",
       "15  48.87819020   2.32736970     9,3   \n",
       "16  48.86269529   2.34072919     9,3   \n",
       "17  49.88769400   2.29452400     9,5   \n",
       "18  49.89582519   2.30412349     9,4   \n",
       "19  49.89538730   2.30619430     9,3   \n",
       "\n",
       "                                          description  \\\n",
       "0   Situé à 2 km du Mont-Saint-Michel, sur la côte...   \n",
       "1   Installé dans des espaces verts à seulement 2 ...   \n",
       "2   L'Auberge Saint-Pierre occupe une maison à col...   \n",
       "3   La Résidence Quai Sud- Le Charcot vous accueil...   \n",
       "4                        Établissement Voyage Durable   \n",
       "5   Le Blue Note by Cocoonr - Bel appartement de s...   \n",
       "6   Doté d'un jardin et d'une connexion Wi-Fi grat...   \n",
       "7   Situé à Bayeux, à 4 km du musée Baron Gérard, ...   \n",
       "8   Le Clos de Bellefontaine occupe une maison du ...   \n",
       "9                        Établissement Voyage Durable   \n",
       "10  Offrant une vue sur le jardin, le Foch propose...   \n",
       "11  Le Valmer est un hébergement en bord de mer si...   \n",
       "12                Hébergement géré par un particulier   \n",
       "13                Hébergement géré par un particulier   \n",
       "14                Hébergement géré par un particulier   \n",
       "15  Le My Opéra est situé dans le 9ème arrondissem...   \n",
       "16  Doté d'une connexion Wi-Fi gratuite, le Louvre...   \n",
       "17                Hébergement géré par un particulier   \n",
       "18  L'Amiens LOFT propose un appartement dans le q...   \n",
       "19                Hébergement géré par un particulier   \n",
       "\n",
       "                                                  url  \n",
       "0   https://www.booking.com/hotel/fr/vert.fr.html?...  \n",
       "1   https://www.booking.com/hotel/fr/mont-saint-mi...  \n",
       "2   https://www.booking.com/hotel/fr/auberge-saint...  \n",
       "3   https://www.booking.com/hotel/fr/residence-qua...  \n",
       "4   https://www.booking.com/hotel/fr/l-39-accroche...  \n",
       "5   https://www.booking.com/hotel/fr/le-blue-note-...  \n",
       "6   https://www.booking.com/hotel/fr/manoir-sainte...  \n",
       "7   https://www.booking.com/hotel/fr/chateau-saint...  \n",
       "8   https://www.booking.com/hotel/fr/chambres-d-ha...  \n",
       "9   https://www.booking.com/hotel/fr/hilton-garden...  \n",
       "10  https://www.booking.com/hotel/fr/foch-le-havre...  \n",
       "11  https://www.booking.com/hotel/fr/le-valmer.fr....  \n",
       "12  https://www.booking.com/hotel/fr/nuit-zen-roue...  \n",
       "13  https://www.booking.com/hotel/fr/gite-beffroy....  \n",
       "14  https://www.booking.com/hotel/fr/le-rive-droit...  \n",
       "15  https://www.booking.com/hotel/fr/athene-1.fr.h...  \n",
       "16  https://www.booking.com/hotel/fr/paristay.fr.h...  \n",
       "17  https://www.booking.com/hotel/fr/longuevie.fr....  \n",
       "18  https://www.booking.com/hotel/fr/amiens-loft.f...  \n",
       "19  https://www.booking.com/hotel/fr/appartement-c...  "
      ]
     },
     "execution_count": 32,
     "metadata": {},
     "output_type": "execute_result"
    }
   ],
   "source": [
    "top_hotels.head(20)"
   ]
  },
  {
   "cell_type": "code",
   "execution_count": 33,
   "id": "b870420a-e5d2-4447-b7cb-0e36b6018976",
   "metadata": {},
   "outputs": [],
   "source": [
    "import plotly.express as px\n",
    "import plotly.graph_objects as go"
   ]
  },
  {
   "cell_type": "code",
   "execution_count": 34,
   "id": "d9f1a0de-c759-4420-8c12-83028286f6cc",
   "metadata": {},
   "outputs": [
    {
     "data": {
      "text/html": [
       "<div>\n",
       "<style scoped>\n",
       "    .dataframe tbody tr th:only-of-type {\n",
       "        vertical-align: middle;\n",
       "    }\n",
       "\n",
       "    .dataframe tbody tr th {\n",
       "        vertical-align: top;\n",
       "    }\n",
       "\n",
       "    .dataframe thead th {\n",
       "        text-align: right;\n",
       "    }\n",
       "</style>\n",
       "<table border=\"1\" class=\"dataframe\">\n",
       "  <thead>\n",
       "    <tr style=\"text-align: right;\">\n",
       "      <th></th>\n",
       "      <th>hotel_name</th>\n",
       "      <th>city</th>\n",
       "      <th>lat</th>\n",
       "      <th>lon</th>\n",
       "      <th>ratings</th>\n",
       "      <th>description</th>\n",
       "      <th>url</th>\n",
       "    </tr>\n",
       "  </thead>\n",
       "  <tbody>\n",
       "    <tr>\n",
       "      <th>0</th>\n",
       "      <td>Hôtel Vert</td>\n",
       "      <td>Mont Saint Michel</td>\n",
       "      <td>48.61470049</td>\n",
       "      <td>-1.50961697</td>\n",
       "      <td>8,1</td>\n",
       "      <td>Situé à 2 km du Mont-Saint-Michel, sur la côte...</td>\n",
       "      <td>https://www.booking.com/hotel/fr/vert.fr.html?...</td>\n",
       "    </tr>\n",
       "    <tr>\n",
       "      <th>1</th>\n",
       "      <td>Mercure Mont Saint Michel</td>\n",
       "      <td>Mont Saint Michel</td>\n",
       "      <td>48.61424653</td>\n",
       "      <td>-1.51054502</td>\n",
       "      <td>8,2</td>\n",
       "      <td>Installé dans des espaces verts à seulement 2 ...</td>\n",
       "      <td>https://www.booking.com/hotel/fr/mont-saint-mi...</td>\n",
       "    </tr>\n",
       "    <tr>\n",
       "      <th>2</th>\n",
       "      <td>Auberge Saint Pierre</td>\n",
       "      <td>Mont Saint Michel</td>\n",
       "      <td>48.63568798</td>\n",
       "      <td>-1.50988251</td>\n",
       "      <td>8,1</td>\n",
       "      <td>L'Auberge Saint-Pierre occupe une maison à col...</td>\n",
       "      <td>https://www.booking.com/hotel/fr/auberge-saint...</td>\n",
       "    </tr>\n",
       "    <tr>\n",
       "      <th>3</th>\n",
       "      <td>Résidence Quai Sud- Le Charcot</td>\n",
       "      <td>St Malo</td>\n",
       "      <td>48.65172091</td>\n",
       "      <td>-2.01660376</td>\n",
       "      <td>9,4</td>\n",
       "      <td>La Résidence Quai Sud- Le Charcot vous accueil...</td>\n",
       "      <td>https://www.booking.com/hotel/fr/residence-qua...</td>\n",
       "    </tr>\n",
       "    <tr>\n",
       "      <th>4</th>\n",
       "      <td>L'AccrocheCoeur</td>\n",
       "      <td>St Malo</td>\n",
       "      <td>48.64813700</td>\n",
       "      <td>-2.02706500</td>\n",
       "      <td>9,4</td>\n",
       "      <td>Établissement Voyage Durable</td>\n",
       "      <td>https://www.booking.com/hotel/fr/l-39-accroche...</td>\n",
       "    </tr>\n",
       "  </tbody>\n",
       "</table>\n",
       "</div>"
      ],
      "text/plain": [
       "                       hotel_name               city          lat  \\\n",
       "0                      Hôtel Vert  Mont Saint Michel  48.61470049   \n",
       "1       Mercure Mont Saint Michel  Mont Saint Michel  48.61424653   \n",
       "2            Auberge Saint Pierre  Mont Saint Michel  48.63568798   \n",
       "3  Résidence Quai Sud- Le Charcot            St Malo  48.65172091   \n",
       "4                 L'AccrocheCoeur            St Malo  48.64813700   \n",
       "\n",
       "           lon ratings                                        description  \\\n",
       "0  -1.50961697     8,1  Situé à 2 km du Mont-Saint-Michel, sur la côte...   \n",
       "1  -1.51054502     8,2  Installé dans des espaces verts à seulement 2 ...   \n",
       "2  -1.50988251     8,1  L'Auberge Saint-Pierre occupe une maison à col...   \n",
       "3  -2.01660376     9,4  La Résidence Quai Sud- Le Charcot vous accueil...   \n",
       "4  -2.02706500     9,4                       Établissement Voyage Durable   \n",
       "\n",
       "                                                 url  \n",
       "0  https://www.booking.com/hotel/fr/vert.fr.html?...  \n",
       "1  https://www.booking.com/hotel/fr/mont-saint-mi...  \n",
       "2  https://www.booking.com/hotel/fr/auberge-saint...  \n",
       "3  https://www.booking.com/hotel/fr/residence-qua...  \n",
       "4  https://www.booking.com/hotel/fr/l-39-accroche...  "
      ]
     },
     "execution_count": 34,
     "metadata": {},
     "output_type": "execute_result"
    }
   ],
   "source": [
    "top_hotels.head()"
   ]
  },
  {
   "cell_type": "code",
   "execution_count": 35,
   "id": "ccc2a281-a4bd-4c29-aec5-a94bbada4843",
   "metadata": {},
   "outputs": [],
   "source": [
    "top_hotels['lat'] = top_hotels['lat'].astype(float)"
   ]
  },
  {
   "cell_type": "code",
   "execution_count": 36,
   "id": "b76a735e-f043-4ffd-826f-fedd53d48252",
   "metadata": {},
   "outputs": [],
   "source": [
    "top_hotels['lon'] = top_hotels['lon'].astype(float)"
   ]
  },
  {
   "cell_type": "code",
   "execution_count": 39,
   "id": "8ca1435a-49f4-4a88-bebb-bbcc4b16bc62",
   "metadata": {},
   "outputs": [],
   "source": [
    "top_hotels['ratings'] = top_hotels['ratings'].apply(lambda x: x.replace(',','.')) #remplacer la virgule par un point pour pouvoir convertir la colonne en float"
   ]
  },
  {
   "cell_type": "code",
   "execution_count": 41,
   "id": "c5425347-e332-4f55-b5db-f083c452668d",
   "metadata": {},
   "outputs": [],
   "source": [
    "top_hotels['ratings'] = top_hotels['ratings'].astype(float)"
   ]
  },
  {
   "cell_type": "code",
   "execution_count": 60,
   "id": "116df6ce-c943-4144-b7ed-00a10bb00a10",
   "metadata": {},
   "outputs": [
    {
     "data": {
      "application/vnd.plotly.v1+json": {
       "config": {
        "plotlyServerURL": "https://plot.ly"
       },
       "data": [
        {
         "hovertemplate": "hotel_name=Hôtel Vert<br>ratings=%{marker.size}<br>lat=%{lat}<br>lon=%{lon}<extra></extra>",
         "lat": [
          48.61470049
         ],
         "legendgroup": "Hôtel Vert",
         "lon": [
          -1.50961697
         ],
         "marker": {
          "color": "#636efa",
          "size": [
           8.1
          ],
          "sizemode": "area",
          "sizeref": 0.044000000000000004
         },
         "mode": "markers",
         "name": "Hôtel Vert",
         "showlegend": true,
         "subplot": "mapbox",
         "type": "scattermapbox"
        },
        {
         "hovertemplate": "hotel_name=Mercure Mont Saint Michel<br>ratings=%{marker.size}<br>lat=%{lat}<br>lon=%{lon}<extra></extra>",
         "lat": [
          48.61424653
         ],
         "legendgroup": "Mercure Mont Saint Michel",
         "lon": [
          -1.51054502
         ],
         "marker": {
          "color": "#EF553B",
          "size": [
           8.2
          ],
          "sizemode": "area",
          "sizeref": 0.044000000000000004
         },
         "mode": "markers",
         "name": "Mercure Mont Saint Michel",
         "showlegend": true,
         "subplot": "mapbox",
         "type": "scattermapbox"
        },
        {
         "hovertemplate": "hotel_name=Auberge Saint Pierre<br>ratings=%{marker.size}<br>lat=%{lat}<br>lon=%{lon}<extra></extra>",
         "lat": [
          48.63568798
         ],
         "legendgroup": "Auberge Saint Pierre",
         "lon": [
          -1.50988251
         ],
         "marker": {
          "color": "#00cc96",
          "size": [
           8.1
          ],
          "sizemode": "area",
          "sizeref": 0.044000000000000004
         },
         "mode": "markers",
         "name": "Auberge Saint Pierre",
         "showlegend": true,
         "subplot": "mapbox",
         "type": "scattermapbox"
        },
        {
         "hovertemplate": "hotel_name=Résidence Quai Sud- Le Charcot<br>ratings=%{marker.size}<br>lat=%{lat}<br>lon=%{lon}<extra></extra>",
         "lat": [
          48.65172091
         ],
         "legendgroup": "Résidence Quai Sud- Le Charcot",
         "lon": [
          -2.01660376
         ],
         "marker": {
          "color": "#ab63fa",
          "size": [
           9.4
          ],
          "sizemode": "area",
          "sizeref": 0.044000000000000004
         },
         "mode": "markers",
         "name": "Résidence Quai Sud- Le Charcot",
         "showlegend": true,
         "subplot": "mapbox",
         "type": "scattermapbox"
        },
        {
         "hovertemplate": "hotel_name=L'AccrocheCoeur<br>ratings=%{marker.size}<br>lat=%{lat}<br>lon=%{lon}<extra></extra>",
         "lat": [
          48.648137
         ],
         "legendgroup": "L'AccrocheCoeur",
         "lon": [
          -2.027065
         ],
         "marker": {
          "color": "#FFA15A",
          "size": [
           9.4
          ],
          "sizemode": "area",
          "sizeref": 0.044000000000000004
         },
         "mode": "markers",
         "name": "L'AccrocheCoeur",
         "showlegend": true,
         "subplot": "mapbox",
         "type": "scattermapbox"
        },
        {
         "hovertemplate": "hotel_name=Le Blue Note by Cocoonr - Bel appartement de standing<br>ratings=%{marker.size}<br>lat=%{lat}<br>lon=%{lon}<extra></extra>",
         "lat": [
          48.6506809
         ],
         "legendgroup": "Le Blue Note by Cocoonr - Bel appartement de standing",
         "lon": [
          -2.0243211
         ],
         "marker": {
          "color": "#19d3f3",
          "size": [
           9.8
          ],
          "sizemode": "area",
          "sizeref": 0.044000000000000004
         },
         "mode": "markers",
         "name": "Le Blue Note by Cocoonr - Bel appartement de standing",
         "showlegend": true,
         "subplot": "mapbox",
         "type": "scattermapbox"
        },
        {
         "hovertemplate": "hotel_name=Manoir Sainte Victoire<br>ratings=%{marker.size}<br>lat=%{lat}<br>lon=%{lon}<extra></extra>",
         "lat": [
          49.27649171
         ],
         "legendgroup": "Manoir Sainte Victoire",
         "lon": [
          -0.7057596
         ],
         "marker": {
          "color": "#FF6692",
          "size": [
           9.6
          ],
          "sizemode": "area",
          "sizeref": 0.044000000000000004
         },
         "mode": "markers",
         "name": "Manoir Sainte Victoire",
         "showlegend": true,
         "subplot": "mapbox",
         "type": "scattermapbox"
        },
        {
         "hovertemplate": "hotel_name=Château Saint Gilles<br>ratings=%{marker.size}<br>lat=%{lat}<br>lon=%{lon}<extra></extra>",
         "lat": [
          49.249366
         ],
         "legendgroup": "Château Saint Gilles",
         "lon": [
          -0.712469
         ],
         "marker": {
          "color": "#B6E880",
          "size": [
           9.7
          ],
          "sizemode": "area",
          "sizeref": 0.044000000000000004
         },
         "mode": "markers",
         "name": "Château Saint Gilles",
         "showlegend": true,
         "subplot": "mapbox",
         "type": "scattermapbox"
        },
        {
         "hovertemplate": "hotel_name=Clos de Bellefontaine B&B<br>ratings=%{marker.size}<br>lat=%{lat}<br>lon=%{lon}<extra></extra>",
         "lat": [
          49.27267164
         ],
         "legendgroup": "Clos de Bellefontaine B&B",
         "lon": [
          -0.69486111
         ],
         "marker": {
          "color": "#FF97FF",
          "size": [
           9.6
          ],
          "sizemode": "area",
          "sizeref": 0.044000000000000004
         },
         "mode": "markers",
         "name": "Clos de Bellefontaine B&B",
         "showlegend": true,
         "subplot": "mapbox",
         "type": "scattermapbox"
        },
        {
         "hovertemplate": "hotel_name=Hilton Garden Inn Le Havre Centre<br>ratings=%{marker.size}<br>lat=%{lat}<br>lon=%{lon}<extra></extra>",
         "lat": [
          49.49008699
         ],
         "legendgroup": "Hilton Garden Inn Le Havre Centre",
         "lon": [
          0.09774696
         ],
         "marker": {
          "color": "#FECB52",
          "size": [
           8.7
          ],
          "sizemode": "area",
          "sizeref": 0.044000000000000004
         },
         "mode": "markers",
         "name": "Hilton Garden Inn Le Havre Centre",
         "showlegend": true,
         "subplot": "mapbox",
         "type": "scattermapbox"
        },
        {
         "hovertemplate": "hotel_name=Foch<br>ratings=%{marker.size}<br>lat=%{lat}<br>lon=%{lon}<extra></extra>",
         "lat": [
          49.4930727
         ],
         "legendgroup": "Foch",
         "lon": [
          0.1022734
         ],
         "marker": {
          "color": "#636efa",
          "size": [
           9.1
          ],
          "sizemode": "area",
          "sizeref": 0.044000000000000004
         },
         "mode": "markers",
         "name": "Foch",
         "showlegend": true,
         "subplot": "mapbox",
         "type": "scattermapbox"
        },
        {
         "hovertemplate": "hotel_name=Le Valmer<br>ratings=%{marker.size}<br>lat=%{lat}<br>lon=%{lon}<extra></extra>",
         "lat": [
          49.50123653
         ],
         "legendgroup": "Le Valmer",
         "lon": [
          0.11174429
         ],
         "marker": {
          "color": "#EF553B",
          "size": [
           9.4
          ],
          "sizemode": "area",
          "sizeref": 0.044000000000000004
         },
         "mode": "markers",
         "name": "Le Valmer",
         "showlegend": true,
         "subplot": "mapbox",
         "type": "scattermapbox"
        },
        {
         "hovertemplate": "hotel_name=Nuit Zen Rouen - Jacuzzi - Centre Historique<br>ratings=%{marker.size}<br>lat=%{lat}<br>lon=%{lon}<extra></extra>",
         "lat": [
          49.444266
         ],
         "legendgroup": "Nuit Zen Rouen - Jacuzzi - Centre Historique",
         "lon": [
          1.096321
         ],
         "marker": {
          "color": "#00cc96",
          "size": [
           9.2
          ],
          "sizemode": "area",
          "sizeref": 0.044000000000000004
         },
         "mode": "markers",
         "name": "Nuit Zen Rouen - Jacuzzi - Centre Historique",
         "showlegend": true,
         "subplot": "mapbox",
         "type": "scattermapbox"
        },
        {
         "hovertemplate": "hotel_name=Gîte Beffroy<br>ratings=%{marker.size}<br>lat=%{lat}<br>lon=%{lon}<extra></extra>",
         "lat": [
          49.44530171
         ],
         "legendgroup": "Gîte Beffroy",
         "lon": [
          1.09545842
         ],
         "marker": {
          "color": "#ab63fa",
          "size": [
           9.2
          ],
          "sizemode": "area",
          "sizeref": 0.044000000000000004
         },
         "mode": "markers",
         "name": "Gîte Beffroy",
         "showlegend": true,
         "subplot": "mapbox",
         "type": "scattermapbox"
        },
        {
         "hovertemplate": "hotel_name=Superbe appartement dans le quartier de la gare<br>ratings=%{marker.size}<br>lat=%{lat}<br>lon=%{lon}<extra></extra>",
         "lat": [
          49.4485027
         ],
         "legendgroup": "Superbe appartement dans le quartier de la gare",
         "lon": [
          1.09623344
         ],
         "marker": {
          "color": "#FFA15A",
          "size": [
           9.6
          ],
          "sizemode": "area",
          "sizeref": 0.044000000000000004
         },
         "mode": "markers",
         "name": "Superbe appartement dans le quartier de la gare",
         "showlegend": true,
         "subplot": "mapbox",
         "type": "scattermapbox"
        },
        {
         "hovertemplate": "hotel_name=My Opéra<br>ratings=%{marker.size}<br>lat=%{lat}<br>lon=%{lon}<extra></extra>",
         "lat": [
          48.8781902
         ],
         "legendgroup": "My Opéra",
         "lon": [
          2.3273697
         ],
         "marker": {
          "color": "#19d3f3",
          "size": [
           9.3
          ],
          "sizemode": "area",
          "sizeref": 0.044000000000000004
         },
         "mode": "markers",
         "name": "My Opéra",
         "showlegend": true,
         "subplot": "mapbox",
         "type": "scattermapbox"
        },
        {
         "hovertemplate": "hotel_name=Chambre d hôte : Louvre Elegant Apt Suite<br>ratings=%{marker.size}<br>lat=%{lat}<br>lon=%{lon}<extra></extra>",
         "lat": [
          48.86269529
         ],
         "legendgroup": "Chambre d hôte : Louvre Elegant Apt Suite",
         "lon": [
          2.34072919
         ],
         "marker": {
          "color": "#FF6692",
          "size": [
           9.3
          ],
          "sizemode": "area",
          "sizeref": 0.044000000000000004
         },
         "mode": "markers",
         "name": "Chambre d hôte : Louvre Elegant Apt Suite",
         "showlegend": true,
         "subplot": "mapbox",
         "type": "scattermapbox"
        },
        {
         "hovertemplate": "hotel_name=Maison Longuevie<br>ratings=%{marker.size}<br>lat=%{lat}<br>lon=%{lon}<extra></extra>",
         "lat": [
          49.887694
         ],
         "legendgroup": "Maison Longuevie",
         "lon": [
          2.294524
         ],
         "marker": {
          "color": "#B6E880",
          "size": [
           9.5
          ],
          "sizemode": "area",
          "sizeref": 0.044000000000000004
         },
         "mode": "markers",
         "name": "Maison Longuevie",
         "showlegend": true,
         "subplot": "mapbox",
         "type": "scattermapbox"
        },
        {
         "hovertemplate": "hotel_name=Amiens LOFT<br>ratings=%{marker.size}<br>lat=%{lat}<br>lon=%{lon}<extra></extra>",
         "lat": [
          49.89582519
         ],
         "legendgroup": "Amiens LOFT",
         "lon": [
          2.30412349
         ],
         "marker": {
          "color": "#FF97FF",
          "size": [
           9.4
          ],
          "sizemode": "area",
          "sizeref": 0.044000000000000004
         },
         "mode": "markers",
         "name": "Amiens LOFT",
         "showlegend": true,
         "subplot": "mapbox",
         "type": "scattermapbox"
        },
        {
         "hovertemplate": "hotel_name=Appartement centre ville - parking privé gratuit<br>ratings=%{marker.size}<br>lat=%{lat}<br>lon=%{lon}<extra></extra>",
         "lat": [
          49.8953873
         ],
         "legendgroup": "Appartement centre ville - parking privé gratuit",
         "lon": [
          2.3061943
         ],
         "marker": {
          "color": "#FECB52",
          "size": [
           9.3
          ],
          "sizemode": "area",
          "sizeref": 0.044000000000000004
         },
         "mode": "markers",
         "name": "Appartement centre ville - parking privé gratuit",
         "showlegend": true,
         "subplot": "mapbox",
         "type": "scattermapbox"
        },
        {
         "hovertemplate": "hotel_name=Appartement terrasse 4personnes rue de jemmapes<br>ratings=%{marker.size}<br>lat=%{lat}<br>lon=%{lon}<extra></extra>",
         "lat": [
          50.64477
         ],
         "legendgroup": "Appartement terrasse 4personnes rue de jemmapes",
         "lon": [
          3.058449
         ],
         "marker": {
          "color": "#636efa",
          "size": [
           9.2
          ],
          "sizemode": "area",
          "sizeref": 0.044000000000000004
         },
         "mode": "markers",
         "name": "Appartement terrasse 4personnes rue de jemmapes",
         "showlegend": true,
         "subplot": "mapbox",
         "type": "scattermapbox"
        },
        {
         "hovertemplate": "hotel_name=OKKO Hotels Lille Centre<br>ratings=%{marker.size}<br>lat=%{lat}<br>lon=%{lon}<extra></extra>",
         "lat": [
          50.634074
         ],
         "legendgroup": "OKKO Hotels Lille Centre",
         "lon": [
          3.064229
         ],
         "marker": {
          "color": "#EF553B",
          "size": [
           8.8
          ],
          "sizemode": "area",
          "sizeref": 0.044000000000000004
         },
         "mode": "markers",
         "name": "OKKO Hotels Lille Centre",
         "showlegend": true,
         "subplot": "mapbox",
         "type": "scattermapbox"
        },
        {
         "hovertemplate": "hotel_name=Hôtel Barrière Lille<br>ratings=%{marker.size}<br>lat=%{lat}<br>lon=%{lon}<extra></extra>",
         "lat": [
          50.63754054
         ],
         "legendgroup": "Hôtel Barrière Lille",
         "lon": [
          3.07692289
         ],
         "marker": {
          "color": "#00cc96",
          "size": [
           8.7
          ],
          "sizemode": "area",
          "sizeref": 0.044000000000000004
         },
         "mode": "markers",
         "name": "Hôtel Barrière Lille",
         "showlegend": true,
         "subplot": "mapbox",
         "type": "scattermapbox"
        },
        {
         "hovertemplate": "hotel_name=Hôtel ORIGAMI<br>ratings=%{marker.size}<br>lat=%{lat}<br>lon=%{lon}<extra></extra>",
         "lat": [
          48.59108149
         ],
         "legendgroup": "Hôtel ORIGAMI",
         "lon": [
          7.727094
         ],
         "marker": {
          "color": "#ab63fa",
          "size": [
           9
          ],
          "sizemode": "area",
          "sizeref": 0.044000000000000004
         },
         "mode": "markers",
         "name": "Hôtel ORIGAMI",
         "showlegend": true,
         "subplot": "mapbox",
         "type": "scattermapbox"
        },
        {
         "hovertemplate": "hotel_name=Hôtel Tandem - Boutique Hôtel<br>ratings=%{marker.size}<br>lat=%{lat}<br>lon=%{lon}<extra></extra>",
         "lat": [
          48.58383633
         ],
         "legendgroup": "Hôtel Tandem - Boutique Hôtel",
         "lon": [
          7.73494899
         ],
         "marker": {
          "color": "#FFA15A",
          "size": [
           9.1
          ],
          "sizemode": "area",
          "sizeref": 0.044000000000000004
         },
         "mode": "markers",
         "name": "Hôtel Tandem - Boutique Hôtel",
         "showlegend": true,
         "subplot": "mapbox",
         "type": "scattermapbox"
        },
        {
         "hovertemplate": "hotel_name=Carpe Diem Home - Au pied de la Cathédrale<br>ratings=%{marker.size}<br>lat=%{lat}<br>lon=%{lon}<extra></extra>",
         "lat": [
          48.582077
         ],
         "legendgroup": "Carpe Diem Home - Au pied de la Cathédrale",
         "lon": [
          7.749161
         ],
         "marker": {
          "color": "#19d3f3",
          "size": [
           9.5
          ],
          "sizemode": "area",
          "sizeref": 0.044000000000000004
         },
         "mode": "markers",
         "name": "Carpe Diem Home - Au pied de la Cathédrale",
         "showlegend": true,
         "subplot": "mapbox",
         "type": "scattermapbox"
        },
        {
         "hovertemplate": "hotel_name=SERENITY Colmar - Gîtes de Prestige 4 et 5 étoiles - 2, 4 et 6 personnes- Centre Historique<br>ratings=%{marker.size}<br>lat=%{lat}<br>lon=%{lon}<extra></extra>",
         "lat": [
          48.07774414
         ],
         "legendgroup": "SERENITY Colmar - Gîtes de Prestige 4 et 5 étoiles - 2, 4 et 6 personnes- Centre Historique",
         "lon": [
          7.36180786
         ],
         "marker": {
          "color": "#FF6692",
          "size": [
           9.6
          ],
          "sizemode": "area",
          "sizeref": 0.044000000000000004
         },
         "mode": "markers",
         "name": "SERENITY Colmar - Gîtes de Prestige 4 et 5 étoiles - 2, 4 et 6 personnes- Centre Historique",
         "showlegend": true,
         "subplot": "mapbox",
         "type": "scattermapbox"
        },
        {
         "hovertemplate": "hotel_name=LA CLE DES TOITS<br>ratings=%{marker.size}<br>lat=%{lat}<br>lon=%{lon}<extra></extra>",
         "lat": [
          48.0784199
         ],
         "legendgroup": "LA CLE DES TOITS",
         "lon": [
          7.3595564
         ],
         "marker": {
          "color": "#B6E880",
          "size": [
           9.5
          ],
          "sizemode": "area",
          "sizeref": 0.044000000000000004
         },
         "mode": "markers",
         "name": "LA CLE DES TOITS",
         "showlegend": true,
         "subplot": "mapbox",
         "type": "scattermapbox"
        },
        {
         "hovertemplate": "hotel_name=Le 8 de Cœur - Garage privé sur demande<br>ratings=%{marker.size}<br>lat=%{lat}<br>lon=%{lon}<extra></extra>",
         "lat": [
          48.0774007
         ],
         "legendgroup": "Le 8 de Cœur - Garage privé sur demande",
         "lon": [
          7.3610058
         ],
         "marker": {
          "color": "#FF97FF",
          "size": [
           9.5
          ],
          "sizemode": "area",
          "sizeref": 0.044000000000000004
         },
         "mode": "markers",
         "name": "Le 8 de Cœur - Garage privé sur demande",
         "showlegend": true,
         "subplot": "mapbox",
         "type": "scattermapbox"
        },
        {
         "hovertemplate": "hotel_name=La Grange de Madeleine<br>ratings=%{marker.size}<br>lat=%{lat}<br>lon=%{lon}<extra></extra>",
         "lat": [
          48.0417829
         ],
         "legendgroup": "La Grange de Madeleine",
         "lon": [
          7.3065467
         ],
         "marker": {
          "color": "#FECB52",
          "size": [
           9.7
          ],
          "sizemode": "area",
          "sizeref": 0.044000000000000004
         },
         "mode": "markers",
         "name": "La Grange de Madeleine",
         "showlegend": true,
         "subplot": "mapbox",
         "type": "scattermapbox"
        },
        {
         "hovertemplate": "hotel_name=Studio Eguisheim<br>ratings=%{marker.size}<br>lat=%{lat}<br>lon=%{lon}<extra></extra>",
         "lat": [
          48.0476831
         ],
         "legendgroup": "Studio Eguisheim",
         "lon": [
          7.3132915
         ],
         "marker": {
          "color": "#636efa",
          "size": [
           9.4
          ],
          "sizemode": "area",
          "sizeref": 0.044000000000000004
         },
         "mode": "markers",
         "name": "Studio Eguisheim",
         "showlegend": true,
         "subplot": "mapbox",
         "type": "scattermapbox"
        },
        {
         "hovertemplate": "hotel_name=Gîte au château fleuri<br>ratings=%{marker.size}<br>lat=%{lat}<br>lon=%{lon}<extra></extra>",
         "lat": [
          48.042875
         ],
         "legendgroup": "Gîte au château fleuri",
         "lon": [
          7.30672
         ],
         "marker": {
          "color": "#EF553B",
          "size": [
           9.5
          ],
          "sizemode": "area",
          "sizeref": 0.044000000000000004
         },
         "mode": "markers",
         "name": "Gîte au château fleuri",
         "showlegend": true,
         "subplot": "mapbox",
         "type": "scattermapbox"
        },
        {
         "hovertemplate": "hotel_name=Hôtel de Paris<br>ratings=%{marker.size}<br>lat=%{lat}<br>lon=%{lon}<extra></extra>",
         "lat": [
          47.23856537
         ],
         "legendgroup": "Hôtel de Paris",
         "lon": [
          6.02532506
         ],
         "marker": {
          "color": "#00cc96",
          "size": [
           8.6
          ],
          "sizemode": "area",
          "sizeref": 0.044000000000000004
         },
         "mode": "markers",
         "name": "Hôtel de Paris",
         "showlegend": true,
         "subplot": "mapbox",
         "type": "scattermapbox"
        },
        {
         "hovertemplate": "hotel_name=Hôtel Restaurant Spa Le Sauvage<br>ratings=%{marker.size}<br>lat=%{lat}<br>lon=%{lon}<extra></extra>",
         "lat": [
          47.23171767
         ],
         "legendgroup": "Hôtel Restaurant Spa Le Sauvage",
         "lon": [
          6.02759153
         ],
         "marker": {
          "color": "#ab63fa",
          "size": [
           9
          ],
          "sizemode": "area",
          "sizeref": 0.044000000000000004
         },
         "mode": "markers",
         "name": "Hôtel Restaurant Spa Le Sauvage",
         "showlegend": true,
         "subplot": "mapbox",
         "type": "scattermapbox"
        },
        {
         "hovertemplate": "hotel_name=L'adresse à Besançon<br>ratings=%{marker.size}<br>lat=%{lat}<br>lon=%{lon}<extra></extra>",
         "lat": [
          47.24736834
         ],
         "legendgroup": "L'adresse à Besançon",
         "lon": [
          6.03148374
         ],
         "marker": {
          "color": "#FFA15A",
          "size": [
           9.7
          ],
          "sizemode": "area",
          "sizeref": 0.044000000000000004
         },
         "mode": "markers",
         "name": "L'adresse à Besançon",
         "showlegend": true,
         "subplot": "mapbox",
         "type": "scattermapbox"
        },
        {
         "hovertemplate": "hotel_name=Hôtel des Halles<br>ratings=%{marker.size}<br>lat=%{lat}<br>lon=%{lon}<extra></extra>",
         "lat": [
          47.32558142
         ],
         "legendgroup": "Hôtel des Halles",
         "lon": [
          5.0369183
         ],
         "marker": {
          "color": "#19d3f3",
          "size": [
           8.8
          ],
          "sizemode": "area",
          "sizeref": 0.044000000000000004
         },
         "mode": "markers",
         "name": "Hôtel des Halles",
         "showlegend": true,
         "subplot": "mapbox",
         "type": "scattermapbox"
        },
        {
         "hovertemplate": "hotel_name=IDÉAL ART DÉCO parking privé sécurisé Darcy Liberté centre gare-ville<br>ratings=%{marker.size}<br>lat=%{lat}<br>lon=%{lon}<extra></extra>",
         "lat": [
          47.32659473
         ],
         "legendgroup": "IDÉAL ART DÉCO parking privé sécurisé Darcy Liberté centre gare-ville",
         "lon": [
          5.03257579
         ],
         "marker": {
          "color": "#FF6692",
          "size": [
           9
          ],
          "sizemode": "area",
          "sizeref": 0.044000000000000004
         },
         "mode": "markers",
         "name": "IDÉAL ART DÉCO parking privé sécurisé Darcy Liberté centre gare-ville",
         "showlegend": true,
         "subplot": "mapbox",
         "type": "scattermapbox"
        },
        {
         "hovertemplate": "hotel_name=Aparthotel Adagio Access Dijon République<br>ratings=%{marker.size}<br>lat=%{lat}<br>lon=%{lon}<extra></extra>",
         "lat": [
          47.325526
         ],
         "legendgroup": "Aparthotel Adagio Access Dijon République",
         "lon": [
          5.0494804
         ],
         "marker": {
          "color": "#B6E880",
          "size": [
           8.5
          ],
          "sizemode": "area",
          "sizeref": 0.044000000000000004
         },
         "mode": "markers",
         "name": "Aparthotel Adagio Access Dijon République",
         "showlegend": true,
         "subplot": "mapbox",
         "type": "scattermapbox"
        },
        {
         "hovertemplate": "hotel_name=Le Luxury Design de la Vieille Ville<br>ratings=%{marker.size}<br>lat=%{lat}<br>lon=%{lon}<extra></extra>",
         "lat": [
          45.89832176
         ],
         "legendgroup": "Le Luxury Design de la Vieille Ville",
         "lon": [
          6.12479564
         ],
         "marker": {
          "color": "#FF97FF",
          "size": [
           9.3
          ],
          "sizemode": "area",
          "sizeref": 0.044000000000000004
         },
         "mode": "markers",
         "name": "Le Luxury Design de la Vieille Ville",
         "showlegend": true,
         "subplot": "mapbox",
         "type": "scattermapbox"
        },
        {
         "hovertemplate": "hotel_name=L'escalier du Château - T4 duplex 9 couchages<br>ratings=%{marker.size}<br>lat=%{lat}<br>lon=%{lon}<extra></extra>",
         "lat": [
          45.8982552
         ],
         "legendgroup": "L'escalier du Château - T4 duplex 9 couchages",
         "lon": [
          6.1254589
         ],
         "marker": {
          "color": "#FECB52",
          "size": [
           9.1
          ],
          "sizemode": "area",
          "sizeref": 0.044000000000000004
         },
         "mode": "markers",
         "name": "L'escalier du Château - T4 duplex 9 couchages",
         "showlegend": true,
         "subplot": "mapbox",
         "type": "scattermapbox"
        },
        {
         "hovertemplate": "hotel_name=Le Reflet du Lac<br>ratings=%{marker.size}<br>lat=%{lat}<br>lon=%{lon}<extra></extra>",
         "lat": [
          45.8976442
         ],
         "legendgroup": "Le Reflet du Lac",
         "lon": [
          6.12877652
         ],
         "marker": {
          "color": "#636efa",
          "size": [
           9.2
          ],
          "sizemode": "area",
          "sizeref": 0.044000000000000004
         },
         "mode": "markers",
         "name": "Le Reflet du Lac",
         "showlegend": true,
         "subplot": "mapbox",
         "type": "scattermapbox"
        },
        {
         "hovertemplate": "hotel_name=Le Grand Hôtel Grenoble<br>ratings=%{marker.size}<br>lat=%{lat}<br>lon=%{lon}<extra></extra>",
         "lat": [
          45.19081504
         ],
         "legendgroup": "Le Grand Hôtel Grenoble",
         "lon": [
          5.72854802
         ],
         "marker": {
          "color": "#EF553B",
          "size": [
           8.6
          ],
          "sizemode": "area",
          "sizeref": 0.044000000000000004
         },
         "mode": "markers",
         "name": "Le Grand Hôtel Grenoble",
         "showlegend": true,
         "subplot": "mapbox",
         "type": "scattermapbox"
        },
        {
         "hovertemplate": "hotel_name=Hôtel Victoria<br>ratings=%{marker.size}<br>lat=%{lat}<br>lon=%{lon}<extra></extra>",
         "lat": [
          45.187494
         ],
         "legendgroup": "Hôtel Victoria",
         "lon": [
          5.721472
         ],
         "marker": {
          "color": "#00cc96",
          "size": [
           8.7
          ],
          "sizemode": "area",
          "sizeref": 0.044000000000000004
         },
         "mode": "markers",
         "name": "Hôtel Victoria",
         "showlegend": true,
         "subplot": "mapbox",
         "type": "scattermapbox"
        },
        {
         "hovertemplate": "hotel_name=1924 Hôtel<br>ratings=%{marker.size}<br>lat=%{lat}<br>lon=%{lon}<extra></extra>",
         "lat": [
          45.18928483
         ],
         "legendgroup": "1924 Hôtel",
         "lon": [
          5.71861982
         ],
         "marker": {
          "color": "#ab63fa",
          "size": [
           8.5
          ],
          "sizemode": "area",
          "sizeref": 0.044000000000000004
         },
         "mode": "markers",
         "name": "1924 Hôtel",
         "showlegend": true,
         "subplot": "mapbox",
         "type": "scattermapbox"
        },
        {
         "hovertemplate": "hotel_name=Confort - Appartement 2beapart<br>ratings=%{marker.size}<br>lat=%{lat}<br>lon=%{lon}<extra></extra>",
         "lat": [
          45.7596001
         ],
         "legendgroup": "Confort - Appartement 2beapart",
         "lon": [
          4.8343739
         ],
         "marker": {
          "color": "#FFA15A",
          "size": [
           9.4
          ],
          "sizemode": "area",
          "sizeref": 0.044000000000000004
         },
         "mode": "markers",
         "name": "Confort - Appartement 2beapart",
         "showlegend": true,
         "subplot": "mapbox",
         "type": "scattermapbox"
        },
        {
         "hovertemplate": "hotel_name=La Nuit Saint Georges<br>ratings=%{marker.size}<br>lat=%{lat}<br>lon=%{lon}<extra></extra>",
         "lat": [
          45.758341
         ],
         "legendgroup": "La Nuit Saint Georges",
         "lon": [
          4.8259883
         ],
         "marker": {
          "color": "#19d3f3",
          "size": [
           9
          ],
          "sizemode": "area",
          "sizeref": 0.044000000000000004
         },
         "mode": "markers",
         "name": "La Nuit Saint Georges",
         "showlegend": true,
         "subplot": "mapbox",
         "type": "scattermapbox"
        },
        {
         "hovertemplate": "hotel_name=Quai-Royale<br>ratings=%{marker.size}<br>lat=%{lat}<br>lon=%{lon}<extra></extra>",
         "lat": [
          45.77086052
         ],
         "legendgroup": "Quai-Royale",
         "lon": [
          4.83779863
         ],
         "marker": {
          "color": "#FF6692",
          "size": [
           9.1
          ],
          "sizemode": "area",
          "sizeref": 0.044000000000000004
         },
         "mode": "markers",
         "name": "Quai-Royale",
         "showlegend": true,
         "subplot": "mapbox",
         "type": "scattermapbox"
        },
        {
         "hovertemplate": "hotel_name=Ferme de Bourras<br>ratings=%{marker.size}<br>lat=%{lat}<br>lon=%{lon}<extra></extra>",
         "lat": [
          43.77633074
         ],
         "legendgroup": "Ferme de Bourras",
         "lon": [
          6.2425231
         ],
         "marker": {
          "color": "#B6E880",
          "size": [
           8.9
          ],
          "sizemode": "area",
          "sizeref": 0.044000000000000004
         },
         "mode": "markers",
         "name": "Ferme de Bourras",
         "showlegend": true,
         "subplot": "mapbox",
         "type": "scattermapbox"
        },
        {
         "hovertemplate": "hotel_name=Château d'Esparron<br>ratings=%{marker.size}<br>lat=%{lat}<br>lon=%{lon}<extra></extra>",
         "lat": [
          43.73895675
         ],
         "legendgroup": "Château d'Esparron",
         "lon": [
          5.97598314
         ],
         "marker": {
          "color": "#FF97FF",
          "size": [
           9.3
          ],
          "sizemode": "area",
          "sizeref": 0.044000000000000004
         },
         "mode": "markers",
         "name": "Château d'Esparron",
         "showlegend": true,
         "subplot": "mapbox",
         "type": "scattermapbox"
        },
        {
         "hovertemplate": "hotel_name=Oustaou di Ercole<br>ratings=%{marker.size}<br>lat=%{lat}<br>lon=%{lon}<extra></extra>",
         "lat": [
          43.14957041
         ],
         "legendgroup": "Oustaou di Ercole",
         "lon": [
          6.30204835
         ],
         "marker": {
          "color": "#FECB52",
          "size": [
           9.2
          ],
          "sizemode": "area",
          "sizeref": 0.044000000000000004
         },
         "mode": "markers",
         "name": "Oustaou di Ercole",
         "showlegend": true,
         "subplot": "mapbox",
         "type": "scattermapbox"
        },
        {
         "hovertemplate": "hotel_name=HomeStay Bormes<br>ratings=%{marker.size}<br>lat=%{lat}<br>lon=%{lon}<extra></extra>",
         "lat": [
          43.146445
         ],
         "legendgroup": "HomeStay Bormes",
         "lon": [
          6.327724
         ],
         "marker": {
          "color": "#636efa",
          "size": [
           9.7
          ],
          "sizemode": "area",
          "sizeref": 0.044000000000000004
         },
         "mode": "markers",
         "name": "HomeStay Bormes",
         "showlegend": true,
         "subplot": "mapbox",
         "type": "scattermapbox"
        },
        {
         "hovertemplate": "hotel_name=Villa Les Cents Cyprès<br>ratings=%{marker.size}<br>lat=%{lat}<br>lon=%{lon}<extra></extra>",
         "lat": [
          43.2202401
         ],
         "legendgroup": "Villa Les Cents Cyprès",
         "lon": [
          5.5424693
         ],
         "marker": {
          "color": "#EF553B",
          "size": [
           9.6
          ],
          "sizemode": "area",
          "sizeref": 0.044000000000000004
         },
         "mode": "markers",
         "name": "Villa Les Cents Cyprès",
         "showlegend": true,
         "subplot": "mapbox",
         "type": "scattermapbox"
        },
        {
         "hovertemplate": "hotel_name=T2 VUE IMPRENABLE SUR CASSIS<br>ratings=%{marker.size}<br>lat=%{lat}<br>lon=%{lon}<extra></extra>",
         "lat": [
          43.21462214
         ],
         "legendgroup": "T2 VUE IMPRENABLE SUR CASSIS",
         "lon": [
          5.53477276
         ],
         "marker": {
          "color": "#00cc96",
          "size": [
           9.6
          ],
          "sizemode": "area",
          "sizeref": 0.044000000000000004
         },
         "mode": "markers",
         "name": "T2 VUE IMPRENABLE SUR CASSIS",
         "showlegend": true,
         "subplot": "mapbox",
         "type": "scattermapbox"
        },
        {
         "hovertemplate": "hotel_name=SunRise Cassis<br>ratings=%{marker.size}<br>lat=%{lat}<br>lon=%{lon}<extra></extra>",
         "lat": [
          43.21521908
         ],
         "legendgroup": "SunRise Cassis",
         "lon": [
          5.53568187
         ],
         "marker": {
          "color": "#ab63fa",
          "size": [
           9.5
          ],
          "sizemode": "area",
          "sizeref": 0.044000000000000004
         },
         "mode": "markers",
         "name": "SunRise Cassis",
         "showlegend": true,
         "subplot": "mapbox",
         "type": "scattermapbox"
        },
        {
         "hovertemplate": "hotel_name=SunSet Cassis<br>ratings=%{marker.size}<br>lat=%{lat}<br>lon=%{lon}<extra></extra>",
         "lat": [
          43.215456
         ],
         "legendgroup": "SunSet Cassis",
         "lon": [
          5.535734
         ],
         "marker": {
          "color": "#FFA15A",
          "size": [
           9.5
          ],
          "sizemode": "area",
          "sizeref": 0.044000000000000004
         },
         "mode": "markers",
         "name": "SunSet Cassis",
         "showlegend": true,
         "subplot": "mapbox",
         "type": "scattermapbox"
        },
        {
         "hovertemplate": "hotel_name=Le Plaisir 1827<br>ratings=%{marker.size}<br>lat=%{lat}<br>lon=%{lon}<extra></extra>",
         "lat": [
          43.2965388
         ],
         "legendgroup": "Le Plaisir 1827",
         "lon": [
          5.3913738
         ],
         "marker": {
          "color": "#19d3f3",
          "size": [
           9.2
          ],
          "sizemode": "area",
          "sizeref": 0.044000000000000004
         },
         "mode": "markers",
         "name": "Le Plaisir 1827",
         "showlegend": true,
         "subplot": "mapbox",
         "type": "scattermapbox"
        },
        {
         "hovertemplate": "hotel_name=Les Appartements du Vieux Port<br>ratings=%{marker.size}<br>lat=%{lat}<br>lon=%{lon}<extra></extra>",
         "lat": [
          43.2951169
         ],
         "legendgroup": "Les Appartements du Vieux Port",
         "lon": [
          5.3761663
         ],
         "marker": {
          "color": "#FF6692",
          "size": [
           9.5
          ],
          "sizemode": "area",
          "sizeref": 0.044000000000000004
         },
         "mode": "markers",
         "name": "Les Appartements du Vieux Port",
         "showlegend": true,
         "subplot": "mapbox",
         "type": "scattermapbox"
        },
        {
         "hovertemplate": "hotel_name=Les marches de St Charles - 100M2<br>ratings=%{marker.size}<br>lat=%{lat}<br>lon=%{lon}<extra></extra>",
         "lat": [
          43.30126315
         ],
         "legendgroup": "Les marches de St Charles - 100M2",
         "lon": [
          5.3795836
         ],
         "marker": {
          "color": "#B6E880",
          "size": [
           9.3
          ],
          "sizemode": "area",
          "sizeref": 0.044000000000000004
         },
         "mode": "markers",
         "name": "Les marches de St Charles - 100M2",
         "showlegend": true,
         "subplot": "mapbox",
         "type": "scattermapbox"
        },
        {
         "hovertemplate": "hotel_name=Aparthotel Adagio Aix-en-Provence Centre<br>ratings=%{marker.size}<br>lat=%{lat}<br>lon=%{lon}<extra></extra>",
         "lat": [
          43.52890621
         ],
         "legendgroup": "Aparthotel Adagio Aix-en-Provence Centre",
         "lon": [
          5.44086903
         ],
         "marker": {
          "color": "#FF97FF",
          "size": [
           8.5
          ],
          "sizemode": "area",
          "sizeref": 0.044000000000000004
         },
         "mode": "markers",
         "name": "Aparthotel Adagio Aix-en-Provence Centre",
         "showlegend": true,
         "subplot": "mapbox",
         "type": "scattermapbox"
        },
        {
         "hovertemplate": "hotel_name=B&B Villa Roumanille<br>ratings=%{marker.size}<br>lat=%{lat}<br>lon=%{lon}<extra></extra>",
         "lat": [
          43.51783611
         ],
         "legendgroup": "B&B Villa Roumanille",
         "lon": [
          5.44283509
         ],
         "marker": {
          "color": "#FECB52",
          "size": [
           9.4
          ],
          "sizemode": "area",
          "sizeref": 0.044000000000000004
         },
         "mode": "markers",
         "name": "B&B Villa Roumanille",
         "showlegend": true,
         "subplot": "mapbox",
         "type": "scattermapbox"
        },
        {
         "hovertemplate": "hotel_name=Domaine de Carraire<br>ratings=%{marker.size}<br>lat=%{lat}<br>lon=%{lon}<extra></extra>",
         "lat": [
          43.5660625
         ],
         "legendgroup": "Domaine de Carraire",
         "lon": [
          5.3844477
         ],
         "marker": {
          "color": "#636efa",
          "size": [
           9
          ],
          "sizemode": "area",
          "sizeref": 0.044000000000000004
         },
         "mode": "markers",
         "name": "Domaine de Carraire",
         "showlegend": true,
         "subplot": "mapbox",
         "type": "scattermapbox"
        },
        {
         "hovertemplate": "hotel_name=La Maison Grivolas<br>ratings=%{marker.size}<br>lat=%{lat}<br>lon=%{lon}<extra></extra>",
         "lat": [
          43.951836
         ],
         "legendgroup": "La Maison Grivolas",
         "lon": [
          4.812205
         ],
         "marker": {
          "color": "#EF553B",
          "size": [
           9.7
          ],
          "sizemode": "area",
          "sizeref": 0.044000000000000004
         },
         "mode": "markers",
         "name": "La Maison Grivolas",
         "showlegend": true,
         "subplot": "mapbox",
         "type": "scattermapbox"
        },
        {
         "hovertemplate": "hotel_name=Maison XIXe et Jardin en Intramuros<br>ratings=%{marker.size}<br>lat=%{lat}<br>lon=%{lon}<extra></extra>",
         "lat": [
          43.95034438
         ],
         "legendgroup": "Maison XIXe et Jardin en Intramuros",
         "lon": [
          4.81153785
         ],
         "marker": {
          "color": "#00cc96",
          "size": [
           9.1
          ],
          "sizemode": "area",
          "sizeref": 0.044000000000000004
         },
         "mode": "markers",
         "name": "Maison XIXe et Jardin en Intramuros",
         "showlegend": true,
         "subplot": "mapbox",
         "type": "scattermapbox"
        },
        {
         "hovertemplate": "hotel_name=Clos des Arts Suspendus<br>ratings=%{marker.size}<br>lat=%{lat}<br>lon=%{lon}<extra></extra>",
         "lat": [
          43.94562723
         ],
         "legendgroup": "Clos des Arts Suspendus",
         "lon": [
          4.80969027
         ],
         "marker": {
          "color": "#ab63fa",
          "size": [
           9
          ],
          "sizemode": "area",
          "sizeref": 0.044000000000000004
         },
         "mode": "markers",
         "name": "Clos des Arts Suspendus",
         "showlegend": true,
         "subplot": "mapbox",
         "type": "scattermapbox"
        },
        {
         "hovertemplate": "hotel_name=Royal Hôtel<br>ratings=%{marker.size}<br>lat=%{lat}<br>lon=%{lon}<extra></extra>",
         "lat": [
          43.8388151
         ],
         "legendgroup": "Royal Hôtel",
         "lon": [
          4.35481846
         ],
         "marker": {
          "color": "#FFA15A",
          "size": [
           8.1
          ],
          "sizemode": "area",
          "sizeref": 0.044000000000000004
         },
         "mode": "markers",
         "name": "Royal Hôtel",
         "showlegend": true,
         "subplot": "mapbox",
         "type": "scattermapbox"
        },
        {
         "hovertemplate": "hotel_name=Maison Albar Hotels L’Imperator<br>ratings=%{marker.size}<br>lat=%{lat}<br>lon=%{lon}<extra></extra>",
         "lat": [
          43.83866613
         ],
         "legendgroup": "Maison Albar Hotels L’Imperator",
         "lon": [
          4.35276791
         ],
         "marker": {
          "color": "#19d3f3",
          "size": [
           8.9
          ],
          "sizemode": "area",
          "sizeref": 0.044000000000000004
         },
         "mode": "markers",
         "name": "Maison Albar Hotels L’Imperator",
         "showlegend": true,
         "subplot": "mapbox",
         "type": "scattermapbox"
        },
        {
         "hovertemplate": "hotel_name=Hôtel De L'Amphithéâtre<br>ratings=%{marker.size}<br>lat=%{lat}<br>lon=%{lon}<extra></extra>",
         "lat": [
          43.83581534
         ],
         "legendgroup": "Hôtel De L'Amphithéâtre",
         "lon": [
          4.35914017
         ],
         "marker": {
          "color": "#FF6692",
          "size": [
           8.4
          ],
          "sizemode": "area",
          "sizeref": 0.044000000000000004
         },
         "mode": "markers",
         "name": "Hôtel De L'Amphithéâtre",
         "showlegend": true,
         "subplot": "mapbox",
         "type": "scattermapbox"
        },
        {
         "hovertemplate": "hotel_name=Boutique Hôtel des Remparts & Spa<br>ratings=%{marker.size}<br>lat=%{lat}<br>lon=%{lon}<extra></extra>",
         "lat": [
          43.56803552
         ],
         "legendgroup": "Boutique Hôtel des Remparts & Spa",
         "lon": [
          4.1903438
         ],
         "marker": {
          "color": "#B6E880",
          "size": [
           9.6
          ],
          "sizemode": "area",
          "sizeref": 0.044000000000000004
         },
         "mode": "markers",
         "name": "Boutique Hôtel des Remparts & Spa",
         "showlegend": true,
         "subplot": "mapbox",
         "type": "scattermapbox"
        },
        {
         "hovertemplate": "hotel_name=Au Cœur des Remparts<br>ratings=%{marker.size}<br>lat=%{lat}<br>lon=%{lon}<extra></extra>",
         "lat": [
          43.565401
         ],
         "legendgroup": "Au Cœur des Remparts",
         "lon": [
          4.192973
         ],
         "marker": {
          "color": "#FF97FF",
          "size": [
           9.9
          ],
          "sizemode": "area",
          "sizeref": 0.044000000000000004
         },
         "mode": "markers",
         "name": "Au Cœur des Remparts",
         "showlegend": true,
         "subplot": "mapbox",
         "type": "scattermapbox"
        },
        {
         "hovertemplate": "hotel_name=Appartements 3 étoiles terrasse ou patio intra-muros<br>ratings=%{marker.size}<br>lat=%{lat}<br>lon=%{lon}<extra></extra>",
         "lat": [
          43.5653584
         ],
         "legendgroup": "Appartements 3 étoiles terrasse ou patio intra-muros",
         "lon": [
          4.1927502
         ],
         "marker": {
          "color": "#FECB52",
          "size": [
           9.6
          ],
          "sizemode": "area",
          "sizeref": 0.044000000000000004
         },
         "mode": "markers",
         "name": "Appartements 3 étoiles terrasse ou patio intra-muros",
         "showlegend": true,
         "subplot": "mapbox",
         "type": "scattermapbox"
        },
        {
         "hovertemplate": "hotel_name=La Tramontane<br>ratings=%{marker.size}<br>lat=%{lat}<br>lon=%{lon}<extra></extra>",
         "lat": [
          43.47260109
         ],
         "legendgroup": "La Tramontane",
         "lon": [
          4.41012025
         ],
         "marker": {
          "color": "#636efa",
          "size": [
           9
          ],
          "sizemode": "area",
          "sizeref": 0.044000000000000004
         },
         "mode": "markers",
         "name": "La Tramontane",
         "showlegend": true,
         "subplot": "mapbox",
         "type": "scattermapbox"
        },
        {
         "hovertemplate": "hotel_name=Les Saintes au bord de mer<br>ratings=%{marker.size}<br>lat=%{lat}<br>lon=%{lon}<extra></extra>",
         "lat": [
          43.4511962
         ],
         "legendgroup": "Les Saintes au bord de mer",
         "lon": [
          4.4305069
         ],
         "marker": {
          "color": "#EF553B",
          "size": [
           8.9
          ],
          "sizemode": "area",
          "sizeref": 0.044000000000000004
         },
         "mode": "markers",
         "name": "Les Saintes au bord de mer",
         "showlegend": true,
         "subplot": "mapbox",
         "type": "scattermapbox"
        },
        {
         "hovertemplate": "hotel_name=Mas le Sauvageon<br>ratings=%{marker.size}<br>lat=%{lat}<br>lon=%{lon}<extra></extra>",
         "lat": [
          43.48324784
         ],
         "legendgroup": "Mas le Sauvageon",
         "lon": [
          4.39045474
         ],
         "marker": {
          "color": "#00cc96",
          "size": [
           9.1
          ],
          "sizemode": "area",
          "sizeref": 0.044000000000000004
         },
         "mode": "markers",
         "name": "Mas le Sauvageon",
         "showlegend": true,
         "subplot": "mapbox",
         "type": "scattermapbox"
        },
        {
         "hovertemplate": "hotel_name=BEL APPART COLLIOURE proche gare, centre et plage<br>ratings=%{marker.size}<br>lat=%{lat}<br>lon=%{lon}<extra></extra>",
         "lat": [
          42.5261464
         ],
         "legendgroup": "BEL APPART COLLIOURE proche gare, centre et plage",
         "lon": [
          3.0800641
         ],
         "marker": {
          "color": "#ab63fa",
          "size": [
           9.3
          ],
          "sizemode": "area",
          "sizeref": 0.044000000000000004
         },
         "mode": "markers",
         "name": "BEL APPART COLLIOURE proche gare, centre et plage",
         "showlegend": true,
         "subplot": "mapbox",
         "type": "scattermapbox"
        },
        {
         "hovertemplate": "hotel_name=SAPHIR - Superbe T2 Vue Mer et Montagne avec Piscine et Garage privé<br>ratings=%{marker.size}<br>lat=%{lat}<br>lon=%{lon}<extra></extra>",
         "lat": [
          42.52685322
         ],
         "legendgroup": "SAPHIR - Superbe T2 Vue Mer et Montagne avec Piscine et Garage privé",
         "lon": [
          3.07479878
         ],
         "marker": {
          "color": "#FFA15A",
          "size": [
           9.7
          ],
          "sizemode": "area",
          "sizeref": 0.044000000000000004
         },
         "mode": "markers",
         "name": "SAPHIR - Superbe T2 Vue Mer et Montagne avec Piscine et Garage privé",
         "showlegend": true,
         "subplot": "mapbox",
         "type": "scattermapbox"
        },
        {
         "hovertemplate": "hotel_name=L'équinoxe<br>ratings=%{marker.size}<br>lat=%{lat}<br>lon=%{lon}<extra></extra>",
         "lat": [
          42.5271579
         ],
         "legendgroup": "L'équinoxe",
         "lon": [
          3.0832689
         ],
         "marker": {
          "color": "#19d3f3",
          "size": [
           9.8
          ],
          "sizemode": "area",
          "sizeref": 0.044000000000000004
         },
         "mode": "markers",
         "name": "L'équinoxe",
         "showlegend": true,
         "subplot": "mapbox",
         "type": "scattermapbox"
        },
        {
         "hovertemplate": "hotel_name=Domaine Le Couvent<br>ratings=%{marker.size}<br>lat=%{lat}<br>lon=%{lon}<extra></extra>",
         "lat": [
          43.21626207
         ],
         "legendgroup": "Domaine Le Couvent",
         "lon": [
          2.28648797
         ],
         "marker": {
          "color": "#FF6692",
          "size": [
           9.4
          ],
          "sizemode": "area",
          "sizeref": 0.044000000000000004
         },
         "mode": "markers",
         "name": "Domaine Le Couvent",
         "showlegend": true,
         "subplot": "mapbox",
         "type": "scattermapbox"
        },
        {
         "hovertemplate": "hotel_name=Carcassonne Guesthouse<br>ratings=%{marker.size}<br>lat=%{lat}<br>lon=%{lon}<extra></extra>",
         "lat": [
          43.20869364
         ],
         "legendgroup": "Carcassonne Guesthouse",
         "lon": [
          2.35533625
         ],
         "marker": {
          "color": "#B6E880",
          "size": [
           9.5
          ],
          "sizemode": "area",
          "sizeref": 0.044000000000000004
         },
         "mode": "markers",
         "name": "Carcassonne Guesthouse",
         "showlegend": true,
         "subplot": "mapbox",
         "type": "scattermapbox"
        },
        {
         "hovertemplate": "hotel_name=Carcassonne Townhouse<br>ratings=%{marker.size}<br>lat=%{lat}<br>lon=%{lon}<extra></extra>",
         "lat": [
          43.209841
         ],
         "legendgroup": "Carcassonne Townhouse",
         "lon": [
          2.356905
         ],
         "marker": {
          "color": "#FF97FF",
          "size": [
           9.4
          ],
          "sizemode": "area",
          "sizeref": 0.044000000000000004
         },
         "mode": "markers",
         "name": "Carcassonne Townhouse",
         "showlegend": true,
         "subplot": "mapbox",
         "type": "scattermapbox"
        },
        {
         "hovertemplate": "hotel_name=Residhome Toulouse Ponts Jumeaux<br>ratings=%{marker.size}<br>lat=%{lat}<br>lon=%{lon}<extra></extra>",
         "lat": [
          43.61177
         ],
         "legendgroup": "Residhome Toulouse Ponts Jumeaux",
         "lon": [
          1.421825
         ],
         "marker": {
          "color": "#FECB52",
          "size": [
           9
          ],
          "sizemode": "area",
          "sizeref": 0.044000000000000004
         },
         "mode": "markers",
         "name": "Residhome Toulouse Ponts Jumeaux",
         "showlegend": true,
         "subplot": "mapbox",
         "type": "scattermapbox"
        },
        {
         "hovertemplate": "hotel_name=404 · Wonder Appart - Vue Garonne -<br>ratings=%{marker.size}<br>lat=%{lat}<br>lon=%{lon}<extra></extra>",
         "lat": [
          43.5954533
         ],
         "legendgroup": "404 · Wonder Appart - Vue Garonne -",
         "lon": [
          1.4411676
         ],
         "marker": {
          "color": "#636efa",
          "size": [
           8.8
          ],
          "sizemode": "area",
          "sizeref": 0.044000000000000004
         },
         "mode": "markers",
         "name": "404 · Wonder Appart - Vue Garonne -",
         "showlegend": true,
         "subplot": "mapbox",
         "type": "scattermapbox"
        },
        {
         "hovertemplate": "hotel_name=Résidence Bachelier<br>ratings=%{marker.size}<br>lat=%{lat}<br>lon=%{lon}<extra></extra>",
         "lat": [
          43.6066999
         ],
         "legendgroup": "Résidence Bachelier",
         "lon": [
          1.4523282
         ],
         "marker": {
          "color": "#EF553B",
          "size": [
           8.8
          ],
          "sizemode": "area",
          "sizeref": 0.044000000000000004
         },
         "mode": "markers",
         "name": "Résidence Bachelier",
         "showlegend": true,
         "subplot": "mapbox",
         "type": "scattermapbox"
        },
        {
         "hovertemplate": "hotel_name=Les Toits du Capitole - Loft de standing 65 m2 - Parking en option<br>ratings=%{marker.size}<br>lat=%{lat}<br>lon=%{lon}<extra></extra>",
         "lat": [
          43.60510201
         ],
         "legendgroup": "Les Toits du Capitole - Loft de standing 65 m2 - Parking en option",
         "lon": [
          1.44236863
         ],
         "marker": {
          "color": "#00cc96",
          "size": [
           9.4
          ],
          "sizemode": "area",
          "sizeref": 0.044000000000000004
         },
         "mode": "markers",
         "name": "Les Toits du Capitole - Loft de standing 65 m2 - Parking en option",
         "showlegend": true,
         "subplot": "mapbox",
         "type": "scattermapbox"
        },
        {
         "hovertemplate": "hotel_name=Castel Bois Marie<br>ratings=%{marker.size}<br>lat=%{lat}<br>lon=%{lon}<extra></extra>",
         "lat": [
          43.979174
         ],
         "legendgroup": "Castel Bois Marie",
         "lon": [
          1.309142
         ],
         "marker": {
          "color": "#ab63fa",
          "size": [
           9.5
          ],
          "sizemode": "area",
          "sizeref": 0.044000000000000004
         },
         "mode": "markers",
         "name": "Castel Bois Marie",
         "showlegend": true,
         "subplot": "mapbox",
         "type": "scattermapbox"
        },
        {
         "hovertemplate": "hotel_name=Manoir de la Gravette Maison & Table d'Hôtes<br>ratings=%{marker.size}<br>lat=%{lat}<br>lon=%{lon}<extra></extra>",
         "lat": [
          44.04904337
         ],
         "legendgroup": "Manoir de la Gravette Maison & Table d'Hôtes",
         "lon": [
          1.34388352
         ],
         "marker": {
          "color": "#FFA15A",
          "size": [
           9.7
          ],
          "sizemode": "area",
          "sizeref": 0.044000000000000004
         },
         "mode": "markers",
         "name": "Manoir de la Gravette Maison & Table d'Hôtes",
         "showlegend": true,
         "subplot": "mapbox",
         "type": "scattermapbox"
        },
        {
         "hovertemplate": "hotel_name=Cosy Red 4 Pers - Neuf et au Calme - Fibre-Netflix<br>ratings=%{marker.size}<br>lat=%{lat}<br>lon=%{lon}<extra></extra>",
         "lat": [
          44.013431
         ],
         "legendgroup": "Cosy Red 4 Pers - Neuf et au Calme - Fibre-Netflix",
         "lon": [
          1.3609724
         ],
         "marker": {
          "color": "#19d3f3",
          "size": [
           9.6
          ],
          "sizemode": "area",
          "sizeref": 0.044000000000000004
         },
         "mode": "markers",
         "name": "Cosy Red 4 Pers - Neuf et au Calme - Fibre-Netflix",
         "showlegend": true,
         "subplot": "mapbox",
         "type": "scattermapbox"
        },
        {
         "hovertemplate": "hotel_name=Hôtel Au Bon Coin<br>ratings=%{marker.size}<br>lat=%{lat}<br>lon=%{lon}<extra></extra>",
         "lat": [
          43.4821737
         ],
         "legendgroup": "Hôtel Au Bon Coin",
         "lon": [
          -1.5541904
         ],
         "marker": {
          "color": "#FF6692",
          "size": [
           9.3
          ],
          "sizemode": "area",
          "sizeref": 0.044000000000000004
         },
         "mode": "markers",
         "name": "Hôtel Au Bon Coin",
         "showlegend": true,
         "subplot": "mapbox",
         "type": "scattermapbox"
        },
        {
         "hovertemplate": "hotel_name=VILLA MARGA<br>ratings=%{marker.size}<br>lat=%{lat}<br>lon=%{lon}<extra></extra>",
         "lat": [
          43.4823427
         ],
         "legendgroup": "VILLA MARGA",
         "lon": [
          -1.5543166
         ],
         "marker": {
          "color": "#B6E880",
          "size": [
           9.5
          ],
          "sizemode": "area",
          "sizeref": 0.044000000000000004
         },
         "mode": "markers",
         "name": "VILLA MARGA",
         "showlegend": true,
         "subplot": "mapbox",
         "type": "scattermapbox"
        },
        {
         "hovertemplate": "hotel_name=Hotel Saint Julien<br>ratings=%{marker.size}<br>lat=%{lat}<br>lon=%{lon}<extra></extra>",
         "lat": [
          43.479139
         ],
         "legendgroup": "Hotel Saint Julien",
         "lon": [
          -1.56227544
         ],
         "marker": {
          "color": "#FF97FF",
          "size": [
           9.3
          ],
          "sizemode": "area",
          "sizeref": 0.044000000000000004
         },
         "mode": "markers",
         "name": "Hotel Saint Julien",
         "showlegend": true,
         "subplot": "mapbox",
         "type": "scattermapbox"
        },
        {
         "hovertemplate": "hotel_name=Parc 709 Bayonne<br>ratings=%{marker.size}<br>lat=%{lat}<br>lon=%{lon}<extra></extra>",
         "lat": [
          43.495606
         ],
         "legendgroup": "Parc 709 Bayonne",
         "lon": [
          -1.481317
         ],
         "marker": {
          "color": "#FECB52",
          "size": [
           9.4
          ],
          "sizemode": "area",
          "sizeref": 0.044000000000000004
         },
         "mode": "markers",
         "name": "Parc 709 Bayonne",
         "showlegend": true,
         "subplot": "mapbox",
         "type": "scattermapbox"
        },
        {
         "hovertemplate": "hotel_name=Péniche DJEBELLE<br>ratings=%{marker.size}<br>lat=%{lat}<br>lon=%{lon}<extra></extra>",
         "lat": [
          43.496335
         ],
         "legendgroup": "Péniche DJEBELLE",
         "lon": [
          -1.473749
         ],
         "marker": {
          "color": "#636efa",
          "size": [
           9.5
          ],
          "sizemode": "area",
          "sizeref": 0.044000000000000004
         },
         "mode": "markers",
         "name": "Péniche DJEBELLE",
         "showlegend": true,
         "subplot": "mapbox",
         "type": "scattermapbox"
        },
        {
         "hovertemplate": "hotel_name=La Chambre d'Hote de Mano - Centre-ville de Bayonne<br>ratings=%{marker.size}<br>lat=%{lat}<br>lon=%{lon}<extra></extra>",
         "lat": [
          43.49530232
         ],
         "legendgroup": "La Chambre d'Hote de Mano - Centre-ville de Bayonne",
         "lon": [
          -1.46939464
         ],
         "marker": {
          "color": "#EF553B",
          "size": [
           9.7
          ],
          "sizemode": "area",
          "sizeref": 0.044000000000000004
         },
         "mode": "markers",
         "name": "La Chambre d'Hote de Mano - Centre-ville de Bayonne",
         "showlegend": true,
         "subplot": "mapbox",
         "type": "scattermapbox"
        },
        {
         "hovertemplate": "hotel_name=Central Park Hôtel & Spa<br>ratings=%{marker.size}<br>lat=%{lat}<br>lon=%{lon}<extra></extra>",
         "lat": [
          46.145995
         ],
         "legendgroup": "Central Park Hôtel & Spa",
         "lon": [
          -1.152398
         ],
         "marker": {
          "color": "#00cc96",
          "size": [
           8.7
          ],
          "sizemode": "area",
          "sizeref": 0.044000000000000004
         },
         "mode": "markers",
         "name": "Central Park Hôtel & Spa",
         "showlegend": true,
         "subplot": "mapbox",
         "type": "scattermapbox"
        },
        {
         "hovertemplate": "hotel_name=Les Halles 2<br>ratings=%{marker.size}<br>lat=%{lat}<br>lon=%{lon}<extra></extra>",
         "lat": [
          46.161422
         ],
         "legendgroup": "Les Halles 2",
         "lon": [
          -1.149162
         ],
         "marker": {
          "color": "#ab63fa",
          "size": [
           8.9
          ],
          "sizemode": "area",
          "sizeref": 0.044000000000000004
         },
         "mode": "markers",
         "name": "Les Halles 2",
         "showlegend": true,
         "subplot": "mapbox",
         "type": "scattermapbox"
        },
        {
         "hovertemplate": "hotel_name=Les Halles 1<br>ratings=%{marker.size}<br>lat=%{lat}<br>lon=%{lon}<extra></extra>",
         "lat": [
          46.1614215
         ],
         "legendgroup": "Les Halles 1",
         "lon": [
          -1.1491622
         ],
         "marker": {
          "color": "#FFA15A",
          "size": [
           8.7
          ],
          "sizemode": "area",
          "sizeref": 0.044000000000000004
         },
         "mode": "markers",
         "name": "Les Halles 1",
         "showlegend": true,
         "subplot": "mapbox",
         "type": "scattermapbox"
        }
       ],
       "layout": {
        "autosize": true,
        "legend": {
         "itemsizing": "constant",
         "title": {
          "text": "hotel_name"
         },
         "tracegroupgap": 0
        },
        "mapbox": {
         "bearing": 0,
         "center": {
          "lat": 46.816366631240385,
          "lon": 6.2707114168889575
         },
         "domain": {
          "x": [
           0,
           1
          ],
          "y": [
           0,
           1
          ]
         },
         "pitch": 0,
         "style": "carto-positron",
         "zoom": 3.553067073654596
        },
        "margin": {
         "t": 60
        },
        "template": {
         "data": {
          "bar": [
           {
            "error_x": {
             "color": "#2a3f5f"
            },
            "error_y": {
             "color": "#2a3f5f"
            },
            "marker": {
             "line": {
              "color": "#E5ECF6",
              "width": 0.5
             },
             "pattern": {
              "fillmode": "overlay",
              "size": 10,
              "solidity": 0.2
             }
            },
            "type": "bar"
           }
          ],
          "barpolar": [
           {
            "marker": {
             "line": {
              "color": "#E5ECF6",
              "width": 0.5
             },
             "pattern": {
              "fillmode": "overlay",
              "size": 10,
              "solidity": 0.2
             }
            },
            "type": "barpolar"
           }
          ],
          "carpet": [
           {
            "aaxis": {
             "endlinecolor": "#2a3f5f",
             "gridcolor": "white",
             "linecolor": "white",
             "minorgridcolor": "white",
             "startlinecolor": "#2a3f5f"
            },
            "baxis": {
             "endlinecolor": "#2a3f5f",
             "gridcolor": "white",
             "linecolor": "white",
             "minorgridcolor": "white",
             "startlinecolor": "#2a3f5f"
            },
            "type": "carpet"
           }
          ],
          "choropleth": [
           {
            "colorbar": {
             "outlinewidth": 0,
             "ticks": ""
            },
            "type": "choropleth"
           }
          ],
          "contour": [
           {
            "colorbar": {
             "outlinewidth": 0,
             "ticks": ""
            },
            "colorscale": [
             [
              0,
              "#0d0887"
             ],
             [
              0.1111111111111111,
              "#46039f"
             ],
             [
              0.2222222222222222,
              "#7201a8"
             ],
             [
              0.3333333333333333,
              "#9c179e"
             ],
             [
              0.4444444444444444,
              "#bd3786"
             ],
             [
              0.5555555555555556,
              "#d8576b"
             ],
             [
              0.6666666666666666,
              "#ed7953"
             ],
             [
              0.7777777777777778,
              "#fb9f3a"
             ],
             [
              0.8888888888888888,
              "#fdca26"
             ],
             [
              1,
              "#f0f921"
             ]
            ],
            "type": "contour"
           }
          ],
          "contourcarpet": [
           {
            "colorbar": {
             "outlinewidth": 0,
             "ticks": ""
            },
            "type": "contourcarpet"
           }
          ],
          "heatmap": [
           {
            "colorbar": {
             "outlinewidth": 0,
             "ticks": ""
            },
            "colorscale": [
             [
              0,
              "#0d0887"
             ],
             [
              0.1111111111111111,
              "#46039f"
             ],
             [
              0.2222222222222222,
              "#7201a8"
             ],
             [
              0.3333333333333333,
              "#9c179e"
             ],
             [
              0.4444444444444444,
              "#bd3786"
             ],
             [
              0.5555555555555556,
              "#d8576b"
             ],
             [
              0.6666666666666666,
              "#ed7953"
             ],
             [
              0.7777777777777778,
              "#fb9f3a"
             ],
             [
              0.8888888888888888,
              "#fdca26"
             ],
             [
              1,
              "#f0f921"
             ]
            ],
            "type": "heatmap"
           }
          ],
          "heatmapgl": [
           {
            "colorbar": {
             "outlinewidth": 0,
             "ticks": ""
            },
            "colorscale": [
             [
              0,
              "#0d0887"
             ],
             [
              0.1111111111111111,
              "#46039f"
             ],
             [
              0.2222222222222222,
              "#7201a8"
             ],
             [
              0.3333333333333333,
              "#9c179e"
             ],
             [
              0.4444444444444444,
              "#bd3786"
             ],
             [
              0.5555555555555556,
              "#d8576b"
             ],
             [
              0.6666666666666666,
              "#ed7953"
             ],
             [
              0.7777777777777778,
              "#fb9f3a"
             ],
             [
              0.8888888888888888,
              "#fdca26"
             ],
             [
              1,
              "#f0f921"
             ]
            ],
            "type": "heatmapgl"
           }
          ],
          "histogram": [
           {
            "marker": {
             "pattern": {
              "fillmode": "overlay",
              "size": 10,
              "solidity": 0.2
             }
            },
            "type": "histogram"
           }
          ],
          "histogram2d": [
           {
            "colorbar": {
             "outlinewidth": 0,
             "ticks": ""
            },
            "colorscale": [
             [
              0,
              "#0d0887"
             ],
             [
              0.1111111111111111,
              "#46039f"
             ],
             [
              0.2222222222222222,
              "#7201a8"
             ],
             [
              0.3333333333333333,
              "#9c179e"
             ],
             [
              0.4444444444444444,
              "#bd3786"
             ],
             [
              0.5555555555555556,
              "#d8576b"
             ],
             [
              0.6666666666666666,
              "#ed7953"
             ],
             [
              0.7777777777777778,
              "#fb9f3a"
             ],
             [
              0.8888888888888888,
              "#fdca26"
             ],
             [
              1,
              "#f0f921"
             ]
            ],
            "type": "histogram2d"
           }
          ],
          "histogram2dcontour": [
           {
            "colorbar": {
             "outlinewidth": 0,
             "ticks": ""
            },
            "colorscale": [
             [
              0,
              "#0d0887"
             ],
             [
              0.1111111111111111,
              "#46039f"
             ],
             [
              0.2222222222222222,
              "#7201a8"
             ],
             [
              0.3333333333333333,
              "#9c179e"
             ],
             [
              0.4444444444444444,
              "#bd3786"
             ],
             [
              0.5555555555555556,
              "#d8576b"
             ],
             [
              0.6666666666666666,
              "#ed7953"
             ],
             [
              0.7777777777777778,
              "#fb9f3a"
             ],
             [
              0.8888888888888888,
              "#fdca26"
             ],
             [
              1,
              "#f0f921"
             ]
            ],
            "type": "histogram2dcontour"
           }
          ],
          "mesh3d": [
           {
            "colorbar": {
             "outlinewidth": 0,
             "ticks": ""
            },
            "type": "mesh3d"
           }
          ],
          "parcoords": [
           {
            "line": {
             "colorbar": {
              "outlinewidth": 0,
              "ticks": ""
             }
            },
            "type": "parcoords"
           }
          ],
          "pie": [
           {
            "automargin": true,
            "type": "pie"
           }
          ],
          "scatter": [
           {
            "marker": {
             "colorbar": {
              "outlinewidth": 0,
              "ticks": ""
             }
            },
            "type": "scatter"
           }
          ],
          "scatter3d": [
           {
            "line": {
             "colorbar": {
              "outlinewidth": 0,
              "ticks": ""
             }
            },
            "marker": {
             "colorbar": {
              "outlinewidth": 0,
              "ticks": ""
             }
            },
            "type": "scatter3d"
           }
          ],
          "scattercarpet": [
           {
            "marker": {
             "colorbar": {
              "outlinewidth": 0,
              "ticks": ""
             }
            },
            "type": "scattercarpet"
           }
          ],
          "scattergeo": [
           {
            "marker": {
             "colorbar": {
              "outlinewidth": 0,
              "ticks": ""
             }
            },
            "type": "scattergeo"
           }
          ],
          "scattergl": [
           {
            "marker": {
             "colorbar": {
              "outlinewidth": 0,
              "ticks": ""
             }
            },
            "type": "scattergl"
           }
          ],
          "scattermapbox": [
           {
            "marker": {
             "colorbar": {
              "outlinewidth": 0,
              "ticks": ""
             }
            },
            "type": "scattermapbox"
           }
          ],
          "scatterpolar": [
           {
            "marker": {
             "colorbar": {
              "outlinewidth": 0,
              "ticks": ""
             }
            },
            "type": "scatterpolar"
           }
          ],
          "scatterpolargl": [
           {
            "marker": {
             "colorbar": {
              "outlinewidth": 0,
              "ticks": ""
             }
            },
            "type": "scatterpolargl"
           }
          ],
          "scatterternary": [
           {
            "marker": {
             "colorbar": {
              "outlinewidth": 0,
              "ticks": ""
             }
            },
            "type": "scatterternary"
           }
          ],
          "surface": [
           {
            "colorbar": {
             "outlinewidth": 0,
             "ticks": ""
            },
            "colorscale": [
             [
              0,
              "#0d0887"
             ],
             [
              0.1111111111111111,
              "#46039f"
             ],
             [
              0.2222222222222222,
              "#7201a8"
             ],
             [
              0.3333333333333333,
              "#9c179e"
             ],
             [
              0.4444444444444444,
              "#bd3786"
             ],
             [
              0.5555555555555556,
              "#d8576b"
             ],
             [
              0.6666666666666666,
              "#ed7953"
             ],
             [
              0.7777777777777778,
              "#fb9f3a"
             ],
             [
              0.8888888888888888,
              "#fdca26"
             ],
             [
              1,
              "#f0f921"
             ]
            ],
            "type": "surface"
           }
          ],
          "table": [
           {
            "cells": {
             "fill": {
              "color": "#EBF0F8"
             },
             "line": {
              "color": "white"
             }
            },
            "header": {
             "fill": {
              "color": "#C8D4E3"
             },
             "line": {
              "color": "white"
             }
            },
            "type": "table"
           }
          ]
         },
         "layout": {
          "annotationdefaults": {
           "arrowcolor": "#2a3f5f",
           "arrowhead": 0,
           "arrowwidth": 1
          },
          "autotypenumbers": "strict",
          "coloraxis": {
           "colorbar": {
            "outlinewidth": 0,
            "ticks": ""
           }
          },
          "colorscale": {
           "diverging": [
            [
             0,
             "#8e0152"
            ],
            [
             0.1,
             "#c51b7d"
            ],
            [
             0.2,
             "#de77ae"
            ],
            [
             0.3,
             "#f1b6da"
            ],
            [
             0.4,
             "#fde0ef"
            ],
            [
             0.5,
             "#f7f7f7"
            ],
            [
             0.6,
             "#e6f5d0"
            ],
            [
             0.7,
             "#b8e186"
            ],
            [
             0.8,
             "#7fbc41"
            ],
            [
             0.9,
             "#4d9221"
            ],
            [
             1,
             "#276419"
            ]
           ],
           "sequential": [
            [
             0,
             "#0d0887"
            ],
            [
             0.1111111111111111,
             "#46039f"
            ],
            [
             0.2222222222222222,
             "#7201a8"
            ],
            [
             0.3333333333333333,
             "#9c179e"
            ],
            [
             0.4444444444444444,
             "#bd3786"
            ],
            [
             0.5555555555555556,
             "#d8576b"
            ],
            [
             0.6666666666666666,
             "#ed7953"
            ],
            [
             0.7777777777777778,
             "#fb9f3a"
            ],
            [
             0.8888888888888888,
             "#fdca26"
            ],
            [
             1,
             "#f0f921"
            ]
           ],
           "sequentialminus": [
            [
             0,
             "#0d0887"
            ],
            [
             0.1111111111111111,
             "#46039f"
            ],
            [
             0.2222222222222222,
             "#7201a8"
            ],
            [
             0.3333333333333333,
             "#9c179e"
            ],
            [
             0.4444444444444444,
             "#bd3786"
            ],
            [
             0.5555555555555556,
             "#d8576b"
            ],
            [
             0.6666666666666666,
             "#ed7953"
            ],
            [
             0.7777777777777778,
             "#fb9f3a"
            ],
            [
             0.8888888888888888,
             "#fdca26"
            ],
            [
             1,
             "#f0f921"
            ]
           ]
          },
          "colorway": [
           "#636efa",
           "#EF553B",
           "#00cc96",
           "#ab63fa",
           "#FFA15A",
           "#19d3f3",
           "#FF6692",
           "#B6E880",
           "#FF97FF",
           "#FECB52"
          ],
          "font": {
           "color": "#2a3f5f"
          },
          "geo": {
           "bgcolor": "white",
           "lakecolor": "white",
           "landcolor": "#E5ECF6",
           "showlakes": true,
           "showland": true,
           "subunitcolor": "white"
          },
          "hoverlabel": {
           "align": "left"
          },
          "hovermode": "closest",
          "mapbox": {
           "style": "light"
          },
          "paper_bgcolor": "white",
          "plot_bgcolor": "#E5ECF6",
          "polar": {
           "angularaxis": {
            "gridcolor": "white",
            "linecolor": "white",
            "ticks": ""
           },
           "bgcolor": "#E5ECF6",
           "radialaxis": {
            "gridcolor": "white",
            "linecolor": "white",
            "ticks": ""
           }
          },
          "scene": {
           "xaxis": {
            "backgroundcolor": "#E5ECF6",
            "gridcolor": "white",
            "gridwidth": 2,
            "linecolor": "white",
            "showbackground": true,
            "ticks": "",
            "zerolinecolor": "white"
           },
           "yaxis": {
            "backgroundcolor": "#E5ECF6",
            "gridcolor": "white",
            "gridwidth": 2,
            "linecolor": "white",
            "showbackground": true,
            "ticks": "",
            "zerolinecolor": "white"
           },
           "zaxis": {
            "backgroundcolor": "#E5ECF6",
            "gridcolor": "white",
            "gridwidth": 2,
            "linecolor": "white",
            "showbackground": true,
            "ticks": "",
            "zerolinecolor": "white"
           }
          },
          "shapedefaults": {
           "line": {
            "color": "#2a3f5f"
           }
          },
          "ternary": {
           "aaxis": {
            "gridcolor": "white",
            "linecolor": "white",
            "ticks": ""
           },
           "baxis": {
            "gridcolor": "white",
            "linecolor": "white",
            "ticks": ""
           },
           "bgcolor": "#E5ECF6",
           "caxis": {
            "gridcolor": "white",
            "linecolor": "white",
            "ticks": ""
           }
          },
          "title": {
           "x": 0.05
          },
          "xaxis": {
           "automargin": true,
           "gridcolor": "white",
           "linecolor": "white",
           "ticks": "",
           "title": {
            "standoff": 15
           },
           "zerolinecolor": "white",
           "zerolinewidth": 2
          },
          "yaxis": {
           "automargin": true,
           "gridcolor": "white",
           "linecolor": "white",
           "ticks": "",
           "title": {
            "standoff": 15
           },
           "zerolinecolor": "white",
           "zerolinewidth": 2
          }
         }
        }
       }
      },
      "image/png": "[encoded data removed]",
      "text/html": [
       "<div>                            <div id=\"a22af906-8343-4347-93eb-65616671ea85\" class=\"plotly-graph-div\" style=\"height:525px; width:100%;\"></div>            <script type=\"text/javascript\">                require([\"plotly\"], function(Plotly) {                    window.PLOTLYENV=window.PLOTLYENV || {};                                    if (document.getElementById(\"a22af906-8343-4347-93eb-65616671ea85\")) {                    Plotly.newPlot(                        \"a22af906-8343-4347-93eb-65616671ea85\",                        [{\"hovertemplate\":\"hotel_name=H\\u00f4tel Vert<br>ratings=%{marker.size}<br>lat=%{lat}<br>lon=%{lon}<extra></extra>\",\"lat\":[48.61470049],\"legendgroup\":\"H\\u00f4tel Vert\",\"lon\":[-1.50961697],\"marker\":{\"color\":\"#636efa\",\"size\":[8.1],\"sizemode\":\"area\",\"sizeref\":0.044000000000000004},\"mode\":\"markers\",\"name\":\"H\\u00f4tel Vert\",\"showlegend\":true,\"subplot\":\"mapbox\",\"type\":\"scattermapbox\"},{\"hovertemplate\":\"hotel_name=Mercure Mont Saint Michel<br>ratings=%{marker.size}<br>lat=%{lat}<br>lon=%{lon}<extra></extra>\",\"lat\":[48.61424653],\"legendgroup\":\"Mercure Mont Saint Michel\",\"lon\":[-1.51054502],\"marker\":{\"color\":\"#EF553B\",\"size\":[8.2],\"sizemode\":\"area\",\"sizeref\":0.044000000000000004},\"mode\":\"markers\",\"name\":\"Mercure Mont Saint Michel\",\"showlegend\":true,\"subplot\":\"mapbox\",\"type\":\"scattermapbox\"},{\"hovertemplate\":\"hotel_name=Auberge Saint Pierre<br>ratings=%{marker.size}<br>lat=%{lat}<br>lon=%{lon}<extra></extra>\",\"lat\":[48.63568798],\"legendgroup\":\"Auberge Saint Pierre\",\"lon\":[-1.50988251],\"marker\":{\"color\":\"#00cc96\",\"size\":[8.1],\"sizemode\":\"area\",\"sizeref\":0.044000000000000004},\"mode\":\"markers\",\"name\":\"Auberge Saint Pierre\",\"showlegend\":true,\"subplot\":\"mapbox\",\"type\":\"scattermapbox\"},{\"hovertemplate\":\"hotel_name=R\\u00e9sidence Quai Sud- Le Charcot<br>ratings=%{marker.size}<br>lat=%{lat}<br>lon=%{lon}<extra></extra>\",\"lat\":[48.65172091],\"legendgroup\":\"R\\u00e9sidence Quai Sud- Le Charcot\",\"lon\":[-2.01660376],\"marker\":{\"color\":\"#ab63fa\",\"size\":[9.4],\"sizemode\":\"area\",\"sizeref\":0.044000000000000004},\"mode\":\"markers\",\"name\":\"R\\u00e9sidence Quai Sud- Le Charcot\",\"showlegend\":true,\"subplot\":\"mapbox\",\"type\":\"scattermapbox\"},{\"hovertemplate\":\"hotel_name=L'AccrocheCoeur<br>ratings=%{marker.size}<br>lat=%{lat}<br>lon=%{lon}<extra></extra>\",\"lat\":[48.648137],\"legendgroup\":\"L'AccrocheCoeur\",\"lon\":[-2.027065],\"marker\":{\"color\":\"#FFA15A\",\"size\":[9.4],\"sizemode\":\"area\",\"sizeref\":0.044000000000000004},\"mode\":\"markers\",\"name\":\"L'AccrocheCoeur\",\"showlegend\":true,\"subplot\":\"mapbox\",\"type\":\"scattermapbox\"},{\"hovertemplate\":\"hotel_name=Le Blue Note by Cocoonr - Bel appartement de standing<br>ratings=%{marker.size}<br>lat=%{lat}<br>lon=%{lon}<extra></extra>\",\"lat\":[48.6506809],\"legendgroup\":\"Le Blue Note by Cocoonr - Bel appartement de standing\",\"lon\":[-2.0243211],\"marker\":{\"color\":\"#19d3f3\",\"size\":[9.8],\"sizemode\":\"area\",\"sizeref\":0.044000000000000004},\"mode\":\"markers\",\"name\":\"Le Blue Note by Cocoonr - Bel appartement de standing\",\"showlegend\":true,\"subplot\":\"mapbox\",\"type\":\"scattermapbox\"},{\"hovertemplate\":\"hotel_name=Manoir Sainte Victoire<br>ratings=%{marker.size}<br>lat=%{lat}<br>lon=%{lon}<extra></extra>\",\"lat\":[49.27649171],\"legendgroup\":\"Manoir Sainte Victoire\",\"lon\":[-0.7057596],\"marker\":{\"color\":\"#FF6692\",\"size\":[9.6],\"sizemode\":\"area\",\"sizeref\":0.044000000000000004},\"mode\":\"markers\",\"name\":\"Manoir Sainte Victoire\",\"showlegend\":true,\"subplot\":\"mapbox\",\"type\":\"scattermapbox\"},{\"hovertemplate\":\"hotel_name=Ch\\u00e2teau Saint Gilles<br>ratings=%{marker.size}<br>lat=%{lat}<br>lon=%{lon}<extra></extra>\",\"lat\":[49.249366],\"legendgroup\":\"Ch\\u00e2teau Saint Gilles\",\"lon\":[-0.712469],\"marker\":{\"color\":\"#B6E880\",\"size\":[9.7],\"sizemode\":\"area\",\"sizeref\":0.044000000000000004},\"mode\":\"markers\",\"name\":\"Ch\\u00e2teau Saint Gilles\",\"showlegend\":true,\"subplot\":\"mapbox\",\"type\":\"scattermapbox\"},{\"hovertemplate\":\"hotel_name=Clos de Bellefontaine B&B<br>ratings=%{marker.size}<br>lat=%{lat}<br>lon=%{lon}<extra></extra>\",\"lat\":[49.27267164],\"legendgroup\":\"Clos de Bellefontaine B&B\",\"lon\":[-0.69486111],\"marker\":{\"color\":\"#FF97FF\",\"size\":[9.6],\"sizemode\":\"area\",\"sizeref\":0.044000000000000004},\"mode\":\"markers\",\"name\":\"Clos de Bellefontaine B&B\",\"showlegend\":true,\"subplot\":\"mapbox\",\"type\":\"scattermapbox\"},{\"hovertemplate\":\"hotel_name=Hilton Garden Inn Le Havre Centre<br>ratings=%{marker.size}<br>lat=%{lat}<br>lon=%{lon}<extra></extra>\",\"lat\":[49.49008699],\"legendgroup\":\"Hilton Garden Inn Le Havre Centre\",\"lon\":[0.09774696],\"marker\":{\"color\":\"#FECB52\",\"size\":[8.7],\"sizemode\":\"area\",\"sizeref\":0.044000000000000004},\"mode\":\"markers\",\"name\":\"Hilton Garden Inn Le Havre Centre\",\"showlegend\":true,\"subplot\":\"mapbox\",\"type\":\"scattermapbox\"},{\"hovertemplate\":\"hotel_name=Foch<br>ratings=%{marker.size}<br>lat=%{lat}<br>lon=%{lon}<extra></extra>\",\"lat\":[49.4930727],\"legendgroup\":\"Foch\",\"lon\":[0.1022734],\"marker\":{\"color\":\"#636efa\",\"size\":[9.1],\"sizemode\":\"area\",\"sizeref\":0.044000000000000004},\"mode\":\"markers\",\"name\":\"Foch\",\"showlegend\":true,\"subplot\":\"mapbox\",\"type\":\"scattermapbox\"},{\"hovertemplate\":\"hotel_name=Le Valmer<br>ratings=%{marker.size}<br>lat=%{lat}<br>lon=%{lon}<extra></extra>\",\"lat\":[49.50123653],\"legendgroup\":\"Le Valmer\",\"lon\":[0.11174429],\"marker\":{\"color\":\"#EF553B\",\"size\":[9.4],\"sizemode\":\"area\",\"sizeref\":0.044000000000000004},\"mode\":\"markers\",\"name\":\"Le Valmer\",\"showlegend\":true,\"subplot\":\"mapbox\",\"type\":\"scattermapbox\"},{\"hovertemplate\":\"hotel_name=Nuit Zen Rouen - Jacuzzi - Centre Historique<br>ratings=%{marker.size}<br>lat=%{lat}<br>lon=%{lon}<extra></extra>\",\"lat\":[49.444266],\"legendgroup\":\"Nuit Zen Rouen - Jacuzzi - Centre Historique\",\"lon\":[1.096321],\"marker\":{\"color\":\"#00cc96\",\"size\":[9.2],\"sizemode\":\"area\",\"sizeref\":0.044000000000000004},\"mode\":\"markers\",\"name\":\"Nuit Zen Rouen - Jacuzzi - Centre Historique\",\"showlegend\":true,\"subplot\":\"mapbox\",\"type\":\"scattermapbox\"},{\"hovertemplate\":\"hotel_name=G\\u00eete Beffroy<br>ratings=%{marker.size}<br>lat=%{lat}<br>lon=%{lon}<extra></extra>\",\"lat\":[49.44530171],\"legendgroup\":\"G\\u00eete Beffroy\",\"lon\":[1.09545842],\"marker\":{\"color\":\"#ab63fa\",\"size\":[9.2],\"sizemode\":\"area\",\"sizeref\":0.044000000000000004},\"mode\":\"markers\",\"name\":\"G\\u00eete Beffroy\",\"showlegend\":true,\"subplot\":\"mapbox\",\"type\":\"scattermapbox\"},{\"hovertemplate\":\"hotel_name=Superbe appartement dans le quartier de la gare<br>ratings=%{marker.size}<br>lat=%{lat}<br>lon=%{lon}<extra></extra>\",\"lat\":[49.4485027],\"legendgroup\":\"Superbe appartement dans le quartier de la gare\",\"lon\":[1.09623344],\"marker\":{\"color\":\"#FFA15A\",\"size\":[9.6],\"sizemode\":\"area\",\"sizeref\":0.044000000000000004},\"mode\":\"markers\",\"name\":\"Superbe appartement dans le quartier de la gare\",\"showlegend\":true,\"subplot\":\"mapbox\",\"type\":\"scattermapbox\"},{\"hovertemplate\":\"hotel_name=My Op\\u00e9ra<br>ratings=%{marker.size}<br>lat=%{lat}<br>lon=%{lon}<extra></extra>\",\"lat\":[48.8781902],\"legendgroup\":\"My Op\\u00e9ra\",\"lon\":[2.3273697],\"marker\":{\"color\":\"#19d3f3\",\"size\":[9.3],\"sizemode\":\"area\",\"sizeref\":0.044000000000000004},\"mode\":\"markers\",\"name\":\"My Op\\u00e9ra\",\"showlegend\":true,\"subplot\":\"mapbox\",\"type\":\"scattermapbox\"},{\"hovertemplate\":\"hotel_name=Chambre d h\\u00f4te : Louvre Elegant Apt Suite<br>ratings=%{marker.size}<br>lat=%{lat}<br>lon=%{lon}<extra></extra>\",\"lat\":[48.86269529],\"legendgroup\":\"Chambre d h\\u00f4te : Louvre Elegant Apt Suite\",\"lon\":[2.34072919],\"marker\":{\"color\":\"#FF6692\",\"size\":[9.3],\"sizemode\":\"area\",\"sizeref\":0.044000000000000004},\"mode\":\"markers\",\"name\":\"Chambre d h\\u00f4te : Louvre Elegant Apt Suite\",\"showlegend\":true,\"subplot\":\"mapbox\",\"type\":\"scattermapbox\"},{\"hovertemplate\":\"hotel_name=Maison Longuevie<br>ratings=%{marker.size}<br>lat=%{lat}<br>lon=%{lon}<extra></extra>\",\"lat\":[49.887694],\"legendgroup\":\"Maison Longuevie\",\"lon\":[2.294524],\"marker\":{\"color\":\"#B6E880\",\"size\":[9.5],\"sizemode\":\"area\",\"sizeref\":0.044000000000000004},\"mode\":\"markers\",\"name\":\"Maison Longuevie\",\"showlegend\":true,\"subplot\":\"mapbox\",\"type\":\"scattermapbox\"},{\"hovertemplate\":\"hotel_name=Amiens LOFT<br>ratings=%{marker.size}<br>lat=%{lat}<br>lon=%{lon}<extra></extra>\",\"lat\":[49.89582519],\"legendgroup\":\"Amiens LOFT\",\"lon\":[2.30412349],\"marker\":{\"color\":\"#FF97FF\",\"size\":[9.4],\"sizemode\":\"area\",\"sizeref\":0.044000000000000004},\"mode\":\"markers\",\"name\":\"Amiens LOFT\",\"showlegend\":true,\"subplot\":\"mapbox\",\"type\":\"scattermapbox\"},{\"hovertemplate\":\"hotel_name=Appartement centre ville - parking priv\\u00e9 gratuit<br>ratings=%{marker.size}<br>lat=%{lat}<br>lon=%{lon}<extra></extra>\",\"lat\":[49.8953873],\"legendgroup\":\"Appartement centre ville - parking priv\\u00e9 gratuit\",\"lon\":[2.3061943],\"marker\":{\"color\":\"#FECB52\",\"size\":[9.3],\"sizemode\":\"area\",\"sizeref\":0.044000000000000004},\"mode\":\"markers\",\"name\":\"Appartement centre ville - parking priv\\u00e9 gratuit\",\"showlegend\":true,\"subplot\":\"mapbox\",\"type\":\"scattermapbox\"},{\"hovertemplate\":\"hotel_name=Appartement terrasse 4personnes rue de jemmapes<br>ratings=%{marker.size}<br>lat=%{lat}<br>lon=%{lon}<extra></extra>\",\"lat\":[50.64477],\"legendgroup\":\"Appartement terrasse 4personnes rue de jemmapes\",\"lon\":[3.058449],\"marker\":{\"color\":\"#636efa\",\"size\":[9.2],\"sizemode\":\"area\",\"sizeref\":0.044000000000000004},\"mode\":\"markers\",\"name\":\"Appartement terrasse 4personnes rue de jemmapes\",\"showlegend\":true,\"subplot\":\"mapbox\",\"type\":\"scattermapbox\"},{\"hovertemplate\":\"hotel_name=OKKO Hotels Lille Centre<br>ratings=%{marker.size}<br>lat=%{lat}<br>lon=%{lon}<extra></extra>\",\"lat\":[50.634074],\"legendgroup\":\"OKKO Hotels Lille Centre\",\"lon\":[3.064229],\"marker\":{\"color\":\"#EF553B\",\"size\":[8.8],\"sizemode\":\"area\",\"sizeref\":0.044000000000000004},\"mode\":\"markers\",\"name\":\"OKKO Hotels Lille Centre\",\"showlegend\":true,\"subplot\":\"mapbox\",\"type\":\"scattermapbox\"},{\"hovertemplate\":\"hotel_name=H\\u00f4tel Barri\\u00e8re Lille<br>ratings=%{marker.size}<br>lat=%{lat}<br>lon=%{lon}<extra></extra>\",\"lat\":[50.63754054],\"legendgroup\":\"H\\u00f4tel Barri\\u00e8re Lille\",\"lon\":[3.07692289],\"marker\":{\"color\":\"#00cc96\",\"size\":[8.7],\"sizemode\":\"area\",\"sizeref\":0.044000000000000004},\"mode\":\"markers\",\"name\":\"H\\u00f4tel Barri\\u00e8re Lille\",\"showlegend\":true,\"subplot\":\"mapbox\",\"type\":\"scattermapbox\"},{\"hovertemplate\":\"hotel_name=H\\u00f4tel ORIGAMI<br>ratings=%{marker.size}<br>lat=%{lat}<br>lon=%{lon}<extra></extra>\",\"lat\":[48.59108149],\"legendgroup\":\"H\\u00f4tel ORIGAMI\",\"lon\":[7.727094],\"marker\":{\"color\":\"#ab63fa\",\"size\":[9.0],\"sizemode\":\"area\",\"sizeref\":0.044000000000000004},\"mode\":\"markers\",\"name\":\"H\\u00f4tel ORIGAMI\",\"showlegend\":true,\"subplot\":\"mapbox\",\"type\":\"scattermapbox\"},{\"hovertemplate\":\"hotel_name=H\\u00f4tel Tandem - Boutique H\\u00f4tel<br>ratings=%{marker.size}<br>lat=%{lat}<br>lon=%{lon}<extra></extra>\",\"lat\":[48.58383633],\"legendgroup\":\"H\\u00f4tel Tandem - Boutique H\\u00f4tel\",\"lon\":[7.73494899],\"marker\":{\"color\":\"#FFA15A\",\"size\":[9.1],\"sizemode\":\"area\",\"sizeref\":0.044000000000000004},\"mode\":\"markers\",\"name\":\"H\\u00f4tel Tandem - Boutique H\\u00f4tel\",\"showlegend\":true,\"subplot\":\"mapbox\",\"type\":\"scattermapbox\"},{\"hovertemplate\":\"hotel_name=Carpe Diem Home - Au pied de la Cath\\u00e9drale<br>ratings=%{marker.size}<br>lat=%{lat}<br>lon=%{lon}<extra></extra>\",\"lat\":[48.582077],\"legendgroup\":\"Carpe Diem Home - Au pied de la Cath\\u00e9drale\",\"lon\":[7.749161],\"marker\":{\"color\":\"#19d3f3\",\"size\":[9.5],\"sizemode\":\"area\",\"sizeref\":0.044000000000000004},\"mode\":\"markers\",\"name\":\"Carpe Diem Home - Au pied de la Cath\\u00e9drale\",\"showlegend\":true,\"subplot\":\"mapbox\",\"type\":\"scattermapbox\"},{\"hovertemplate\":\"hotel_name=SERENITY Colmar - G\\u00eetes de Prestige 4 et 5 \\u00e9toiles - 2, 4 et 6 personnes- Centre Historique<br>ratings=%{marker.size}<br>lat=%{lat}<br>lon=%{lon}<extra></extra>\",\"lat\":[48.07774414],\"legendgroup\":\"SERENITY Colmar - G\\u00eetes de Prestige 4 et 5 \\u00e9toiles - 2, 4 et 6 personnes- Centre Historique\",\"lon\":[7.36180786],\"marker\":{\"color\":\"#FF6692\",\"size\":[9.6],\"sizemode\":\"area\",\"sizeref\":0.044000000000000004},\"mode\":\"markers\",\"name\":\"SERENITY Colmar - G\\u00eetes de Prestige 4 et 5 \\u00e9toiles - 2, 4 et 6 personnes- Centre Historique\",\"showlegend\":true,\"subplot\":\"mapbox\",\"type\":\"scattermapbox\"},{\"hovertemplate\":\"hotel_name=LA CLE DES TOITS<br>ratings=%{marker.size}<br>lat=%{lat}<br>lon=%{lon}<extra></extra>\",\"lat\":[48.0784199],\"legendgroup\":\"LA CLE DES TOITS\",\"lon\":[7.3595564],\"marker\":{\"color\":\"#B6E880\",\"size\":[9.5],\"sizemode\":\"area\",\"sizeref\":0.044000000000000004},\"mode\":\"markers\",\"name\":\"LA CLE DES TOITS\",\"showlegend\":true,\"subplot\":\"mapbox\",\"type\":\"scattermapbox\"},{\"hovertemplate\":\"hotel_name=Le 8 de C\\u0153ur - Garage priv\\u00e9 sur demande<br>ratings=%{marker.size}<br>lat=%{lat}<br>lon=%{lon}<extra></extra>\",\"lat\":[48.0774007],\"legendgroup\":\"Le 8 de C\\u0153ur - Garage priv\\u00e9 sur demande\",\"lon\":[7.3610058],\"marker\":{\"color\":\"#FF97FF\",\"size\":[9.5],\"sizemode\":\"area\",\"sizeref\":0.044000000000000004},\"mode\":\"markers\",\"name\":\"Le 8 de C\\u0153ur - Garage priv\\u00e9 sur demande\",\"showlegend\":true,\"subplot\":\"mapbox\",\"type\":\"scattermapbox\"},{\"hovertemplate\":\"hotel_name=La Grange de Madeleine<br>ratings=%{marker.size}<br>lat=%{lat}<br>lon=%{lon}<extra></extra>\",\"lat\":[48.0417829],\"legendgroup\":\"La Grange de Madeleine\",\"lon\":[7.3065467],\"marker\":{\"color\":\"#FECB52\",\"size\":[9.7],\"sizemode\":\"area\",\"sizeref\":0.044000000000000004},\"mode\":\"markers\",\"name\":\"La Grange de Madeleine\",\"showlegend\":true,\"subplot\":\"mapbox\",\"type\":\"scattermapbox\"},{\"hovertemplate\":\"hotel_name=Studio Eguisheim<br>ratings=%{marker.size}<br>lat=%{lat}<br>lon=%{lon}<extra></extra>\",\"lat\":[48.0476831],\"legendgroup\":\"Studio Eguisheim\",\"lon\":[7.3132915],\"marker\":{\"color\":\"#636efa\",\"size\":[9.4],\"sizemode\":\"area\",\"sizeref\":0.044000000000000004},\"mode\":\"markers\",\"name\":\"Studio Eguisheim\",\"showlegend\":true,\"subplot\":\"mapbox\",\"type\":\"scattermapbox\"},{\"hovertemplate\":\"hotel_name=G\\u00eete au ch\\u00e2teau fleuri<br>ratings=%{marker.size}<br>lat=%{lat}<br>lon=%{lon}<extra></extra>\",\"lat\":[48.042875],\"legendgroup\":\"G\\u00eete au ch\\u00e2teau fleuri\",\"lon\":[7.30672],\"marker\":{\"color\":\"#EF553B\",\"size\":[9.5],\"sizemode\":\"area\",\"sizeref\":0.044000000000000004},\"mode\":\"markers\",\"name\":\"G\\u00eete au ch\\u00e2teau fleuri\",\"showlegend\":true,\"subplot\":\"mapbox\",\"type\":\"scattermapbox\"},{\"hovertemplate\":\"hotel_name=H\\u00f4tel de Paris<br>ratings=%{marker.size}<br>lat=%{lat}<br>lon=%{lon}<extra></extra>\",\"lat\":[47.23856537],\"legendgroup\":\"H\\u00f4tel de Paris\",\"lon\":[6.02532506],\"marker\":{\"color\":\"#00cc96\",\"size\":[8.6],\"sizemode\":\"area\",\"sizeref\":0.044000000000000004},\"mode\":\"markers\",\"name\":\"H\\u00f4tel de Paris\",\"showlegend\":true,\"subplot\":\"mapbox\",\"type\":\"scattermapbox\"},{\"hovertemplate\":\"hotel_name=H\\u00f4tel Restaurant Spa Le Sauvage<br>ratings=%{marker.size}<br>lat=%{lat}<br>lon=%{lon}<extra></extra>\",\"lat\":[47.23171767],\"legendgroup\":\"H\\u00f4tel Restaurant Spa Le Sauvage\",\"lon\":[6.02759153],\"marker\":{\"color\":\"#ab63fa\",\"size\":[9.0],\"sizemode\":\"area\",\"sizeref\":0.044000000000000004},\"mode\":\"markers\",\"name\":\"H\\u00f4tel Restaurant Spa Le Sauvage\",\"showlegend\":true,\"subplot\":\"mapbox\",\"type\":\"scattermapbox\"},{\"hovertemplate\":\"hotel_name=L'adresse \\u00e0 Besan\\u00e7on<br>ratings=%{marker.size}<br>lat=%{lat}<br>lon=%{lon}<extra></extra>\",\"lat\":[47.24736834],\"legendgroup\":\"L'adresse \\u00e0 Besan\\u00e7on\",\"lon\":[6.03148374],\"marker\":{\"color\":\"#FFA15A\",\"size\":[9.7],\"sizemode\":\"area\",\"sizeref\":0.044000000000000004},\"mode\":\"markers\",\"name\":\"L'adresse \\u00e0 Besan\\u00e7on\",\"showlegend\":true,\"subplot\":\"mapbox\",\"type\":\"scattermapbox\"},{\"hovertemplate\":\"hotel_name=H\\u00f4tel des Halles<br>ratings=%{marker.size}<br>lat=%{lat}<br>lon=%{lon}<extra></extra>\",\"lat\":[47.32558142],\"legendgroup\":\"H\\u00f4tel des Halles\",\"lon\":[5.0369183],\"marker\":{\"color\":\"#19d3f3\",\"size\":[8.8],\"sizemode\":\"area\",\"sizeref\":0.044000000000000004},\"mode\":\"markers\",\"name\":\"H\\u00f4tel des Halles\",\"showlegend\":true,\"subplot\":\"mapbox\",\"type\":\"scattermapbox\"},{\"hovertemplate\":\"hotel_name=ID\\u00c9AL ART D\\u00c9CO parking priv\\u00e9 s\\u00e9curis\\u00e9 Darcy Libert\\u00e9 centre gare-ville<br>ratings=%{marker.size}<br>lat=%{lat}<br>lon=%{lon}<extra></extra>\",\"lat\":[47.32659473],\"legendgroup\":\"ID\\u00c9AL ART D\\u00c9CO parking priv\\u00e9 s\\u00e9curis\\u00e9 Darcy Libert\\u00e9 centre gare-ville\",\"lon\":[5.03257579],\"marker\":{\"color\":\"#FF6692\",\"size\":[9.0],\"sizemode\":\"area\",\"sizeref\":0.044000000000000004},\"mode\":\"markers\",\"name\":\"ID\\u00c9AL ART D\\u00c9CO parking priv\\u00e9 s\\u00e9curis\\u00e9 Darcy Libert\\u00e9 centre gare-ville\",\"showlegend\":true,\"subplot\":\"mapbox\",\"type\":\"scattermapbox\"},{\"hovertemplate\":\"hotel_name=Aparthotel Adagio Access Dijon R\\u00e9publique<br>ratings=%{marker.size}<br>lat=%{lat}<br>lon=%{lon}<extra></extra>\",\"lat\":[47.325526],\"legendgroup\":\"Aparthotel Adagio Access Dijon R\\u00e9publique\",\"lon\":[5.0494804],\"marker\":{\"color\":\"#B6E880\",\"size\":[8.5],\"sizemode\":\"area\",\"sizeref\":0.044000000000000004},\"mode\":\"markers\",\"name\":\"Aparthotel Adagio Access Dijon R\\u00e9publique\",\"showlegend\":true,\"subplot\":\"mapbox\",\"type\":\"scattermapbox\"},{\"hovertemplate\":\"hotel_name=Le Luxury Design de la Vieille Ville<br>ratings=%{marker.size}<br>lat=%{lat}<br>lon=%{lon}<extra></extra>\",\"lat\":[45.89832176],\"legendgroup\":\"Le Luxury Design de la Vieille Ville\",\"lon\":[6.12479564],\"marker\":{\"color\":\"#FF97FF\",\"size\":[9.3],\"sizemode\":\"area\",\"sizeref\":0.044000000000000004},\"mode\":\"markers\",\"name\":\"Le Luxury Design de la Vieille Ville\",\"showlegend\":true,\"subplot\":\"mapbox\",\"type\":\"scattermapbox\"},{\"hovertemplate\":\"hotel_name=L'escalier du Ch\\u00e2teau - T4 duplex 9 couchages<br>ratings=%{marker.size}<br>lat=%{lat}<br>lon=%{lon}<extra></extra>\",\"lat\":[45.8982552],\"legendgroup\":\"L'escalier du Ch\\u00e2teau - T4 duplex 9 couchages\",\"lon\":[6.1254589],\"marker\":{\"color\":\"#FECB52\",\"size\":[9.1],\"sizemode\":\"area\",\"sizeref\":0.044000000000000004},\"mode\":\"markers\",\"name\":\"L'escalier du Ch\\u00e2teau - T4 duplex 9 couchages\",\"showlegend\":true,\"subplot\":\"mapbox\",\"type\":\"scattermapbox\"},{\"hovertemplate\":\"hotel_name=Le Reflet du Lac<br>ratings=%{marker.size}<br>lat=%{lat}<br>lon=%{lon}<extra></extra>\",\"lat\":[45.8976442],\"legendgroup\":\"Le Reflet du Lac\",\"lon\":[6.12877652],\"marker\":{\"color\":\"#636efa\",\"size\":[9.2],\"sizemode\":\"area\",\"sizeref\":0.044000000000000004},\"mode\":\"markers\",\"name\":\"Le Reflet du Lac\",\"showlegend\":true,\"subplot\":\"mapbox\",\"type\":\"scattermapbox\"},{\"hovertemplate\":\"hotel_name=Le Grand H\\u00f4tel Grenoble<br>ratings=%{marker.size}<br>lat=%{lat}<br>lon=%{lon}<extra></extra>\",\"lat\":[45.19081504],\"legendgroup\":\"Le Grand H\\u00f4tel Grenoble\",\"lon\":[5.72854802],\"marker\":{\"color\":\"#EF553B\",\"size\":[8.6],\"sizemode\":\"area\",\"sizeref\":0.044000000000000004},\"mode\":\"markers\",\"name\":\"Le Grand H\\u00f4tel Grenoble\",\"showlegend\":true,\"subplot\":\"mapbox\",\"type\":\"scattermapbox\"},{\"hovertemplate\":\"hotel_name=H\\u00f4tel Victoria<br>ratings=%{marker.size}<br>lat=%{lat}<br>lon=%{lon}<extra></extra>\",\"lat\":[45.187494],\"legendgroup\":\"H\\u00f4tel Victoria\",\"lon\":[5.721472],\"marker\":{\"color\":\"#00cc96\",\"size\":[8.7],\"sizemode\":\"area\",\"sizeref\":0.044000000000000004},\"mode\":\"markers\",\"name\":\"H\\u00f4tel Victoria\",\"showlegend\":true,\"subplot\":\"mapbox\",\"type\":\"scattermapbox\"},{\"hovertemplate\":\"hotel_name=1924 H\\u00f4tel<br>ratings=%{marker.size}<br>lat=%{lat}<br>lon=%{lon}<extra></extra>\",\"lat\":[45.18928483],\"legendgroup\":\"1924 H\\u00f4tel\",\"lon\":[5.71861982],\"marker\":{\"color\":\"#ab63fa\",\"size\":[8.5],\"sizemode\":\"area\",\"sizeref\":0.044000000000000004},\"mode\":\"markers\",\"name\":\"1924 H\\u00f4tel\",\"showlegend\":true,\"subplot\":\"mapbox\",\"type\":\"scattermapbox\"},{\"hovertemplate\":\"hotel_name=Confort - Appartement 2beapart<br>ratings=%{marker.size}<br>lat=%{lat}<br>lon=%{lon}<extra></extra>\",\"lat\":[45.7596001],\"legendgroup\":\"Confort - Appartement 2beapart\",\"lon\":[4.8343739],\"marker\":{\"color\":\"#FFA15A\",\"size\":[9.4],\"sizemode\":\"area\",\"sizeref\":0.044000000000000004},\"mode\":\"markers\",\"name\":\"Confort - Appartement 2beapart\",\"showlegend\":true,\"subplot\":\"mapbox\",\"type\":\"scattermapbox\"},{\"hovertemplate\":\"hotel_name=La Nuit Saint Georges<br>ratings=%{marker.size}<br>lat=%{lat}<br>lon=%{lon}<extra></extra>\",\"lat\":[45.758341],\"legendgroup\":\"La Nuit Saint Georges\",\"lon\":[4.8259883],\"marker\":{\"color\":\"#19d3f3\",\"size\":[9.0],\"sizemode\":\"area\",\"sizeref\":0.044000000000000004},\"mode\":\"markers\",\"name\":\"La Nuit Saint Georges\",\"showlegend\":true,\"subplot\":\"mapbox\",\"type\":\"scattermapbox\"},{\"hovertemplate\":\"hotel_name=Quai-Royale<br>ratings=%{marker.size}<br>lat=%{lat}<br>lon=%{lon}<extra></extra>\",\"lat\":[45.77086052],\"legendgroup\":\"Quai-Royale\",\"lon\":[4.83779863],\"marker\":{\"color\":\"#FF6692\",\"size\":[9.1],\"sizemode\":\"area\",\"sizeref\":0.044000000000000004},\"mode\":\"markers\",\"name\":\"Quai-Royale\",\"showlegend\":true,\"subplot\":\"mapbox\",\"type\":\"scattermapbox\"},{\"hovertemplate\":\"hotel_name=Ferme de Bourras<br>ratings=%{marker.size}<br>lat=%{lat}<br>lon=%{lon}<extra></extra>\",\"lat\":[43.77633074],\"legendgroup\":\"Ferme de Bourras\",\"lon\":[6.2425231],\"marker\":{\"color\":\"#B6E880\",\"size\":[8.9],\"sizemode\":\"area\",\"sizeref\":0.044000000000000004},\"mode\":\"markers\",\"name\":\"Ferme de Bourras\",\"showlegend\":true,\"subplot\":\"mapbox\",\"type\":\"scattermapbox\"},{\"hovertemplate\":\"hotel_name=Ch\\u00e2teau d'Esparron<br>ratings=%{marker.size}<br>lat=%{lat}<br>lon=%{lon}<extra></extra>\",\"lat\":[43.73895675],\"legendgroup\":\"Ch\\u00e2teau d'Esparron\",\"lon\":[5.97598314],\"marker\":{\"color\":\"#FF97FF\",\"size\":[9.3],\"sizemode\":\"area\",\"sizeref\":0.044000000000000004},\"mode\":\"markers\",\"name\":\"Ch\\u00e2teau d'Esparron\",\"showlegend\":true,\"subplot\":\"mapbox\",\"type\":\"scattermapbox\"},{\"hovertemplate\":\"hotel_name=Oustaou di Ercole<br>ratings=%{marker.size}<br>lat=%{lat}<br>lon=%{lon}<extra></extra>\",\"lat\":[43.14957041],\"legendgroup\":\"Oustaou di Ercole\",\"lon\":[6.30204835],\"marker\":{\"color\":\"#FECB52\",\"size\":[9.2],\"sizemode\":\"area\",\"sizeref\":0.044000000000000004},\"mode\":\"markers\",\"name\":\"Oustaou di Ercole\",\"showlegend\":true,\"subplot\":\"mapbox\",\"type\":\"scattermapbox\"},{\"hovertemplate\":\"hotel_name=HomeStay Bormes<br>ratings=%{marker.size}<br>lat=%{lat}<br>lon=%{lon}<extra></extra>\",\"lat\":[43.146445],\"legendgroup\":\"HomeStay Bormes\",\"lon\":[6.327724],\"marker\":{\"color\":\"#636efa\",\"size\":[9.7],\"sizemode\":\"area\",\"sizeref\":0.044000000000000004},\"mode\":\"markers\",\"name\":\"HomeStay Bormes\",\"showlegend\":true,\"subplot\":\"mapbox\",\"type\":\"scattermapbox\"},{\"hovertemplate\":\"hotel_name=Villa Les Cents Cypr\\u00e8s<br>ratings=%{marker.size}<br>lat=%{lat}<br>lon=%{lon}<extra></extra>\",\"lat\":[43.2202401],\"legendgroup\":\"Villa Les Cents Cypr\\u00e8s\",\"lon\":[5.5424693],\"marker\":{\"color\":\"#EF553B\",\"size\":[9.6],\"sizemode\":\"area\",\"sizeref\":0.044000000000000004},\"mode\":\"markers\",\"name\":\"Villa Les Cents Cypr\\u00e8s\",\"showlegend\":true,\"subplot\":\"mapbox\",\"type\":\"scattermapbox\"},{\"hovertemplate\":\"hotel_name=T2 VUE IMPRENABLE SUR CASSIS<br>ratings=%{marker.size}<br>lat=%{lat}<br>lon=%{lon}<extra></extra>\",\"lat\":[43.21462214],\"legendgroup\":\"T2 VUE IMPRENABLE SUR CASSIS\",\"lon\":[5.53477276],\"marker\":{\"color\":\"#00cc96\",\"size\":[9.6],\"sizemode\":\"area\",\"sizeref\":0.044000000000000004},\"mode\":\"markers\",\"name\":\"T2 VUE IMPRENABLE SUR CASSIS\",\"showlegend\":true,\"subplot\":\"mapbox\",\"type\":\"scattermapbox\"},{\"hovertemplate\":\"hotel_name=SunRise Cassis<br>ratings=%{marker.size}<br>lat=%{lat}<br>lon=%{lon}<extra></extra>\",\"lat\":[43.21521908],\"legendgroup\":\"SunRise Cassis\",\"lon\":[5.53568187],\"marker\":{\"color\":\"#ab63fa\",\"size\":[9.5],\"sizemode\":\"area\",\"sizeref\":0.044000000000000004},\"mode\":\"markers\",\"name\":\"SunRise Cassis\",\"showlegend\":true,\"subplot\":\"mapbox\",\"type\":\"scattermapbox\"},{\"hovertemplate\":\"hotel_name=SunSet Cassis<br>ratings=%{marker.size}<br>lat=%{lat}<br>lon=%{lon}<extra></extra>\",\"lat\":[43.215456],\"legendgroup\":\"SunSet Cassis\",\"lon\":[5.535734],\"marker\":{\"color\":\"#FFA15A\",\"size\":[9.5],\"sizemode\":\"area\",\"sizeref\":0.044000000000000004},\"mode\":\"markers\",\"name\":\"SunSet Cassis\",\"showlegend\":true,\"subplot\":\"mapbox\",\"type\":\"scattermapbox\"},{\"hovertemplate\":\"hotel_name=Le Plaisir 1827<br>ratings=%{marker.size}<br>lat=%{lat}<br>lon=%{lon}<extra></extra>\",\"lat\":[43.2965388],\"legendgroup\":\"Le Plaisir 1827\",\"lon\":[5.3913738],\"marker\":{\"color\":\"#19d3f3\",\"size\":[9.2],\"sizemode\":\"area\",\"sizeref\":0.044000000000000004},\"mode\":\"markers\",\"name\":\"Le Plaisir 1827\",\"showlegend\":true,\"subplot\":\"mapbox\",\"type\":\"scattermapbox\"},{\"hovertemplate\":\"hotel_name=Les Appartements du Vieux Port<br>ratings=%{marker.size}<br>lat=%{lat}<br>lon=%{lon}<extra></extra>\",\"lat\":[43.2951169],\"legendgroup\":\"Les Appartements du Vieux Port\",\"lon\":[5.3761663],\"marker\":{\"color\":\"#FF6692\",\"size\":[9.5],\"sizemode\":\"area\",\"sizeref\":0.044000000000000004},\"mode\":\"markers\",\"name\":\"Les Appartements du Vieux Port\",\"showlegend\":true,\"subplot\":\"mapbox\",\"type\":\"scattermapbox\"},{\"hovertemplate\":\"hotel_name=Les marches de St Charles - 100M2<br>ratings=%{marker.size}<br>lat=%{lat}<br>lon=%{lon}<extra></extra>\",\"lat\":[43.30126315],\"legendgroup\":\"Les marches de St Charles - 100M2\",\"lon\":[5.3795836],\"marker\":{\"color\":\"#B6E880\",\"size\":[9.3],\"sizemode\":\"area\",\"sizeref\":0.044000000000000004},\"mode\":\"markers\",\"name\":\"Les marches de St Charles - 100M2\",\"showlegend\":true,\"subplot\":\"mapbox\",\"type\":\"scattermapbox\"},{\"hovertemplate\":\"hotel_name=Aparthotel Adagio Aix-en-Provence Centre<br>ratings=%{marker.size}<br>lat=%{lat}<br>lon=%{lon}<extra></extra>\",\"lat\":[43.52890621],\"legendgroup\":\"Aparthotel Adagio Aix-en-Provence Centre\",\"lon\":[5.44086903],\"marker\":{\"color\":\"#FF97FF\",\"size\":[8.5],\"sizemode\":\"area\",\"sizeref\":0.044000000000000004},\"mode\":\"markers\",\"name\":\"Aparthotel Adagio Aix-en-Provence Centre\",\"showlegend\":true,\"subplot\":\"mapbox\",\"type\":\"scattermapbox\"},{\"hovertemplate\":\"hotel_name=B&B Villa Roumanille<br>ratings=%{marker.size}<br>lat=%{lat}<br>lon=%{lon}<extra></extra>\",\"lat\":[43.51783611],\"legendgroup\":\"B&B Villa Roumanille\",\"lon\":[5.44283509],\"marker\":{\"color\":\"#FECB52\",\"size\":[9.4],\"sizemode\":\"area\",\"sizeref\":0.044000000000000004},\"mode\":\"markers\",\"name\":\"B&B Villa Roumanille\",\"showlegend\":true,\"subplot\":\"mapbox\",\"type\":\"scattermapbox\"},{\"hovertemplate\":\"hotel_name=Domaine de Carraire<br>ratings=%{marker.size}<br>lat=%{lat}<br>lon=%{lon}<extra></extra>\",\"lat\":[43.5660625],\"legendgroup\":\"Domaine de Carraire\",\"lon\":[5.3844477],\"marker\":{\"color\":\"#636efa\",\"size\":[9.0],\"sizemode\":\"area\",\"sizeref\":0.044000000000000004},\"mode\":\"markers\",\"name\":\"Domaine de Carraire\",\"showlegend\":true,\"subplot\":\"mapbox\",\"type\":\"scattermapbox\"},{\"hovertemplate\":\"hotel_name=La Maison Grivolas<br>ratings=%{marker.size}<br>lat=%{lat}<br>lon=%{lon}<extra></extra>\",\"lat\":[43.951836],\"legendgroup\":\"La Maison Grivolas\",\"lon\":[4.812205],\"marker\":{\"color\":\"#EF553B\",\"size\":[9.7],\"sizemode\":\"area\",\"sizeref\":0.044000000000000004},\"mode\":\"markers\",\"name\":\"La Maison Grivolas\",\"showlegend\":true,\"subplot\":\"mapbox\",\"type\":\"scattermapbox\"},{\"hovertemplate\":\"hotel_name=Maison XIXe et Jardin en Intramuros<br>ratings=%{marker.size}<br>lat=%{lat}<br>lon=%{lon}<extra></extra>\",\"lat\":[43.95034438],\"legendgroup\":\"Maison XIXe et Jardin en Intramuros\",\"lon\":[4.81153785],\"marker\":{\"color\":\"#00cc96\",\"size\":[9.1],\"sizemode\":\"area\",\"sizeref\":0.044000000000000004},\"mode\":\"markers\",\"name\":\"Maison XIXe et Jardin en Intramuros\",\"showlegend\":true,\"subplot\":\"mapbox\",\"type\":\"scattermapbox\"},{\"hovertemplate\":\"hotel_name=Clos des Arts Suspendus<br>ratings=%{marker.size}<br>lat=%{lat}<br>lon=%{lon}<extra></extra>\",\"lat\":[43.94562723],\"legendgroup\":\"Clos des Arts Suspendus\",\"lon\":[4.80969027],\"marker\":{\"color\":\"#ab63fa\",\"size\":[9.0],\"sizemode\":\"area\",\"sizeref\":0.044000000000000004},\"mode\":\"markers\",\"name\":\"Clos des Arts Suspendus\",\"showlegend\":true,\"subplot\":\"mapbox\",\"type\":\"scattermapbox\"},{\"hovertemplate\":\"hotel_name=Royal H\\u00f4tel<br>ratings=%{marker.size}<br>lat=%{lat}<br>lon=%{lon}<extra></extra>\",\"lat\":[43.8388151],\"legendgroup\":\"Royal H\\u00f4tel\",\"lon\":[4.35481846],\"marker\":{\"color\":\"#FFA15A\",\"size\":[8.1],\"sizemode\":\"area\",\"sizeref\":0.044000000000000004},\"mode\":\"markers\",\"name\":\"Royal H\\u00f4tel\",\"showlegend\":true,\"subplot\":\"mapbox\",\"type\":\"scattermapbox\"},{\"hovertemplate\":\"hotel_name=Maison Albar Hotels L\\u2019Imperator<br>ratings=%{marker.size}<br>lat=%{lat}<br>lon=%{lon}<extra></extra>\",\"lat\":[43.83866613],\"legendgroup\":\"Maison Albar Hotels L\\u2019Imperator\",\"lon\":[4.35276791],\"marker\":{\"color\":\"#19d3f3\",\"size\":[8.9],\"sizemode\":\"area\",\"sizeref\":0.044000000000000004},\"mode\":\"markers\",\"name\":\"Maison Albar Hotels L\\u2019Imperator\",\"showlegend\":true,\"subplot\":\"mapbox\",\"type\":\"scattermapbox\"},{\"hovertemplate\":\"hotel_name=H\\u00f4tel De L'Amphith\\u00e9\\u00e2tre<br>ratings=%{marker.size}<br>lat=%{lat}<br>lon=%{lon}<extra></extra>\",\"lat\":[43.83581534],\"legendgroup\":\"H\\u00f4tel De L'Amphith\\u00e9\\u00e2tre\",\"lon\":[4.35914017],\"marker\":{\"color\":\"#FF6692\",\"size\":[8.4],\"sizemode\":\"area\",\"sizeref\":0.044000000000000004},\"mode\":\"markers\",\"name\":\"H\\u00f4tel De L'Amphith\\u00e9\\u00e2tre\",\"showlegend\":true,\"subplot\":\"mapbox\",\"type\":\"scattermapbox\"},{\"hovertemplate\":\"hotel_name=Boutique H\\u00f4tel des Remparts & Spa<br>ratings=%{marker.size}<br>lat=%{lat}<br>lon=%{lon}<extra></extra>\",\"lat\":[43.56803552],\"legendgroup\":\"Boutique H\\u00f4tel des Remparts & Spa\",\"lon\":[4.1903438],\"marker\":{\"color\":\"#B6E880\",\"size\":[9.6],\"sizemode\":\"area\",\"sizeref\":0.044000000000000004},\"mode\":\"markers\",\"name\":\"Boutique H\\u00f4tel des Remparts & Spa\",\"showlegend\":true,\"subplot\":\"mapbox\",\"type\":\"scattermapbox\"},{\"hovertemplate\":\"hotel_name=Au C\\u0153ur des Remparts<br>ratings=%{marker.size}<br>lat=%{lat}<br>lon=%{lon}<extra></extra>\",\"lat\":[43.565401],\"legendgroup\":\"Au C\\u0153ur des Remparts\",\"lon\":[4.192973],\"marker\":{\"color\":\"#FF97FF\",\"size\":[9.9],\"sizemode\":\"area\",\"sizeref\":0.044000000000000004},\"mode\":\"markers\",\"name\":\"Au C\\u0153ur des Remparts\",\"showlegend\":true,\"subplot\":\"mapbox\",\"type\":\"scattermapbox\"},{\"hovertemplate\":\"hotel_name=Appartements 3 \\u00e9toiles terrasse ou patio intra-muros<br>ratings=%{marker.size}<br>lat=%{lat}<br>lon=%{lon}<extra></extra>\",\"lat\":[43.5653584],\"legendgroup\":\"Appartements 3 \\u00e9toiles terrasse ou patio intra-muros\",\"lon\":[4.1927502],\"marker\":{\"color\":\"#FECB52\",\"size\":[9.6],\"sizemode\":\"area\",\"sizeref\":0.044000000000000004},\"mode\":\"markers\",\"name\":\"Appartements 3 \\u00e9toiles terrasse ou patio intra-muros\",\"showlegend\":true,\"subplot\":\"mapbox\",\"type\":\"scattermapbox\"},{\"hovertemplate\":\"hotel_name=La Tramontane<br>ratings=%{marker.size}<br>lat=%{lat}<br>lon=%{lon}<extra></extra>\",\"lat\":[43.47260109],\"legendgroup\":\"La Tramontane\",\"lon\":[4.41012025],\"marker\":{\"color\":\"#636efa\",\"size\":[9.0],\"sizemode\":\"area\",\"sizeref\":0.044000000000000004},\"mode\":\"markers\",\"name\":\"La Tramontane\",\"showlegend\":true,\"subplot\":\"mapbox\",\"type\":\"scattermapbox\"},{\"hovertemplate\":\"hotel_name=Les Saintes au bord de mer<br>ratings=%{marker.size}<br>lat=%{lat}<br>lon=%{lon}<extra></extra>\",\"lat\":[43.4511962],\"legendgroup\":\"Les Saintes au bord de mer\",\"lon\":[4.4305069],\"marker\":{\"color\":\"#EF553B\",\"size\":[8.9],\"sizemode\":\"area\",\"sizeref\":0.044000000000000004},\"mode\":\"markers\",\"name\":\"Les Saintes au bord de mer\",\"showlegend\":true,\"subplot\":\"mapbox\",\"type\":\"scattermapbox\"},{\"hovertemplate\":\"hotel_name=Mas le Sauvageon<br>ratings=%{marker.size}<br>lat=%{lat}<br>lon=%{lon}<extra></extra>\",\"lat\":[43.48324784],\"legendgroup\":\"Mas le Sauvageon\",\"lon\":[4.39045474],\"marker\":{\"color\":\"#00cc96\",\"size\":[9.1],\"sizemode\":\"area\",\"sizeref\":0.044000000000000004},\"mode\":\"markers\",\"name\":\"Mas le Sauvageon\",\"showlegend\":true,\"subplot\":\"mapbox\",\"type\":\"scattermapbox\"},{\"hovertemplate\":\"hotel_name=BEL APPART COLLIOURE proche gare, centre et plage<br>ratings=%{marker.size}<br>lat=%{lat}<br>lon=%{lon}<extra></extra>\",\"lat\":[42.5261464],\"legendgroup\":\"BEL APPART COLLIOURE proche gare, centre et plage\",\"lon\":[3.0800641],\"marker\":{\"color\":\"#ab63fa\",\"size\":[9.3],\"sizemode\":\"area\",\"sizeref\":0.044000000000000004},\"mode\":\"markers\",\"name\":\"BEL APPART COLLIOURE proche gare, centre et plage\",\"showlegend\":true,\"subplot\":\"mapbox\",\"type\":\"scattermapbox\"},{\"hovertemplate\":\"hotel_name=SAPHIR - Superbe T2 Vue Mer et Montagne avec Piscine et Garage priv\\u00e9<br>ratings=%{marker.size}<br>lat=%{lat}<br>lon=%{lon}<extra></extra>\",\"lat\":[42.52685322],\"legendgroup\":\"SAPHIR - Superbe T2 Vue Mer et Montagne avec Piscine et Garage priv\\u00e9\",\"lon\":[3.07479878],\"marker\":{\"color\":\"#FFA15A\",\"size\":[9.7],\"sizemode\":\"area\",\"sizeref\":0.044000000000000004},\"mode\":\"markers\",\"name\":\"SAPHIR - Superbe T2 Vue Mer et Montagne avec Piscine et Garage priv\\u00e9\",\"showlegend\":true,\"subplot\":\"mapbox\",\"type\":\"scattermapbox\"},{\"hovertemplate\":\"hotel_name=L'\\u00e9quinoxe<br>ratings=%{marker.size}<br>lat=%{lat}<br>lon=%{lon}<extra></extra>\",\"lat\":[42.5271579],\"legendgroup\":\"L'\\u00e9quinoxe\",\"lon\":[3.0832689],\"marker\":{\"color\":\"#19d3f3\",\"size\":[9.8],\"sizemode\":\"area\",\"sizeref\":0.044000000000000004},\"mode\":\"markers\",\"name\":\"L'\\u00e9quinoxe\",\"showlegend\":true,\"subplot\":\"mapbox\",\"type\":\"scattermapbox\"},{\"hovertemplate\":\"hotel_name=Domaine Le Couvent<br>ratings=%{marker.size}<br>lat=%{lat}<br>lon=%{lon}<extra></extra>\",\"lat\":[43.21626207],\"legendgroup\":\"Domaine Le Couvent\",\"lon\":[2.28648797],\"marker\":{\"color\":\"#FF6692\",\"size\":[9.4],\"sizemode\":\"area\",\"sizeref\":0.044000000000000004},\"mode\":\"markers\",\"name\":\"Domaine Le Couvent\",\"showlegend\":true,\"subplot\":\"mapbox\",\"type\":\"scattermapbox\"},{\"hovertemplate\":\"hotel_name=Carcassonne Guesthouse<br>ratings=%{marker.size}<br>lat=%{lat}<br>lon=%{lon}<extra></extra>\",\"lat\":[43.20869364],\"legendgroup\":\"Carcassonne Guesthouse\",\"lon\":[2.35533625],\"marker\":{\"color\":\"#B6E880\",\"size\":[9.5],\"sizemode\":\"area\",\"sizeref\":0.044000000000000004},\"mode\":\"markers\",\"name\":\"Carcassonne Guesthouse\",\"showlegend\":true,\"subplot\":\"mapbox\",\"type\":\"scattermapbox\"},{\"hovertemplate\":\"hotel_name=Carcassonne Townhouse<br>ratings=%{marker.size}<br>lat=%{lat}<br>lon=%{lon}<extra></extra>\",\"lat\":[43.209841],\"legendgroup\":\"Carcassonne Townhouse\",\"lon\":[2.356905],\"marker\":{\"color\":\"#FF97FF\",\"size\":[9.4],\"sizemode\":\"area\",\"sizeref\":0.044000000000000004},\"mode\":\"markers\",\"name\":\"Carcassonne Townhouse\",\"showlegend\":true,\"subplot\":\"mapbox\",\"type\":\"scattermapbox\"},{\"hovertemplate\":\"hotel_name=Residhome Toulouse Ponts Jumeaux<br>ratings=%{marker.size}<br>lat=%{lat}<br>lon=%{lon}<extra></extra>\",\"lat\":[43.61177],\"legendgroup\":\"Residhome Toulouse Ponts Jumeaux\",\"lon\":[1.421825],\"marker\":{\"color\":\"#FECB52\",\"size\":[9.0],\"sizemode\":\"area\",\"sizeref\":0.044000000000000004},\"mode\":\"markers\",\"name\":\"Residhome Toulouse Ponts Jumeaux\",\"showlegend\":true,\"subplot\":\"mapbox\",\"type\":\"scattermapbox\"},{\"hovertemplate\":\"hotel_name=404 \\u00b7 Wonder Appart - Vue Garonne -<br>ratings=%{marker.size}<br>lat=%{lat}<br>lon=%{lon}<extra></extra>\",\"lat\":[43.5954533],\"legendgroup\":\"404 \\u00b7 Wonder Appart - Vue Garonne -\",\"lon\":[1.4411676],\"marker\":{\"color\":\"#636efa\",\"size\":[8.8],\"sizemode\":\"area\",\"sizeref\":0.044000000000000004},\"mode\":\"markers\",\"name\":\"404 \\u00b7 Wonder Appart - Vue Garonne -\",\"showlegend\":true,\"subplot\":\"mapbox\",\"type\":\"scattermapbox\"},{\"hovertemplate\":\"hotel_name=R\\u00e9sidence Bachelier<br>ratings=%{marker.size}<br>lat=%{lat}<br>lon=%{lon}<extra></extra>\",\"lat\":[43.6066999],\"legendgroup\":\"R\\u00e9sidence Bachelier\",\"lon\":[1.4523282],\"marker\":{\"color\":\"#EF553B\",\"size\":[8.8],\"sizemode\":\"area\",\"sizeref\":0.044000000000000004},\"mode\":\"markers\",\"name\":\"R\\u00e9sidence Bachelier\",\"showlegend\":true,\"subplot\":\"mapbox\",\"type\":\"scattermapbox\"},{\"hovertemplate\":\"hotel_name=Les Toits du Capitole - Loft de standing 65 m2 - Parking en option<br>ratings=%{marker.size}<br>lat=%{lat}<br>lon=%{lon}<extra></extra>\",\"lat\":[43.60510201],\"legendgroup\":\"Les Toits du Capitole - Loft de standing 65 m2 - Parking en option\",\"lon\":[1.44236863],\"marker\":{\"color\":\"#00cc96\",\"size\":[9.4],\"sizemode\":\"area\",\"sizeref\":0.044000000000000004},\"mode\":\"markers\",\"name\":\"Les Toits du Capitole - Loft de standing 65 m2 - Parking en option\",\"showlegend\":true,\"subplot\":\"mapbox\",\"type\":\"scattermapbox\"},{\"hovertemplate\":\"hotel_name=Castel Bois Marie<br>ratings=%{marker.size}<br>lat=%{lat}<br>lon=%{lon}<extra></extra>\",\"lat\":[43.979174],\"legendgroup\":\"Castel Bois Marie\",\"lon\":[1.309142],\"marker\":{\"color\":\"#ab63fa\",\"size\":[9.5],\"sizemode\":\"area\",\"sizeref\":0.044000000000000004},\"mode\":\"markers\",\"name\":\"Castel Bois Marie\",\"showlegend\":true,\"subplot\":\"mapbox\",\"type\":\"scattermapbox\"},{\"hovertemplate\":\"hotel_name=Manoir de la Gravette Maison & Table d'H\\u00f4tes<br>ratings=%{marker.size}<br>lat=%{lat}<br>lon=%{lon}<extra></extra>\",\"lat\":[44.04904337],\"legendgroup\":\"Manoir de la Gravette Maison & Table d'H\\u00f4tes\",\"lon\":[1.34388352],\"marker\":{\"color\":\"#FFA15A\",\"size\":[9.7],\"sizemode\":\"area\",\"sizeref\":0.044000000000000004},\"mode\":\"markers\",\"name\":\"Manoir de la Gravette Maison & Table d'H\\u00f4tes\",\"showlegend\":true,\"subplot\":\"mapbox\",\"type\":\"scattermapbox\"},{\"hovertemplate\":\"hotel_name=Cosy Red 4 Pers - Neuf et au Calme - Fibre-Netflix<br>ratings=%{marker.size}<br>lat=%{lat}<br>lon=%{lon}<extra></extra>\",\"lat\":[44.013431],\"legendgroup\":\"Cosy Red 4 Pers - Neuf et au Calme - Fibre-Netflix\",\"lon\":[1.3609724],\"marker\":{\"color\":\"#19d3f3\",\"size\":[9.6],\"sizemode\":\"area\",\"sizeref\":0.044000000000000004},\"mode\":\"markers\",\"name\":\"Cosy Red 4 Pers - Neuf et au Calme - Fibre-Netflix\",\"showlegend\":true,\"subplot\":\"mapbox\",\"type\":\"scattermapbox\"},{\"hovertemplate\":\"hotel_name=H\\u00f4tel Au Bon Coin<br>ratings=%{marker.size}<br>lat=%{lat}<br>lon=%{lon}<extra></extra>\",\"lat\":[43.4821737],\"legendgroup\":\"H\\u00f4tel Au Bon Coin\",\"lon\":[-1.5541904],\"marker\":{\"color\":\"#FF6692\",\"size\":[9.3],\"sizemode\":\"area\",\"sizeref\":0.044000000000000004},\"mode\":\"markers\",\"name\":\"H\\u00f4tel Au Bon Coin\",\"showlegend\":true,\"subplot\":\"mapbox\",\"type\":\"scattermapbox\"},{\"hovertemplate\":\"hotel_name=VILLA MARGA<br>ratings=%{marker.size}<br>lat=%{lat}<br>lon=%{lon}<extra></extra>\",\"lat\":[43.4823427],\"legendgroup\":\"VILLA MARGA\",\"lon\":[-1.5543166],\"marker\":{\"color\":\"#B6E880\",\"size\":[9.5],\"sizemode\":\"area\",\"sizeref\":0.044000000000000004},\"mode\":\"markers\",\"name\":\"VILLA MARGA\",\"showlegend\":true,\"subplot\":\"mapbox\",\"type\":\"scattermapbox\"},{\"hovertemplate\":\"hotel_name=Hotel Saint Julien<br>ratings=%{marker.size}<br>lat=%{lat}<br>lon=%{lon}<extra></extra>\",\"lat\":[43.479139],\"legendgroup\":\"Hotel Saint Julien\",\"lon\":[-1.56227544],\"marker\":{\"color\":\"#FF97FF\",\"size\":[9.3],\"sizemode\":\"area\",\"sizeref\":0.044000000000000004},\"mode\":\"markers\",\"name\":\"Hotel Saint Julien\",\"showlegend\":true,\"subplot\":\"mapbox\",\"type\":\"scattermapbox\"},{\"hovertemplate\":\"hotel_name=Parc 709 Bayonne<br>ratings=%{marker.size}<br>lat=%{lat}<br>lon=%{lon}<extra></extra>\",\"lat\":[43.495606],\"legendgroup\":\"Parc 709 Bayonne\",\"lon\":[-1.481317],\"marker\":{\"color\":\"#FECB52\",\"size\":[9.4],\"sizemode\":\"area\",\"sizeref\":0.044000000000000004},\"mode\":\"markers\",\"name\":\"Parc 709 Bayonne\",\"showlegend\":true,\"subplot\":\"mapbox\",\"type\":\"scattermapbox\"},{\"hovertemplate\":\"hotel_name=P\\u00e9niche DJEBELLE<br>ratings=%{marker.size}<br>lat=%{lat}<br>lon=%{lon}<extra></extra>\",\"lat\":[43.496335],\"legendgroup\":\"P\\u00e9niche DJEBELLE\",\"lon\":[-1.473749],\"marker\":{\"color\":\"#636efa\",\"size\":[9.5],\"sizemode\":\"area\",\"sizeref\":0.044000000000000004},\"mode\":\"markers\",\"name\":\"P\\u00e9niche DJEBELLE\",\"showlegend\":true,\"subplot\":\"mapbox\",\"type\":\"scattermapbox\"},{\"hovertemplate\":\"hotel_name=La Chambre d'Hote de Mano - Centre-ville de Bayonne<br>ratings=%{marker.size}<br>lat=%{lat}<br>lon=%{lon}<extra></extra>\",\"lat\":[43.49530232],\"legendgroup\":\"La Chambre d'Hote de Mano - Centre-ville de Bayonne\",\"lon\":[-1.46939464],\"marker\":{\"color\":\"#EF553B\",\"size\":[9.7],\"sizemode\":\"area\",\"sizeref\":0.044000000000000004},\"mode\":\"markers\",\"name\":\"La Chambre d'Hote de Mano - Centre-ville de Bayonne\",\"showlegend\":true,\"subplot\":\"mapbox\",\"type\":\"scattermapbox\"},{\"hovertemplate\":\"hotel_name=Central Park H\\u00f4tel & Spa<br>ratings=%{marker.size}<br>lat=%{lat}<br>lon=%{lon}<extra></extra>\",\"lat\":[46.145995],\"legendgroup\":\"Central Park H\\u00f4tel & Spa\",\"lon\":[-1.152398],\"marker\":{\"color\":\"#00cc96\",\"size\":[8.7],\"sizemode\":\"area\",\"sizeref\":0.044000000000000004},\"mode\":\"markers\",\"name\":\"Central Park H\\u00f4tel & Spa\",\"showlegend\":true,\"subplot\":\"mapbox\",\"type\":\"scattermapbox\"},{\"hovertemplate\":\"hotel_name=Les Halles 2<br>ratings=%{marker.size}<br>lat=%{lat}<br>lon=%{lon}<extra></extra>\",\"lat\":[46.161422],\"legendgroup\":\"Les Halles 2\",\"lon\":[-1.149162],\"marker\":{\"color\":\"#ab63fa\",\"size\":[8.9],\"sizemode\":\"area\",\"sizeref\":0.044000000000000004},\"mode\":\"markers\",\"name\":\"Les Halles 2\",\"showlegend\":true,\"subplot\":\"mapbox\",\"type\":\"scattermapbox\"},{\"hovertemplate\":\"hotel_name=Les Halles 1<br>ratings=%{marker.size}<br>lat=%{lat}<br>lon=%{lon}<extra></extra>\",\"lat\":[46.1614215],\"legendgroup\":\"Les Halles 1\",\"lon\":[-1.1491622],\"marker\":{\"color\":\"#FFA15A\",\"size\":[8.7],\"sizemode\":\"area\",\"sizeref\":0.044000000000000004},\"mode\":\"markers\",\"name\":\"Les Halles 1\",\"showlegend\":true,\"subplot\":\"mapbox\",\"type\":\"scattermapbox\"}],                        {\"template\":{\"data\":{\"bar\":[{\"error_x\":{\"color\":\"#2a3f5f\"},\"error_y\":{\"color\":\"#2a3f5f\"},\"marker\":{\"line\":{\"color\":\"#E5ECF6\",\"width\":0.5},\"pattern\":{\"fillmode\":\"overlay\",\"size\":10,\"solidity\":0.2}},\"type\":\"bar\"}],\"barpolar\":[{\"marker\":{\"line\":{\"color\":\"#E5ECF6\",\"width\":0.5},\"pattern\":{\"fillmode\":\"overlay\",\"size\":10,\"solidity\":0.2}},\"type\":\"barpolar\"}],\"carpet\":[{\"aaxis\":{\"endlinecolor\":\"#2a3f5f\",\"gridcolor\":\"white\",\"linecolor\":\"white\",\"minorgridcolor\":\"white\",\"startlinecolor\":\"#2a3f5f\"},\"baxis\":{\"endlinecolor\":\"#2a3f5f\",\"gridcolor\":\"white\",\"linecolor\":\"white\",\"minorgridcolor\":\"white\",\"startlinecolor\":\"#2a3f5f\"},\"type\":\"carpet\"}],\"choropleth\":[{\"colorbar\":{\"outlinewidth\":0,\"ticks\":\"\"},\"type\":\"choropleth\"}],\"contour\":[{\"colorbar\":{\"outlinewidth\":0,\"ticks\":\"\"},\"colorscale\":[[0.0,\"#0d0887\"],[0.1111111111111111,\"#46039f\"],[0.2222222222222222,\"#7201a8\"],[0.3333333333333333,\"#9c179e\"],[0.4444444444444444,\"#bd3786\"],[0.5555555555555556,\"#d8576b\"],[0.6666666666666666,\"#ed7953\"],[0.7777777777777778,\"#fb9f3a\"],[0.8888888888888888,\"#fdca26\"],[1.0,\"#f0f921\"]],\"type\":\"contour\"}],\"contourcarpet\":[{\"colorbar\":{\"outlinewidth\":0,\"ticks\":\"\"},\"type\":\"contourcarpet\"}],\"heatmap\":[{\"colorbar\":{\"outlinewidth\":0,\"ticks\":\"\"},\"colorscale\":[[0.0,\"#0d0887\"],[0.1111111111111111,\"#46039f\"],[0.2222222222222222,\"#7201a8\"],[0.3333333333333333,\"#9c179e\"],[0.4444444444444444,\"#bd3786\"],[0.5555555555555556,\"#d8576b\"],[0.6666666666666666,\"#ed7953\"],[0.7777777777777778,\"#fb9f3a\"],[0.8888888888888888,\"#fdca26\"],[1.0,\"#f0f921\"]],\"type\":\"heatmap\"}],\"heatmapgl\":[{\"colorbar\":{\"outlinewidth\":0,\"ticks\":\"\"},\"colorscale\":[[0.0,\"#0d0887\"],[0.1111111111111111,\"#46039f\"],[0.2222222222222222,\"#7201a8\"],[0.3333333333333333,\"#9c179e\"],[0.4444444444444444,\"#bd3786\"],[0.5555555555555556,\"#d8576b\"],[0.6666666666666666,\"#ed7953\"],[0.7777777777777778,\"#fb9f3a\"],[0.8888888888888888,\"#fdca26\"],[1.0,\"#f0f921\"]],\"type\":\"heatmapgl\"}],\"histogram\":[{\"marker\":{\"pattern\":{\"fillmode\":\"overlay\",\"size\":10,\"solidity\":0.2}},\"type\":\"histogram\"}],\"histogram2d\":[{\"colorbar\":{\"outlinewidth\":0,\"ticks\":\"\"},\"colorscale\":[[0.0,\"#0d0887\"],[0.1111111111111111,\"#46039f\"],[0.2222222222222222,\"#7201a8\"],[0.3333333333333333,\"#9c179e\"],[0.4444444444444444,\"#bd3786\"],[0.5555555555555556,\"#d8576b\"],[0.6666666666666666,\"#ed7953\"],[0.7777777777777778,\"#fb9f3a\"],[0.8888888888888888,\"#fdca26\"],[1.0,\"#f0f921\"]],\"type\":\"histogram2d\"}],\"histogram2dcontour\":[{\"colorbar\":{\"outlinewidth\":0,\"ticks\":\"\"},\"colorscale\":[[0.0,\"#0d0887\"],[0.1111111111111111,\"#46039f\"],[0.2222222222222222,\"#7201a8\"],[0.3333333333333333,\"#9c179e\"],[0.4444444444444444,\"#bd3786\"],[0.5555555555555556,\"#d8576b\"],[0.6666666666666666,\"#ed7953\"],[0.7777777777777778,\"#fb9f3a\"],[0.8888888888888888,\"#fdca26\"],[1.0,\"#f0f921\"]],\"type\":\"histogram2dcontour\"}],\"mesh3d\":[{\"colorbar\":{\"outlinewidth\":0,\"ticks\":\"\"},\"type\":\"mesh3d\"}],\"parcoords\":[{\"line\":{\"colorbar\":{\"outlinewidth\":0,\"ticks\":\"\"}},\"type\":\"parcoords\"}],\"pie\":[{\"automargin\":true,\"type\":\"pie\"}],\"scatter\":[{\"marker\":{\"colorbar\":{\"outlinewidth\":0,\"ticks\":\"\"}},\"type\":\"scatter\"}],\"scatter3d\":[{\"line\":{\"colorbar\":{\"outlinewidth\":0,\"ticks\":\"\"}},\"marker\":{\"colorbar\":{\"outlinewidth\":0,\"ticks\":\"\"}},\"type\":\"scatter3d\"}],\"scattercarpet\":[{\"marker\":{\"colorbar\":{\"outlinewidth\":0,\"ticks\":\"\"}},\"type\":\"scattercarpet\"}],\"scattergeo\":[{\"marker\":{\"colorbar\":{\"outlinewidth\":0,\"ticks\":\"\"}},\"type\":\"scattergeo\"}],\"scattergl\":[{\"marker\":{\"colorbar\":{\"outlinewidth\":0,\"ticks\":\"\"}},\"type\":\"scattergl\"}],\"scattermapbox\":[{\"marker\":{\"colorbar\":{\"outlinewidth\":0,\"ticks\":\"\"}},\"type\":\"scattermapbox\"}],\"scatterpolar\":[{\"marker\":{\"colorbar\":{\"outlinewidth\":0,\"ticks\":\"\"}},\"type\":\"scatterpolar\"}],\"scatterpolargl\":[{\"marker\":{\"colorbar\":{\"outlinewidth\":0,\"ticks\":\"\"}},\"type\":\"scatterpolargl\"}],\"scatterternary\":[{\"marker\":{\"colorbar\":{\"outlinewidth\":0,\"ticks\":\"\"}},\"type\":\"scatterternary\"}],\"surface\":[{\"colorbar\":{\"outlinewidth\":0,\"ticks\":\"\"},\"colorscale\":[[0.0,\"#0d0887\"],[0.1111111111111111,\"#46039f\"],[0.2222222222222222,\"#7201a8\"],[0.3333333333333333,\"#9c179e\"],[0.4444444444444444,\"#bd3786\"],[0.5555555555555556,\"#d8576b\"],[0.6666666666666666,\"#ed7953\"],[0.7777777777777778,\"#fb9f3a\"],[0.8888888888888888,\"#fdca26\"],[1.0,\"#f0f921\"]],\"type\":\"surface\"}],\"table\":[{\"cells\":{\"fill\":{\"color\":\"#EBF0F8\"},\"line\":{\"color\":\"white\"}},\"header\":{\"fill\":{\"color\":\"#C8D4E3\"},\"line\":{\"color\":\"white\"}},\"type\":\"table\"}]},\"layout\":{\"annotationdefaults\":{\"arrowcolor\":\"#2a3f5f\",\"arrowhead\":0,\"arrowwidth\":1},\"autotypenumbers\":\"strict\",\"coloraxis\":{\"colorbar\":{\"outlinewidth\":0,\"ticks\":\"\"}},\"colorscale\":{\"diverging\":[[0,\"#8e0152\"],[0.1,\"#c51b7d\"],[0.2,\"#de77ae\"],[0.3,\"#f1b6da\"],[0.4,\"#fde0ef\"],[0.5,\"#f7f7f7\"],[0.6,\"#e6f5d0\"],[0.7,\"#b8e186\"],[0.8,\"#7fbc41\"],[0.9,\"#4d9221\"],[1,\"#276419\"]],\"sequential\":[[0.0,\"#0d0887\"],[0.1111111111111111,\"#46039f\"],[0.2222222222222222,\"#7201a8\"],[0.3333333333333333,\"#9c179e\"],[0.4444444444444444,\"#bd3786\"],[0.5555555555555556,\"#d8576b\"],[0.6666666666666666,\"#ed7953\"],[0.7777777777777778,\"#fb9f3a\"],[0.8888888888888888,\"#fdca26\"],[1.0,\"#f0f921\"]],\"sequentialminus\":[[0.0,\"#0d0887\"],[0.1111111111111111,\"#46039f\"],[0.2222222222222222,\"#7201a8\"],[0.3333333333333333,\"#9c179e\"],[0.4444444444444444,\"#bd3786\"],[0.5555555555555556,\"#d8576b\"],[0.6666666666666666,\"#ed7953\"],[0.7777777777777778,\"#fb9f3a\"],[0.8888888888888888,\"#fdca26\"],[1.0,\"#f0f921\"]]},\"colorway\":[\"#636efa\",\"#EF553B\",\"#00cc96\",\"#ab63fa\",\"#FFA15A\",\"#19d3f3\",\"#FF6692\",\"#B6E880\",\"#FF97FF\",\"#FECB52\"],\"font\":{\"color\":\"#2a3f5f\"},\"geo\":{\"bgcolor\":\"white\",\"lakecolor\":\"white\",\"landcolor\":\"#E5ECF6\",\"showlakes\":true,\"showland\":true,\"subunitcolor\":\"white\"},\"hoverlabel\":{\"align\":\"left\"},\"hovermode\":\"closest\",\"mapbox\":{\"style\":\"light\"},\"paper_bgcolor\":\"white\",\"plot_bgcolor\":\"#E5ECF6\",\"polar\":{\"angularaxis\":{\"gridcolor\":\"white\",\"linecolor\":\"white\",\"ticks\":\"\"},\"bgcolor\":\"#E5ECF6\",\"radialaxis\":{\"gridcolor\":\"white\",\"linecolor\":\"white\",\"ticks\":\"\"}},\"scene\":{\"xaxis\":{\"backgroundcolor\":\"#E5ECF6\",\"gridcolor\":\"white\",\"gridwidth\":2,\"linecolor\":\"white\",\"showbackground\":true,\"ticks\":\"\",\"zerolinecolor\":\"white\"},\"yaxis\":{\"backgroundcolor\":\"#E5ECF6\",\"gridcolor\":\"white\",\"gridwidth\":2,\"linecolor\":\"white\",\"showbackground\":true,\"ticks\":\"\",\"zerolinecolor\":\"white\"},\"zaxis\":{\"backgroundcolor\":\"#E5ECF6\",\"gridcolor\":\"white\",\"gridwidth\":2,\"linecolor\":\"white\",\"showbackground\":true,\"ticks\":\"\",\"zerolinecolor\":\"white\"}},\"shapedefaults\":{\"line\":{\"color\":\"#2a3f5f\"}},\"ternary\":{\"aaxis\":{\"gridcolor\":\"white\",\"linecolor\":\"white\",\"ticks\":\"\"},\"baxis\":{\"gridcolor\":\"white\",\"linecolor\":\"white\",\"ticks\":\"\"},\"bgcolor\":\"#E5ECF6\",\"caxis\":{\"gridcolor\":\"white\",\"linecolor\":\"white\",\"ticks\":\"\"}},\"title\":{\"x\":0.05},\"xaxis\":{\"automargin\":true,\"gridcolor\":\"white\",\"linecolor\":\"white\",\"ticks\":\"\",\"title\":{\"standoff\":15},\"zerolinecolor\":\"white\",\"zerolinewidth\":2},\"yaxis\":{\"automargin\":true,\"gridcolor\":\"white\",\"linecolor\":\"white\",\"ticks\":\"\",\"title\":{\"standoff\":15},\"zerolinecolor\":\"white\",\"zerolinewidth\":2}}},\"mapbox\":{\"domain\":{\"x\":[0.0,1.0],\"y\":[0.0,1.0]},\"center\":{\"lat\":45.88280094947368,\"lon\":3.2453961838947367},\"zoom\":4,\"style\":\"carto-positron\"},\"legend\":{\"title\":{\"text\":\"hotel_name\"},\"tracegroupgap\":0,\"itemsizing\":\"constant\"},\"margin\":{\"t\":60}},                        {\"responsive\": true}                    ).then(function(){\n",
       "                            \n",
       "var gd = document.getElementById('a22af906-8343-4347-93eb-65616671ea85');\n",
       "var x = new MutationObserver(function (mutations, observer) {{\n",
       "        var display = window.getComputedStyle(gd).display;\n",
       "        if (!display || display === 'none') {{\n",
       "            console.log([gd, 'removed!']);\n",
       "            Plotly.purge(gd);\n",
       "            observer.disconnect();\n",
       "        }}\n",
       "}});\n",
       "\n",
       "// Listen for the removal of the full notebook cells\n",
       "var notebookContainer = gd.closest('#notebook-container');\n",
       "if (notebookContainer) {{\n",
       "    x.observe(notebookContainer, {childList: true});\n",
       "}}\n",
       "\n",
       "// Listen for the clearing of the current output cell\n",
       "var outputEl = gd.closest('.output');\n",
       "if (outputEl) {{\n",
       "    x.observe(outputEl, {childList: true});\n",
       "}}\n",
       "\n",
       "                        })                };                });            </script>        </div>"
      ]
     },
     "metadata": {},
     "output_type": "display_data"
    }
   ],
   "source": [
    "fig = px.scatter_mapbox(top_hotels, lat='lat', lon='lon', mapbox_style='carto-positron', color='hotel_name', size='ratings',size_max=15, zoom=4)\n",
    "fig.show()"
   ]
  },
  {
   "cell_type": "code",
   "execution_count": null,
   "id": "85fd7b80-065b-4810-8bcb-4e86537afc05",
   "metadata": {},
   "outputs": [],
   "source": [
    "import plotly.express as px\n",
    "px.set_mapbox_access_token(open(\".mapbox_token\").read())\n",
    "df = px.data.carshare()\n",
    "fig = px.scatter_mapbox(df, lat=\"centroid_lat\", lon=\"centroid_lon\",     color=\"peak_hour\", size=\"car_hours\",\n",
    "                  color_continuous_scale=px.colors.cyclical.IceFire, size_max=15, zoom=10)\n",
    "fig.show()"
   ]
  },
  {
   "cell_type": "code",
   "execution_count": null,
   "id": "479190df-ab2a-4ab8-a990-f81e96db06d4",
   "metadata": {
    "jupyter": {
     "source_hidden": true
    },
    "tags": []
   },
   "outputs": [],
   "source": [
    "fig = px.scatter_mapbox()"
   ]
  },
  {
   "cell_type": "code",
   "execution_count": null,
   "id": "deafb968-6b51-4d87-a245-73d06fd7862a",
   "metadata": {},
   "outputs": [],
   "source": []
  },
  {
   "cell_type": "code",
   "execution_count": null,
   "id": "4608a159-05dd-4eac-8635-1bb045a85f7b",
   "metadata": {},
   "outputs": [],
   "source": [
    "fig = px.scatter_mapbox(df_car, lat=\"centroid_lat\", lon=\"centroid_lon\", color=\"peak_hour\", size=\"car_hours\", zoom=10, mapbox_style=\"carto-positron\")\n",
    "fig.show()"
   ]
  }
 ],
 "metadata": {
  "kernelspec": {
   "display_name": "Python 3 (ipykernel)",
   "language": "python",
   "name": "python3"
  },
  "language_info": {
   "codemirror_mode": {
    "name": "ipython",
    "version": 3
   },
   "file_extension": ".py",
   "mimetype": "text/x-python",
   "name": "python",
   "nbconvert_exporter": "python",
   "pygments_lexer": "ipython3",
   "version": "3.9.7"
  }
 },
 "nbformat": 4,
 "nbformat_minor": 5
}
